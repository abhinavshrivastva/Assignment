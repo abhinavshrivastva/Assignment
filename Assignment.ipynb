{
  "nbformat": 4,
  "nbformat_minor": 0,
  "metadata": {
    "colab": {
      "provenance": [],
      "gpuType": "T4",
      "authorship_tag": "ABX9TyOg9HkJR6RTj3KBdeKfHg2l",
      "include_colab_link": true
    },
    "kernelspec": {
      "name": "python3",
      "display_name": "Python 3"
    },
    "language_info": {
      "name": "python"
    },
    "accelerator": "GPU"
  },
  "cells": [
    {
      "cell_type": "markdown",
      "metadata": {
        "id": "view-in-github",
        "colab_type": "text"
      },
      "source": [
        "<a href=\"https://colab.research.google.com/github/abhinavshrivastva/Assignment/blob/main/Assignment.ipynb\" target=\"_parent\"><img src=\"https://colab.research.google.com/assets/colab-badge.svg\" alt=\"Open In Colab\"/></a>"
      ]
    },
    {
      "cell_type": "markdown",
      "source": [
        "# Hindi Text Classification as NFSW or FSW\n",
        "You are provided with a dataset containing sentences and their corresponding labels. Your task is to train a machine learning model that accurately predicts the label of each sentence based on its content. You also have the option to finetune any of the open source models. Ensure that your solution includes preprocessing, model selection, training, and evaluation steps. Once done, share the complete code and a brief summary of your approach and results. You are expected to share a github repo link. Good luck!\n",
        "\n",
        "Dataset will only contain two column sentences and labels.\n",
        "0 -> SFW\n",
        "1 -> NSFW\n",
        "\n",
        "\n",
        "For Example,\n",
        "```\n",
        "मुझे आंटी की बातों का मर्म ये समझ में आया कि इस सब गुस्से की वजह रात को अंकल ज्यादा देर तक आंटी की चुदाई नहीं कर पाते हैं और आंटी को शांत नहीं कर पाते हैं - 1\n",
        "सब तुम्हारी वजह से - 0\n",
        "```\n"
      ],
      "metadata": {
        "id": "PSVGv_P7zqVb"
      }
    },
    {
      "cell_type": "markdown",
      "source": [
        "## Uploading the dataset"
      ],
      "metadata": {
        "id": "7Kcx0IXX1Qyy"
      }
    },
    {
      "cell_type": "code",
      "source": [
        "pip install pandas\n"
      ],
      "metadata": {
        "colab": {
          "base_uri": "https://localhost:8080/"
        },
        "id": "B1WnlEZI1QYc",
        "outputId": "6711f33b-974c-4136-b66b-6253f3c78bc5"
      },
      "execution_count": 1,
      "outputs": [
        {
          "output_type": "stream",
          "name": "stdout",
          "text": [
            "Requirement already satisfied: pandas in /usr/local/lib/python3.10/dist-packages (1.5.3)\n",
            "Requirement already satisfied: python-dateutil>=2.8.1 in /usr/local/lib/python3.10/dist-packages (from pandas) (2.8.2)\n",
            "Requirement already satisfied: pytz>=2020.1 in /usr/local/lib/python3.10/dist-packages (from pandas) (2023.3.post1)\n",
            "Requirement already satisfied: numpy>=1.21.0 in /usr/local/lib/python3.10/dist-packages (from pandas) (1.23.5)\n",
            "Requirement already satisfied: six>=1.5 in /usr/local/lib/python3.10/dist-packages (from python-dateutil>=2.8.1->pandas) (1.16.0)\n"
          ]
        }
      ]
    },
    {
      "cell_type": "code",
      "source": [
        "import pandas as pd\n",
        "\n",
        "# Read the CSV file into a Pandas DataFrame\n",
        "df = pd.read_csv('30k_sample.csv')\n",
        "\n",
        "# Check the first few rows of the DataFrame\n",
        "print(df.head())"
      ],
      "metadata": {
        "colab": {
          "base_uri": "https://localhost:8080/"
        },
        "id": "nfLJwZqk7bbs",
        "outputId": "208b5a64-69bf-4dd1-d19d-e790ce3d8272"
      },
      "execution_count": 2,
      "outputs": [
        {
          "output_type": "stream",
          "name": "stdout",
          "text": [
            "   Unnamed: 0                                           sentence  label\n",
            "0       27869     रहने दो तुम रेस्ट करो।दीप्ति - ठीक है डार्लिंग      1\n",
            "1       22322  मैं आज एक हिजड़े से चूत चुदवा कर वो खुशी पा चुक...      1\n",
            "2       27125   मेरी प्रियंका दीदी के ऊपरी बदन का तो और भी बु...      1\n",
            "3       38243  मुझे आंटी की बातों का मर्म ये समझ में आया कि इ...      1\n",
            "4        4637                                 सब तुम्हारी वजह से      0\n"
          ]
        }
      ]
    },
    {
      "cell_type": "markdown",
      "source": [
        "## Data Cleaning"
      ],
      "metadata": {
        "id": "TznQpVcAJZwy"
      }
    },
    {
      "cell_type": "markdown",
      "source": [
        "To remove all empty sentences from the dataset,each sentence was checked for content, and any sentence with no discernible content was removed."
      ],
      "metadata": {
        "id": "vPkWNIGwINmq"
      }
    },
    {
      "cell_type": "code",
      "source": [
        "# Remove sentences with all spaces\n",
        "df = df[df['sentence'].str.strip() != '']\n",
        "\n",
        "# Check the first few rows of the cleaned DataFrame\n",
        "print(\"After removing sentences with all spaces:\")\n",
        "print(df.head())\n",
        "\n",
        "# To check the number of rows and columns in the cleaned DataFrame\n",
        "num_rows, num_columns = df.shape\n",
        "print(f\"Number of rows after cleaning step 1: {num_rows}\")\n",
        "print(f\"Number of columns: {num_columns}\")\n"
      ],
      "metadata": {
        "colab": {
          "base_uri": "https://localhost:8080/"
        },
        "id": "Wlre2pQt7XQm",
        "outputId": "9d4b844f-22e6-4f28-85f2-7f3953f8c5fc"
      },
      "execution_count": 3,
      "outputs": [
        {
          "output_type": "stream",
          "name": "stdout",
          "text": [
            "After removing sentences with all spaces:\n",
            "   Unnamed: 0                                           sentence  label\n",
            "0       27869     रहने दो तुम रेस्ट करो।दीप्ति - ठीक है डार्लिंग      1\n",
            "1       22322  मैं आज एक हिजड़े से चूत चुदवा कर वो खुशी पा चुक...      1\n",
            "2       27125   मेरी प्रियंका दीदी के ऊपरी बदन का तो और भी बु...      1\n",
            "3       38243  मुझे आंटी की बातों का मर्म ये समझ में आया कि इ...      1\n",
            "4        4637                                 सब तुम्हारी वजह से      0\n",
            "Number of rows after cleaning step 1: 29257\n",
            "Number of columns: 3\n"
          ]
        }
      ]
    },
    {
      "cell_type": "markdown",
      "source": [
        "This code defines a Python function, `remove_emojis`, which utilizes a regular expression to remove emojis from text. It compiles a regex pattern that matches a wide range of emojis across different Unicode code point ranges. This function is then applied to the 'sentence' column. Emojis in the sentences are replaced with empty strings, effectively removing them. Finally, the code prints the first few rows of the DataFrame to display the content after the emojis have been removed, providing a clean text dataset with emojis removed."
      ],
      "metadata": {
        "id": "D1Cfe7WhImMk"
      }
    },
    {
      "cell_type": "code",
      "source": [
        "import re\n",
        "\n",
        "# Function to remove emojis from a text using a regular expression\n",
        "def remove_emojis(text):\n",
        "    emoji_pattern = re.compile(\"[\"\n",
        "                               u\"\\U0001F600-\\U0001F64F\"  # Emojis in the first group\n",
        "                               u\"\\U0001F300-\\U0001F5FF\"  # Emojis in the second group\n",
        "                               u\"\\U0001F680-\\U0001F6FF\"  # Emojis in the third group\n",
        "                               u\"\\U0001F700-\\U0001F77F\"  # Emojis in the fourth group\n",
        "                               \"]+\", flags=re.UNICODE)\n",
        "    return emoji_pattern.sub(r'', text)\n",
        "\n",
        "# Apply the remove_emojis function to the 'sentence' column\n",
        "df['sentence'] = df['sentence'].apply(remove_emojis)\n",
        "\n",
        "# Check the first few rows of the DataFrame after removing emojis\n",
        "print(\"After removing emojis:\")\n",
        "print(df.head())\n"
      ],
      "metadata": {
        "colab": {
          "base_uri": "https://localhost:8080/"
        },
        "id": "7I8ZpZob7pyu",
        "outputId": "746da7e9-3a11-4ddf-a41c-2ac5970d75c9"
      },
      "execution_count": 4,
      "outputs": [
        {
          "output_type": "stream",
          "name": "stdout",
          "text": [
            "After removing emojis:\n",
            "   Unnamed: 0                                           sentence  label\n",
            "0       27869     रहने दो तुम रेस्ट करो।दीप्ति - ठीक है डार्लिंग      1\n",
            "1       22322  मैं आज एक हिजड़े से चूत चुदवा कर वो खुशी पा चुक...      1\n",
            "2       27125   मेरी प्रियंका दीदी के ऊपरी बदन का तो और भी बु...      1\n",
            "3       38243  मुझे आंटी की बातों का मर्म ये समझ में आया कि इ...      1\n",
            "4        4637                                 सब तुम्हारी वजह से      0\n"
          ]
        }
      ]
    },
    {
      "cell_type": "markdown",
      "source": [
        "## Data Preprocessing"
      ],
      "metadata": {
        "id": "gqYuG0wmz1Ec"
      }
    },
    {
      "cell_type": "markdown",
      "source": [
        "The Indic NLP library is a Python library designed to work with Indian languages. It offers a range of language processing tools and resources for Indian languages, including tokenization, sentence segmentation, and transliteration. Indic NLP facilitates natural language processing tasks in languages such as Hindi, Bengali, Telugu, and many others, making it a valuable resource for researchers and developers working on Indian language-based applications, text analysis, and linguistic studies."
      ],
      "metadata": {
        "id": "IM2B4Yl9rIPT"
      }
    },
    {
      "cell_type": "code",
      "source": [
        "pip install indic-nlp-library\n"
      ],
      "metadata": {
        "id": "MLy83BWGNXY8",
        "colab": {
          "base_uri": "https://localhost:8080/"
        },
        "outputId": "73240588-3972-4822-cf9a-6c54fa4d4a91"
      },
      "execution_count": null,
      "outputs": [
        {
          "output_type": "stream",
          "name": "stdout",
          "text": [
            "Collecting indic-nlp-library\n",
            "  Downloading indic_nlp_library-0.92-py3-none-any.whl (40 kB)\n",
            "\u001b[?25l     \u001b[90m━━━━━━━━━━━━━━━━━━━━━━━━━━━━━━━━━━━━━━━━\u001b[0m \u001b[32m0.0/40.3 kB\u001b[0m \u001b[31m?\u001b[0m eta \u001b[36m-:--:--\u001b[0m\r\u001b[2K     \u001b[90m━━━━━━━━━━━━━━━━━━━━━━━━━━━━━━━━━━━━━━━━\u001b[0m \u001b[32m40.3/40.3 kB\u001b[0m \u001b[31m1.3 MB/s\u001b[0m eta \u001b[36m0:00:00\u001b[0m\n",
            "\u001b[?25hCollecting sphinx-argparse (from indic-nlp-library)\n",
            "  Downloading sphinx_argparse-0.4.0-py3-none-any.whl (12 kB)\n",
            "Collecting sphinx-rtd-theme (from indic-nlp-library)\n",
            "  Downloading sphinx_rtd_theme-1.3.0-py2.py3-none-any.whl (2.8 MB)\n",
            "\u001b[2K     \u001b[90m━━━━━━━━━━━━━━━━━━━━━━━━━━━━━━━━━━━━━━━━\u001b[0m \u001b[32m2.8/2.8 MB\u001b[0m \u001b[31m34.0 MB/s\u001b[0m eta \u001b[36m0:00:00\u001b[0m\n",
            "\u001b[?25hCollecting morfessor (from indic-nlp-library)\n",
            "  Downloading Morfessor-2.0.6-py3-none-any.whl (35 kB)\n",
            "Requirement already satisfied: pandas in /usr/local/lib/python3.10/dist-packages (from indic-nlp-library) (1.5.3)\n",
            "Requirement already satisfied: numpy in /usr/local/lib/python3.10/dist-packages (from indic-nlp-library) (1.23.5)\n",
            "Requirement already satisfied: python-dateutil>=2.8.1 in /usr/local/lib/python3.10/dist-packages (from pandas->indic-nlp-library) (2.8.2)\n",
            "Requirement already satisfied: pytz>=2020.1 in /usr/local/lib/python3.10/dist-packages (from pandas->indic-nlp-library) (2023.3.post1)\n",
            "Requirement already satisfied: sphinx>=1.2.0 in /usr/local/lib/python3.10/dist-packages (from sphinx-argparse->indic-nlp-library) (5.0.2)\n",
            "Requirement already satisfied: docutils<0.19 in /usr/local/lib/python3.10/dist-packages (from sphinx-rtd-theme->indic-nlp-library) (0.18.1)\n",
            "Collecting sphinxcontrib-jquery<5,>=4 (from sphinx-rtd-theme->indic-nlp-library)\n",
            "  Downloading sphinxcontrib_jquery-4.1-py2.py3-none-any.whl (121 kB)\n",
            "\u001b[2K     \u001b[90m━━━━━━━━━━━━━━━━━━━━━━━━━━━━━━━━━━━━━━━━\u001b[0m \u001b[32m121.1/121.1 kB\u001b[0m \u001b[31m18.0 MB/s\u001b[0m eta \u001b[36m0:00:00\u001b[0m\n",
            "\u001b[?25hRequirement already satisfied: six>=1.5 in /usr/local/lib/python3.10/dist-packages (from python-dateutil>=2.8.1->pandas->indic-nlp-library) (1.16.0)\n",
            "Requirement already satisfied: sphinxcontrib-applehelp in /usr/local/lib/python3.10/dist-packages (from sphinx>=1.2.0->sphinx-argparse->indic-nlp-library) (1.0.7)\n",
            "Requirement already satisfied: sphinxcontrib-devhelp in /usr/local/lib/python3.10/dist-packages (from sphinx>=1.2.0->sphinx-argparse->indic-nlp-library) (1.0.5)\n",
            "Requirement already satisfied: sphinxcontrib-jsmath in /usr/local/lib/python3.10/dist-packages (from sphinx>=1.2.0->sphinx-argparse->indic-nlp-library) (1.0.1)\n",
            "Requirement already satisfied: sphinxcontrib-htmlhelp>=2.0.0 in /usr/local/lib/python3.10/dist-packages (from sphinx>=1.2.0->sphinx-argparse->indic-nlp-library) (2.0.4)\n",
            "Requirement already satisfied: sphinxcontrib-serializinghtml>=1.1.5 in /usr/local/lib/python3.10/dist-packages (from sphinx>=1.2.0->sphinx-argparse->indic-nlp-library) (1.1.9)\n",
            "Requirement already satisfied: sphinxcontrib-qthelp in /usr/local/lib/python3.10/dist-packages (from sphinx>=1.2.0->sphinx-argparse->indic-nlp-library) (1.0.6)\n",
            "Requirement already satisfied: Jinja2>=2.3 in /usr/local/lib/python3.10/dist-packages (from sphinx>=1.2.0->sphinx-argparse->indic-nlp-library) (3.1.2)\n",
            "Requirement already satisfied: Pygments>=2.0 in /usr/local/lib/python3.10/dist-packages (from sphinx>=1.2.0->sphinx-argparse->indic-nlp-library) (2.16.1)\n",
            "Requirement already satisfied: snowballstemmer>=1.1 in /usr/local/lib/python3.10/dist-packages (from sphinx>=1.2.0->sphinx-argparse->indic-nlp-library) (2.2.0)\n",
            "Requirement already satisfied: babel>=1.3 in /usr/local/lib/python3.10/dist-packages (from sphinx>=1.2.0->sphinx-argparse->indic-nlp-library) (2.13.1)\n",
            "Requirement already satisfied: alabaster<0.8,>=0.7 in /usr/local/lib/python3.10/dist-packages (from sphinx>=1.2.0->sphinx-argparse->indic-nlp-library) (0.7.13)\n",
            "Requirement already satisfied: imagesize in /usr/local/lib/python3.10/dist-packages (from sphinx>=1.2.0->sphinx-argparse->indic-nlp-library) (1.4.1)\n",
            "Requirement already satisfied: requests>=2.5.0 in /usr/local/lib/python3.10/dist-packages (from sphinx>=1.2.0->sphinx-argparse->indic-nlp-library) (2.31.0)\n",
            "Requirement already satisfied: packaging in /usr/local/lib/python3.10/dist-packages (from sphinx>=1.2.0->sphinx-argparse->indic-nlp-library) (23.2)\n",
            "Requirement already satisfied: MarkupSafe>=2.0 in /usr/local/lib/python3.10/dist-packages (from Jinja2>=2.3->sphinx>=1.2.0->sphinx-argparse->indic-nlp-library) (2.1.3)\n",
            "Requirement already satisfied: charset-normalizer<4,>=2 in /usr/local/lib/python3.10/dist-packages (from requests>=2.5.0->sphinx>=1.2.0->sphinx-argparse->indic-nlp-library) (3.3.1)\n",
            "Requirement already satisfied: idna<4,>=2.5 in /usr/local/lib/python3.10/dist-packages (from requests>=2.5.0->sphinx>=1.2.0->sphinx-argparse->indic-nlp-library) (3.4)\n",
            "Requirement already satisfied: urllib3<3,>=1.21.1 in /usr/local/lib/python3.10/dist-packages (from requests>=2.5.0->sphinx>=1.2.0->sphinx-argparse->indic-nlp-library) (2.0.7)\n",
            "Requirement already satisfied: certifi>=2017.4.17 in /usr/local/lib/python3.10/dist-packages (from requests>=2.5.0->sphinx>=1.2.0->sphinx-argparse->indic-nlp-library) (2023.7.22)\n",
            "Installing collected packages: morfessor, sphinxcontrib-jquery, sphinx-rtd-theme, sphinx-argparse, indic-nlp-library\n",
            "Successfully installed indic-nlp-library-0.92 morfessor-2.0.6 sphinx-argparse-0.4.0 sphinx-rtd-theme-1.3.0 sphinxcontrib-jquery-4.1\n"
          ]
        }
      ]
    },
    {
      "cell_type": "markdown",
      "source": [
        " I removed Hindi stopwords using the 'stop_words' library. The code iterates through each sentence, tokenizes it into words, and filters out stopwords."
      ],
      "metadata": {
        "id": "qEMLYPvNrO4r"
      }
    },
    {
      "cell_type": "code",
      "source": [
        "pip install stop-words\n"
      ],
      "metadata": {
        "colab": {
          "base_uri": "https://localhost:8080/"
        },
        "id": "3yYp1Mu1oUXJ",
        "outputId": "4729d8ea-25e1-42f0-c484-6aa813f96d47"
      },
      "execution_count": 5,
      "outputs": [
        {
          "output_type": "stream",
          "name": "stdout",
          "text": [
            "Collecting stop-words\n",
            "  Downloading stop-words-2018.7.23.tar.gz (31 kB)\n",
            "  Preparing metadata (setup.py) ... \u001b[?25l\u001b[?25hdone\n",
            "Building wheels for collected packages: stop-words\n",
            "  Building wheel for stop-words (setup.py) ... \u001b[?25l\u001b[?25hdone\n",
            "  Created wheel for stop-words: filename=stop_words-2018.7.23-py3-none-any.whl size=32896 sha256=3cecadec29e0a1ec96e86d42da243b288abcab3dd6eb1f47b9fd727aa487c171\n",
            "  Stored in directory: /root/.cache/pip/wheels/d0/1a/23/f12552a50cb09bcc1694a5ebb6c2cd5f2a0311de2b8c3d9a89\n",
            "Successfully built stop-words\n",
            "Installing collected packages: stop-words\n",
            "Successfully installed stop-words-2018.7.23\n"
          ]
        }
      ]
    },
    {
      "cell_type": "code",
      "source": [
        "import pandas as pd\n",
        "from tensorflow.keras.preprocessing.text import Tokenizer\n",
        "from tensorflow.keras.preprocessing.sequence import pad_sequences\n",
        "\n",
        "# Load your dataset\n",
        "data = df  # Assuming 'df' is your DataFrame with 'sentence' and 'label' columns\n",
        "\n",
        "# Create lists to store tokenized sentences and labels\n",
        "tokenized_sentences = []\n",
        "labels = data['label']\n",
        "\n",
        "# Initialize a Tokenizer\n",
        "tokenizer = Tokenizer()\n",
        "\n",
        "# Iterate through each sentence in the DataFrame\n",
        "for sentence in data['sentence']:\n",
        "    # Tokenize the sentence into words using whitespace as a separator\n",
        "    words = sentence.split()\n",
        "\n",
        "    # Join the words to create a tokenized sentence\n",
        "    tokenized_sentence = ' '.join(words)\n",
        "\n",
        "    # Append the tokenized sentence to the list\n",
        "    tokenized_sentences.append(tokenized_sentence)\n",
        "\n",
        "# Update the tokenizer with the tokenized sentences\n",
        "tokenizer.fit_on_texts(tokenized_sentences)\n",
        "\n",
        "# Create a new DataFrame with tokenized sentences and labels\n",
        "tokenized_data = pd.DataFrame({'sentence': tokenized_sentences, 'label': labels})\n",
        "\n",
        "# You can access specific columns like this\n",
        "sentences = tokenized_data['sentence']\n",
        "labels = tokenized_data['label']\n",
        "\n",
        "# To check the number of rows and columns in the DataFrame\n",
        "num_rows, num_columns = tokenized_data.shape\n",
        "print(f\"Number of rows: {num_rows}\")\n",
        "print(f\"Number of columns: {num_columns}\")\n",
        "\n",
        "# Display the first 5 rows of the tokenized DataFrame\n",
        "print(tokenized_data.head())\n"
      ],
      "metadata": {
        "colab": {
          "base_uri": "https://localhost:8080/"
        },
        "id": "VhRA0dgom_ZF",
        "outputId": "33a2fd67-2eae-42c2-f047-58d8ce389b71"
      },
      "execution_count": 6,
      "outputs": [
        {
          "output_type": "stream",
          "name": "stdout",
          "text": [
            "Number of rows: 29257\n",
            "Number of columns: 2\n",
            "                                            sentence  label\n",
            "0     रहने दो तुम रेस्ट करो।दीप्ति - ठीक है डार्लिंग      1\n",
            "1  मैं आज एक हिजड़े से चूत चुदवा कर वो खुशी पा चुक...      1\n",
            "2  मेरी प्रियंका दीदी के ऊपरी बदन का तो और भी बुर...      1\n",
            "3  मुझे आंटी की बातों का मर्म ये समझ में आया कि इ...      1\n",
            "4                                 सब तुम्हारी वजह से      0\n"
          ]
        }
      ]
    },
    {
      "cell_type": "code",
      "source": [
        "tokenized_sentences"
      ],
      "metadata": {
        "colab": {
          "base_uri": "https://localhost:8080/"
        },
        "id": "maDp4EO-oNkh",
        "outputId": "3574e3ac-00a4-42eb-d16f-86c976753d50"
      },
      "execution_count": 7,
      "outputs": [
        {
          "output_type": "execute_result",
          "data": {
            "text/plain": [
              "['रहने दो तुम रेस्ट करो।दीप्ति - ठीक है डार्लिंग',\n",
              " 'मैं आज एक हिजड़े से चूत चुदवा कर वो खुशी पा चुकी थी',\n",
              " 'मेरी प्रियंका दीदी के ऊपरी बदन का तो और भी बुरा हाल था',\n",
              " 'मुझे आंटी की बातों का मर्म ये समझ में आया कि इस सब गुस्से की वजह रात को अंकल ज्यादा देर तक आंटी की चुदाई नहीं कर पाते हैं और आंटी को शांत नहीं कर पाते हैं',\n",
              " 'सब तुम्हारी वजह से',\n",
              " 'अगले ही पल मैंने बोला- हां चाची … मैं आपकी रसीली चूचियों को मुंह में लेकर उनके निप्पल काटना चाहता हूं',\n",
              " 'मेरी बात सुनकर वो चुप हुईं और मंडी के उलटे हाथ वाली गली में जाने लगी',\n",
              " 'उसने तुरंत कागज पर अपना नंबर लिख कर मेरी तरफ फेंक दिया',\n",
              " 'जानकारी पसंद आती है तो अपनेयार दोस्तों में',\n",
              " 'मैं उसे देखता ही रह गया क्योंकि उसने एक झीना सा गाउन अपने जिस्म पर डाला हुआ था; उसमें से उसकी रेड ब्रा और पैंटी साफ नज़र आ रही थी',\n",
              " 'तापसी भी अब इतनी ज्यादा मूडी हो चुकी थी की वो वंश पर बस टूट पड़ी थी',\n",
              " 'उसका लम्बा तना हुआ लण्ड किसी बेलन से कम नहीं लग रहा था।वो मेरी पैंटी के ऊपर से ही मेरी चूत को चाटने लगा। उसने धीरे से मेरी पैंटी को मेरी टांगों के बीच से निकाल दिया।अब मैं पूरी तरह से नंगी थी और अलमारी से सटकर खड़ी हुई थी',\n",
              " 'मैं - क्यों तुम भी तो इतनी खूबसूरत सेक्सी सी लड़की हो',\n",
              " 'उसके बड़े बड़े बूब्स',\n",
              " 'सुबह ज्यादी उठकर वो अपने कमरे में चली गयी',\n",
              " 'यह एकदम अनोखा',\n",
              " 'असलम ने मेरे जीजू का लंड अपने हाथों में पकड़ लिया और मेरी तरफ देख कर बोला',\n",
              " 'फिर भैया ने मेरे निपल्स को बुरी तरह चूस्ते हुए तुरंत दूसरा शॉटलगाया ये शॉट इतना तेज लगाया कि भैया का आधा लंड मेरी छोटी सी मासूमचूत के पतले होंटो को चीरता हुआ अंदर चला गया',\n",
              " '<span;>वो घुटनों के बल बैठ गई उसने मेरा लंड अपने मुँह में ले लिया',\n",
              " 'उनकी कंदली सी जांघें आपस में इतनी सटी हुई थीं',\n",
              " 'वो भी शांत होकर बोली- क्या कहना चाहते हो?मैंने धीरे से उसे सब बात बताई कि कैसे मैंने बाथरूम में उसकी ब्रा पैंटी देखी और कैसे उससे लंड हिलाया',\n",
              " '।जैसे-जैसे को उसके बदन से उसके कपड़े हटा रहा था वैसे वैसे वो और ज्यादा उसे पाने के लिए मचल रहा था',\n",
              " 'वो मुझे सहलाते हुए प्यार करने लगे',\n",
              " 'छाती बड़ी कसमसाती है मेरी। न जाने ऐसा क्यों होता है?अब तो चचा एकदम मस्ती में आ गये',\n",
              " 'तुझे मालूम है कि फ़ज़लू जब तक चूत को हाथ नहीं लगाता',\n",
              " 'और उसके गाल पर रूही के हाथ की छाप छप चुकी थी',\n",
              " 'पापा और छोटी बहन रहती थी',\n",
              " 'मैंने लंड अन्दर डाला और चुदाई चालू हो गई',\n",
              " 'तुम भी सो जाओ … नहीं तो कहीं शिवानी उठ गई तो तुम जानती हो क्या होगा!वह बोली- ठीक है',\n",
              " 'फिर वो बेड पर लेट गयी और में उनके सिरहाने जाकर आराम से उनकी चूची पीने लगा और मामा जी उनकी चूत चूस रहे थे',\n",
              " 'अब आप कह रही है तो मुझे कोई हर्ज़ नहीं है। फिर चुदाई का दूसरे दिन का प्रोग्राम सेट हो गया',\n",
              " 'इसके साथ ज़्यादा मेहनत करनी पड़ेगी। इसको चोदकर बाहर भेजूँ',\n",
              " 'में यह वादा भी दे रहा हूँ',\n",
              " 'भाई की शादी में मैंने उसकी चूत भी देख ली थी लेकिन उसने चूत चुदवाने से मना कर दिया',\n",
              " 'क्यूंकि उसके ब्रा और ब्रा सपोर्टर को तो उसके आशिक',\n",
              " 'दोनों की देह एक दूसरे से चिपकी हुयी थी',\n",
              " 'इसलिए वो कुछ समझ नहीं पा रही थी क्या करे',\n",
              " 'जान ……',\n",
              " 'आज मैं तुम्हारा लण्ड अपनी गान्ड में भी महसूस करना चाहती हूँ',\n",
              " 'किस करने लगा।वह तो ऐसे ही एक मुझसे पूरा सट गई थी',\n",
              " '<span;>मैंने उसकी चूत में उंगली कर दी',\n",
              " 'कमर का दर्दज़्यादा सेक्स करने से कमर में दर्द हो सकता है',\n",
              " 'इस बार उसका लंड मेरी गांड को चीरता हुआ अन्दर तक चला गया था',\n",
              " 'उनकी आह आह की तेज आवाजों से मेरी मदहोशी बढ़ती गई',\n",
              " '\"आप बच्चों को तहखाने में क्यों नहीं ले जाते जहाँ उनके खेलने के लिए बहुत जगह है।\" सुहासिनी और निखिलेश तब तक हाथ में हाथ डाले खड़े रहे जब तक कि नीतू के साथ बच्चे गायब नहीं हो गए। सागर ने अपनी पत्नी को निखिलेश को हॉल में ले जाते हुए देखा और बेडरूम के दरवाजे से गायब हो गया। वह जानता था कि वह अपनी चूत को फिर से सहने वाली है। निखिलेश ने सुहासिनी को अपनी बाहों में लिया और उसे गहराई से चूम लिया। वह उसकी कठोरता को अपने शरीर से रगड़ते हुए महसूस कर सकती थी। उन्होंने उल्लेख किया कि पिछली बार उन्होंने बहुत जल्दी की थी। उन्होंने सुझाव दिया कि जब तक वे सेक्स करने जा रहे हैं',\n",
              " 'आज मैं पहले ऊपर आ रही हूँ',\n",
              " 'और',\n",
              " 'ये सब मैं ज्यादा देर तक नहीं झेल पाई और मैं झड़ गई',\n",
              " 'इससे मैं समझ गया कि अब चोदने का टाईम आ गया है',\n",
              " 'उसके बूब्स एकदम मक्खन से चिकने और एकदम गोरे थे',\n",
              " '।वो चाह कर भी अभिमान को रोक नहीं सकती थी',\n",
              " 'मैं अगले ही पल अपने लंबे हो चुके लंड को कविता भाभी की चूत में डालने लगा',\n",
              " 'मैं अपने जीवन की दूसरी सच्ची चुदाई कहानी लिख रहा हूँ',\n",
              " 'ये जोया तो उसके आगे कुछ नहीं है',\n",
              " 'सुरेश मेरी रूपाली दीदी को देखकर अपने लोड़े को पैंट के ऊपर से ही मसल रहा था और असलम से विनती कर रहा था',\n",
              " 'फिर मेरी रूपाली दीदी ने खुद ही असलम का खूंखार लोड़ा अपने हाथों से पकड़ के मेरी प्रियंका दीदी की मासूम चूत के मुहाने पर लगा दिया',\n",
              " 'आप किसी से यह बात मत बोलिएगा वरना मेरी बदनामी होगी',\n",
              " 'मेरी नंगी कमर देखकर माधव बहुत खुश हो गया',\n",
              " 'इब्राहिम सीधा बेड पर लेट गया और नसरीन आंटी से बोला- अपनी गांड सैट करके लंड पर आ जा मेरी जान',\n",
              " '<span;>आपको मेरी हॉट GF चुदाई स्टोरी कैसी लगी/data/user/0/com',\n",
              " 'जितनी देर मैं भाभी की चूत को चूसता रहा',\n",
              " 'माल गिरने के बाद भी जब तक मेरा लंड टाईट रहा',\n",
              " 'मैंने कहा- अच्छा ठीक है',\n",
              " 'भाभी की मीठी सीत्कार इस खेल को और भी ज्यादा कामुक बना रही थी',\n",
              " 'कभी चूसती और जल्द ही अनवर का लण्ड फ़ुफ़कारने लगा',\n",
              " 'मैं तो आपको बोलना ही भूल गयी',\n",
              " 'मेरी पिछली कहानीसुहागरात में दुल्हन और उसकी सहेली को चोदाआपने पढ़ी और पसंद की',\n",
              " 'गुलाबी होंठ और गजब का हुस्न',\n",
              " 'तुम मुझे बताओ',\n",
              " 'तुम्हें कभी भी मन हो',\n",
              " 'मैं दीपक कुमार अपनी सेक्स कहानी का अगला भाग लेकर आप सभी के सामने हाजिर हूं',\n",
              " 'जीजू थोड़े गुस्से में बोले- अच्छा और फोन करके क्या बोलूं कि तेरी बहन की चूत क्रीम लगाकर मारनी है … क्रीम किधर रखी है!जीजू एकदम से झल्ला गए थे और तभी वो बोले- याद आया … मैं फ्रिज में देखता हूँ … वहां जरूर होगी',\n",
              " 'उस दिन उसने मुझसे एक रिक्वेस्ट की और बोला- अगर तुझे बुरा न लगे तो मैं अपनी नौकरानी को तेरे घर पर लाकर चोद सकता हूं क्योंकि मेरे घर पर मौका नहीं मिल रहा है और मुझे चुदाई किए हुए काफी दिन हो गये हैं',\n",
              " 'अब तक कहां था रे तू … आह्ह … स्स्स … आह्ह … और कर।मैंने उसकी गांड में उंगली घुसा दी और तेजी से उसको चलाने लगा',\n",
              " 'हमारे आगे मेरी रूपाली दीदी ने चंदा भाभी का हाथ पकड़ रखा था और मेले में आगे बढ़ती हुई चली जा रही थी',\n",
              " 'मैंने मम्मों को चूसना बंद किया और नीचे की ओर सरक कर सीधा चूत को चाटने लगा',\n",
              " 'मामी के सिर के बाल मेरी नाक को छू रहे थे … और उनके बदन की खुशबू मानो मुझे पागल कर रही थी',\n",
              " 'मगर मैंने बिना कोई परवा किये एक और तेज झटका मारा और पूरे लंड को उनकी चुत की जड़ में घुसेड़ दिया',\n",
              " 'तुम्हारी बुर का मजा लेने वाले ख़ुसनसीब कौन-कौन हैं?पद्मा - ओके',\n",
              " 'तुम्हारे पति को तुम्हारे पास बुला के और तुम कहा रही हो जो मै चाहता हूँ वो कभी नही हो सकता???कुछ देर बाद मेरे जेठ वहां से चले गाये। मैंने उनके बातों के बारे में बहुत सोचा पर मै लेकिन मेरे मन उनसे चुदवाने को नही कर रहा था। धीरे धीरे कुछ दिन और बीता',\n",
              " 'ना जाने कितनी बार मैंने उनकी चूत और गांड मारी है',\n",
              " 'अगर आप चाहो तो करना … तो बाकी कोई परेशानी ही नहीं है',\n",
              " 'मैं आपके साथ सेक्स का अनुभव लेना चाहती हूँ',\n",
              " 'कुत्ता चोदी। \"अनवरत',\n",
              " 'मेरी प्यारी भाभी जल्दी जल्दी मुँह से कर … आह आह ई ई',\n",
              " 'दीवारों के लगी बड़ी बड़ी खूबसूरत पेंटिंग जो दिखने में काफी महंगी थी',\n",
              " 'लेकिन अब तक मुझे कभी किसी चूत के असली में दर्शन नहीं हो सके थे',\n",
              " 'उसकी हरकतों से मेरे लंड के अंदर से भी कामरस निकलना शुरू हो गया था',\n",
              " 'मैं किसी को भी सतुंष्ट कर सकता हूं',\n",
              " 'जिससे उसके लण्ड में और तेजी से दर्द होने लगा और वो जोरों से कराहने लगा',\n",
              " 'बिना किसी पर्मिशन के उसके पीठ पर हाथ से मसाज देना शुरू किया',\n",
              " 'फिर में उनको बोला कि में भी तो बच्चा ही हूँ',\n",
              " 'ये ज़िन्दगी दुबारा नहीं आता है',\n",
              " 'जिससे उसकी चुत बिल्कुल भी दिखाई नहीं दे रही थी',\n",
              " 'क',\n",
              " 'मैं उसे ताबड़तोड़ चोदे जा रहा था',\n",
              " 'मैं उसको प्यार से मेरे मन के अंदर के कमरे में छुपा के रखा',\n",
              " 'काम वासना से जुड़ी यादें साझा करने के लिए अन्तर्वासना से बेहतर मंच मुझे नहीं मिला',\n",
              " 'खुद की तसल्ली की और ठण्डा पड़ गया',\n",
              " 'मेरी मम्मी',\n",
              " 'न जाने कितनी देर चोदता रहा',\n",
              " 'मेरा घर पास में ही है',\n",
              " 'साला मेरा मूड बनाता ही नहीं',\n",
              " 'उसने वो कार्ड घर पर दिखा कर बता दिया था कि उसको शहर से बाहर जाना है और वह उसी दिन वापस नहीं लौट सकता है',\n",
              " 'कभी कभी वो नाख़ून भी गड़ा देती थी। अचानक उसने अपनी एक उंगली मेरी गुदा के अंदर घुसा दी और इसके साथ ही मैं इतना उत्तेजित हुआ कि मेरे लिंग से जोर-जोर से पिचकारी चलने लगी। मेरी पिचकारी को अपने योनि में महसूस करते ही उसने मुझे कसकर भींच लिया। आठ-दस पिचकारी के बाद मैं भी निढाल होकर उसके शरीर पर ही लेट गया।हम दोनों का पूरा शरीर पसीने से भीग गया था',\n",
              " 'वह दो जोड़ों की एक बिस्तर पर चुदाई की पोर्न फिल्म देख कर इस उत्तेजना को महसूस कर सकता है।अब हमने अपनी बीवियों की चूत में धक्के लगाना शुरू किया और हमारी बीवियां हमारे धक्कों का आह… आह… की कामुक सिसकारियों के साथ स्वागत करने लगीं।रकुल की चूत में धक्के देते देते नील ने कहा- यार',\n",
              " '34 के साइज के रसीले आम',\n",
              " 'बाद में उस रात मेरा भाई देर रात टीवी देख रहा था क्योंकि नींद उसकी आँखों से दूर थी। जब सब सो चुके थे तो मेरी पत्नी उठ गई और मेरे भाई को उसके पीछे आने का इशारा करते हुए शौचालय में चली गई। उसने पीछा किया और मेरी पत्नी ने पहले दरवाजा खुला छोड़ शौचालय में प्रवेश किया। जल्द ही मेरे भाई ने पीछा किया और दरवाज़ा बंद कर दिया। दोनों ने एक-दूसरे को कसकर गले लगाया और एक-दूसरे के शरीर की खोजबीन की। जल्द ही मेरे भाई ने उसकी नाइटी उठाई और पाया कि मेरी पत्नी ने नीचे कुछ भी नहीं पहना था। मेरी पत्नी को पहली बार पूरी तरह से नग्न देखकर वह पागल हो गया और उसके स्तनों को अच्छी तरह से निचोड़ लिया। धीरे-धीरे उसने मेरी पत्नी के निप्पल को अपनी उंगलियों के बीच दूसरे निप्पल को घुमाते हुए घुमाया। बाद में उसने मेरी पत्नी के बाएँ स्तन को ऐसे चूसा जैसे बच्चा माँ की ममियों से दूध चूसता है। मेरे भाई ने दोनों के बीच बारी-बारी से खेलने और स्तन चूसने में बहुत समय बिताया। मेरी पत्नी ने मुझे बताया कि मेरे भाई ने उसके स्तनों के किनारों पर बहुत ध्यान दिया और हर समय उसके स्तनों के वक्रों को चूमते रहे। मेरी पत्नी अपने दोनों हाथों में अपना सिर पकड़कर अपना मुंह अपने स्तनों से दबा रही थी। फिर उसने और भी नीचे कर दिया और नाजुक ढंग से मेरी पत्नी की योनी में एक उंगली डाल दी। अंक के लिए रास्ता बनाने के लिए मेरी पत्नी को अपने पैर अलग करने पड़े और उसके मुंह से एक कराह निकली। फिर उसने अपने पतंगे में उंगली लेकर उसके रस का स्वाद पूरक किया। फिर उसने दो उंगलियां डालीं और अंगूठे को उसकी भगशेफ पर मला। मेरी पत्नी ने कहा कि उसे लगा जैसे वह पूरी तरह से सातवें आसमान पर है। वह मेरे bros के सिर को उसके हाथ में सहला रही थी और जैसे ही वह आई थी उसकी गिनती खो गई थी। कुछ देर बाद मेरे भाई ने अपने कपड़े उतारे। उसे नग्न देखकर मेरी पत्नी मेरे भाई की मांसपेशियों',\n",
              " 'मसलते चुदाई शुरू कर दी',\n",
              " 'जीजू ने पूरा पानी चपर चपर कर पी लिया',\n",
              " 'अब वो और भी मस्त हो गयी आईई ऊऊईईईईईई और चोदो मेरे राजा आआहह मज़ा आ गया और कसकर चोद मुझे ज़ोर से चोद डाल मेरी चूत को उईईईईई में मर गई',\n",
              " 'उसके ऊपर दोस्ती का जो सुरूर हमने नक्की लड़ा कर बनाया था यह असर उसका भी था कि वो दोनों ही अपने टीशर्ट को उतार कर अपने स्तनों का माप देने के लिए हमारे सामने ही तैयार हो गईं',\n",
              " 'पिछले 5 दिनों में 5 मर्दों ने रूपाली दीदी की चुदाई की थी मेरे जीजू के अलावा',\n",
              " 'जैसे पहले पड़ी हुई थी।शाम को मेरी दीदी जब वापिस आई तो हम दोनों थोड़ी सी बातें की और वो कहने लगी कि भैया आज मैं थकी हुई हूँ तो क्या आप घर की सफाई कर डोज?मैंने कहा- ठीक है',\n",
              " 'जुनैद के लोड़े के झटके ने ऐसा कमाल किया कि मेरी रूपाली दीदी सिसकारियां लेने लगी-“आआऽ उम्म्म्म… ओह्ह… ऊह्ह… अह्ह…” दीदी की अजीबोगरीब आवाज सुनकर मेरा लौड़ा फिर से टाइट होने लगा',\n",
              " 'उसने अंदर पेंटी नहीं पहनी हुई थी।उसकी चूत मैंने हाथ लगाया उसकी इश्स … निकल गई।मेरे हाथ पर पूरा पानी आ गया',\n",
              " 'उनके गोल गद्देदार चूतड़ के फांकों को टकराते देख',\n",
              " 'वो प्यार भरी आंखों से बस मुझे ही देख रही थीं',\n",
              " 'वो एकदम बिपासा की तरह दिखती थी।हम सब दोपहर को छुपाछुपी खेल रहे थे और मैं बेडरूम के बेड की नीचे छुप गया था।अचानक से चाची बाथरूम से नहा कर आई',\n",
              " 'फिर मैंने उसकी लैगी उतार दी और उसकी चूत चाटने लगा',\n",
              " 'मैंने मन ही मन सोचा कि अगर आज इनको चोदने का मजा मिल जाए',\n",
              " '“उम्म्ह … अहह … हय … ओह … मेरी जान … मेरी रानी … तुम्हारी गर्म चूत में लंड देकर तो मैं दुनिया ही भूल जाता हूं',\n",
              " 'कभी कभी जब मैं गर्म हो जाती',\n",
              " 'मैंने आव देखा न ताव और झट से उसके लोअर को अंडरवियर समेत नीचे खींच दिया',\n",
              " '<span;>10 मिनट के बाद मैं उसकी चूत में झड़ गया और उसके बूब्स के निप्पल अपने मुंह में भर कर उसके ऊपर की लेटा रहा।<span;>मेरा लन्ड सिकुड़ कर फिसलता हुआ उसकी चूत में से बाहर निकाल गया। <span;>मैं उसके ऊपर पड़े पड़े उसके बालों को सहला रहा था',\n",
              " 'जुनेद मेरी रुपाली दीदी को अपने लोड़े पर उछाल रहा था। रूपाली दीदी: आ अह हा… स… एम्म… म्मह… उ उफ फफ्फ़… मुझे चोदो',\n",
              " 'उसकी चूत से मेरा माल उसकी जाँघों पर बहने लगा',\n",
              " 'उसकी कुछ मर्यादाआए हैं',\n",
              " 'मेरे मामा का घर पुराना है',\n",
              " 'मैं दर्द से बिल्कुल तिलमिला गयी और उसे ऊपर की ओर धक्का देने लगी। मगर रॉकी रुका नहीं और फिर उसने एक और झटका मारा और पूरा का पूरा लन्ड मेरी चूत के अंदर समाहित हो गया। मैं दर्द से मरी जा रही थी।रॉकी को मैं बार बार धक्का दे रही थी। मगर वो साला टस से मस नहीं हो रहा था। दर्द के कारण मेरी आँखों से आँसू निकल आये।मेरे मुँह से अपने आप गलियां निकलने लगीं- साले',\n",
              " 'तब मुझे ये सब नहीं देख रहा था',\n",
              " 'दीदी की शक्ल भी बदली',\n",
              " 'मैंने कविता को अपने बेडरूम में लाकर पूरी तरह से नंगी किया और उसके साथ चुदाई करने लगा',\n",
              " 'जोर जोर से चूसने लगा',\n",
              " 'फिर मैंने भी सोच लिया कि इसको किसी दिन अच्छे से चूसूंगा',\n",
              " 'अजय को दया आ गई',\n",
              " 'अब आगे की कहानी:नील- यही तो बराबर का सौदा होगा और इससे पता भी चलेगा कि सीमा अपने उस लिंग जो कि वह रोजाना लेती है से बड़े लिंग को अधिक देर तक ले पाएगी कि नहीं!रकुल- तो क्या तुम सीमा की चुदाई करोगे?श्लोक- नील',\n",
              " 'तो मैंने तुम्हारा लंड चुत में ले लिया है',\n",
              " 'मेरा नाम रश्मि है और इस वक़्त मैं एक 32 साल की शादीशुदा महिला हूँ',\n",
              " 'जैसे कह रही हो- आओ और मेरी चूत में अपना लंड डाल दो।उसका गाउन उसके कंधे से सरक कर गिर गया।अब उसकी चूचियों पर बालकनी की ठंडी हवा लग रही थी जिससे उसके निप्पल और ज्यादा तनाव में आ गए लगते थे।उसने जांघें फैलाते हुए अपनी चूत की फांकों को मेरे लिए खोल दिया',\n",
              " 'फिर मैं उनके कानों को चूसने लगा और कानों के पीछे उनकी गर्दन पर भी चूमाचाटी कर रहा था',\n",
              " 'फिर सुबह 4 बजे मैं अपने रूम पर चला गया क्योंकि भाभी ने कह दिया था कि किसी को पता नहीं चलना चाहिए कि मैं रात में उसके घर पर ही रुका हुआ था',\n",
              " 'हो सके तो एक गिलास पानी पिला दीजिए',\n",
              " 'लेकिन उसकी चूचियों का रंग उससे भी अधिक गोरा था। उस पर गुलाबी निप्पल का तो कोई जवाब ही नहीं था।मैं उन पर टूट पड़ा और एक हाथ से एक चूचियों दबा रहा था और मुँह से दूसरी चूची को पी रहा था। मेरा दूसरा हाथ पीछे से उसकी गान्ड को सहला रहा था। तभी उसका हाथ मेरे पैंट के ऊपर घूमने लगा',\n",
              " 'खड़ी होते ही खुली हुई साड़ी ज़मीन पे जा गिरी',\n",
              " 'मेरी गांड की छेद पर रखा और कहा- गांड ढीली करो',\n",
              " 'ऐसा कहते हुए मैंने भाभी के हाथ के ऊपर अपना दूसरा हाथ रख लिया',\n",
              " 'मेरा ध्यान उनकी तरफ गया',\n",
              " 'मैं लैपटॉप देता हूँ !मैंने ऐसे ही लैपटॉप पकड़ा दिया। जैसे ही उन्होंने लैपटॉप देखा तो दीदी का चेहरा लाल हो गया',\n",
              " 'मैंने धीरे से कहा',\n",
              " 'मैं उसकी गांड ही मारता रहता तो शायद गांड में ही झड़ जाता और संजना प्यासी रह जाती',\n",
              " 'खोई खोई सी थी',\n",
              " 'रंग बिरंगी लाइट्स और ढेर सारे लोगों के हसीं से गूंजता एक छोटा सा एरिया। जहां किसी के चेहरे पर मुस्कुराहट होते हुए भीं। मुस्कुराहट नहीं थीं। तो किसी के उसकी नीयत को दिखा देने वाली हसी थीं।हर तरफ पीली और लाल रंग की रौशनी बिखरी हुईं थीं। ये रौशनी सिर्फ शाम से ले कर आधी रात तक को होती थी। उसके बाद जहां हर तरफ़ उजाला होता था।वहीं याहा सन्नाटा और अंधेरा हों जाया करता हैं।साफ़ शब्दों में इसकी असली पहचान red light area हैं। और कुछ लोग इस जगह को वैश्या खाना भीं कहते हैं। और जो खुद को कुछ ज्यादा ही शरीफ और इजज़त दार समझते हैं। उनके लिए ये एक \" fucking zone\" था।मन्नत जिसके लंबे बाल इस वक्त एक मोटी लेकिन बला की खूबसूरत औरत के मुठियो में थें।वो औरत मन्नत के बालो को खींचते हुए बोली',\n",
              " 'मैं अपनी पहली बीवी की गांड मारता था',\n",
              " 'इस 69 की पोजीशन में काफ़ी देर तक लंड चुत की चुसाई होती रही',\n",
              " 'तो दोपहर के 2 बजने वाले थे',\n",
              " 'मुझे बचपन से ही चुदाई का शौक था और मेरी नज़र मेरी इस कज़िन सोनिया पर थी',\n",
              " 'मुझे भी उस रात साली की चुदाई करके पूरा मजा आया।इस तरह मेरी पत्नी की बड़ी बहन के साथ मैंने पहली चुदाई की',\n",
              " '<span;>मोनिका किसी CA के ऑफिस मैं जॉब करती थी',\n",
              " 'लेट कर या करवट वगैरह पर करना कैसा ये जान ने से पहले ये दो बातें जान लेना ज़रूरी है:-(1) ऐसी कैफियत position भी ना हो कि किसी को तकलीफ़ (uneasiness) हो।(2) ऐसी कैफियत ( position) भी ना हो कि जिस से तबियत और (health) सेहत पर मनफ़ी असरात (Side Effects) हों।अब अगर देखा जाये तो सब से बेहतर ( Better ) तरीक़ा ये है कि औरत चित (चेहरा ऊपर आसमानकी तरफ कर के) लेटी हो और मर्द उस के ऊपर पट (यानी चेहरा उस की तरफ़ करके) लेटा हो और उसे ( cover)ढांप ले',\n",
              " 'बोल चूसेगा मेरा लोड़ा',\n",
              " 'जैसे वह सही शब्दों की तलाश कर रही हो। \"मैं उतरना चाहता हूं',\n",
              " 'इसलिए वही सीन मेरी आंखों के सामने आ रहा था',\n",
              " 'लगभग 10 मिनट ऐसे मेरी चुदाई करने के बाद दोनों ने अपनी पोजीशन बदल ली',\n",
              " 'उनके जाते ही मैंने दरवाजे को कुन्डी लगाई और अन्दर आकर देखा तो प्रिया खाना बना रही थी',\n",
              " 'to/3GeJK8aबुआ आंगन से सब देख रही थीं और वो नंगी होकर नहा रही थीं',\n",
              " 'उसने मुझे बालों से पकड़ लिया और बोली- लव ! लव !मैंने उसे कहा- मैं पहले पीछे से करना चाहता हूँ !क्योंकि मुझे उसकी गांड बहुत ही अच्छी लगती थी।वो एकदम मान गई',\n",
              " 'यह पहली बार था के मैं किसी लौंडे को चोद रहा था',\n",
              " 'अभी मैंने भाभी की चूत थोड़ी देर ही चाटी होगी कि उनकी चूत ने नमकीन पानी की धारा मेरे मुँह में बहा दी',\n",
              " 'उस वक्त मौनी छत से कपड़ों का टब लिये नीचे उतर रही थी',\n",
              " 'वो अपने पूरे परिवार के साथ रहते हैं और मैं मामा के घर पहुंच गया',\n",
              " 'उसने अपना लौड़ा मेरी रूपाली दीदी की चूत के मुहाने पर रख कर चूत और चूत का दाना रगड़ने लगा',\n",
              " 'अब मुझसे रहा न गया और मेरे लंड पर मेरा कंट्रोल खो गया',\n",
              " 'आँख में आंसू तैर रहे थे',\n",
              " 'comहरियाणा सेक्स कहानी का अगला भाग: ना-ना करते चुद गयी हरियाणवी छोकरी- 2',\n",
              " 'अब मैं पूरी तरह से अपनी वाइफ का ही बन कर रह गया',\n",
              " 'जुनैद के अंदर जैसे एक जानवर आ गया था वह कभी मेरी रूपाली दीदी की बाई चूची को मुंह में लेकर दूध पीता तो कभी दाएं चूची को',\n",
              " 'तो हम दोनों एक दूसरे को मजा दे सकते हैं',\n",
              " 'मैंने एक सरसरी निगाह असलम और जुनैद की तरफ डाली तो मुझे दिखाई दिया कि दोनों नंगे सोफे पर बैठे हुए हैं और उनकी टांगों के बीच उनका मोटा लंबा औजार जो मुरझाने लगा था',\n",
              " 'ये सोचकर अमृता ने अपना एक हाथ अपनी ब्रा के नीचे रखा और अपनी ब्रा को एक तरफ से खींचकर अपनी छाती को बाहर निकाल दिया',\n",
              " 'अब हम दोनों 69 की पोज़िशन में आ गये',\n",
              " 'मैंने भी अपनी गांड उठा दी और उस समय उसने एक जोरदार धक्का दे मारा',\n",
              " 'जैसे मैंने दरवाजा खोला',\n",
              " 'फिर मैं पीठ के बल लेट गया और टांगें फैला कर अपने हाथों से अपनी गांड को थोड़ा फैला लिया',\n",
              " 'तो आंटी सिसकियाँ लेने लगी',\n",
              " 'और बीच - बीच में बिजली भी चमक रही थी',\n",
              " 'बाद में उसने शायद मेरी गर्लफ्रेंड वाली बात पर रिवर्स मैसेज किया- अपनी फोटो भेजो',\n",
              " 'फिर मैंने अपने कपड़े पहने और मैं वहां से चली आई',\n",
              " '<span;>ये बोल कर मैं रूमाल लेने गया',\n",
              " 'स्स्स … सर … आइ लव यू … अम्म … स्स्स … इस्स्स …आह …वो अपनी चूत को मेरे होंठों पर फेंकने लगी',\n",
              " '\\\\\"इस बार उसने अपना लण्ड ठीक से सेट किया और तीर की भांति अन्दर पेल दिया।\\\\\"इस बार दर्द हुआ',\n",
              " '<span;>मैंने कहा- फेविकोल वाली से दिक्कत हो जाएगी बेबी',\n",
              " 'उस वक्त दोनों ही पसीने से भीगे हुए थे मतलब उनकी चुदाई काफी देर से चल रही थी',\n",
              " 'एक मिनट तक मैं भी नहीं हिला',\n",
              " 'बहन के लोड़े मैं तेरा भाई नहीं हूं',\n",
              " 'मैंने अपनी उंगलियों से और तेज़ तेज़ चोदना शुरू कर दिया',\n",
              " 'मेरी उम्र 34 साल है और मेरा शरीर काफी फिट है',\n",
              " '“नहीं ऐसा कुछ नहीं है',\n",
              " 'उसने फुसफुसा कर पूछा- पहले कभी किया है?मैंने धीमे से कहा- नहीं किया',\n",
              " 'आज से मैं आपका पति हुआ और आप मेरी पत्नी हुईं।मैंने चाची को बिस्तर पर बैठाया और खुद बैठा',\n",
              " 'अब उसको भी मज़ा आ रहा था और वो जोश में सिसकियाँ लेने लगी थी आह्ह्ह्ह ऊऊईईई ऊऊह्ह्ह्हह इसमे तो चूत से भी ज़्यादा मज़ा आता है और कसकर डाल मेरे राजा ऊऊईईई बहुत मज़ा आ रहा है हाँ और कसकर ऊऊईईई आईईईईईईईई वाह मस्त मज़ा मिल गया और में उसको तेज धक्के देकर चोदता ही जा रहा था',\n",
              " 'मैं धीरे से जाकर पलंग पर लेट गया और भाई को देखा तो वे गहरी नींद में सो रहे थे',\n",
              " 'उस समय गर्मियां थी और दीदी के कमरे में ए',\n",
              " 'तो कोई मोनिका के साथ भी तो सेक्स कर सकता है',\n",
              " 'कॉफी कलर की नाइटी उसके गोरे बदन पर बहुत सेक्सी लग रही थी',\n",
              " 'लेकिन उसने अपनी साड़ी का पल्लू ऊपर नहीं किया',\n",
              " 'वो अंजान हाथ मेरे मम्मों को जोर जोर से दबाने लगा',\n",
              " 'अमृता की आहें अब तेज़ होकर कमरे में गूंजने लगी थी',\n",
              " 'सारे मजदूरों के हाथ मे सजावट की चीजें देख रहा था मैं',\n",
              " 'हाए राम! मेरी अब समझ में आया मेरे जीजू क्या कह रहे थे',\n",
              " 'फिर मैंने उसके होंठों को अपने होंठों में दबा कर लंड को 2-3 धक्कों के साथ पूरा उसकी चूत में पेल दिया',\n",
              " 'मैंने उसकी टांगों को फैला दिया और बहन की चूत में उंगली करने लगा',\n",
              " 'अनार सी कड़ी कड़ी थी उसकी चूचियाँ',\n",
              " 'मेरा लंड झटके मारने लगा था',\n",
              " 'मैं - ये कब हुआ',\n",
              " 'मैं अपनी ग्रेजुऐशन के सेकंड ईयर में था',\n",
              " 'ऑह्ह्ह्ह मेरे भैया का कितना मस्त लंड है',\n",
              " 'लेकिन उसे इस तरह सोते हुए देखकर मुझ पर गुस्सा आ गया। हम दोनों को स्कूल के लिए जल्दी उठना होगा',\n",
              " 'मैं अन्दर गई और उसने मुझे बैठने को कहा',\n",
              " 'तो मेरी नज़र मेरी चूत पर गयी क्यूंकि मुझे चूत में बहुत जलन हो रही थी',\n",
              " 'आकाश नीचे झुक गया और अपनी जीभ नैन्सी की चूत में घुसा दी',\n",
              " 'मुझे ये देखकर बहुत चिढ़ आ गयी और बोली- अब चोदो भी यार … मुझे बावला किये पड़े हो',\n",
              " 'मुझे नहीं पता था कि इन छुट्टियों में मुझे एक खुशबूदार चूत मिलने वाली है',\n",
              " 'दोस्तों में आज अपनी मामी से दो शब्दों वाली बातें करने लगा था',\n",
              " 'अभी हमलोग तुम्हारे बारे में हीं बात कर रहे थे।\" ऊसने पुछा - \"कैसी बात - अच्छी या बुरी?\"',\n",
              " 'उसके पीछे कोई नहीं हैं',\n",
              " 'वही अगली सुबह 4: 30 बजे सौभीत और अंशा सड़क किनारे एक चाय की दुकान खुली देख',\n",
              " 'तो मुझे अलमारी के पास रोहन खड़ा हुआ दिखा।शायद वो मुझे सोता हुआ समझ कर कमरे के अन्दर आ गया था।मैंने देखा कि मेरी पैंटी रोहन के हाथ में थी और वो बार-बार उसे अपने मुँह की तरफ ले जाकर उसे सूंघ और चाट रहा था।मेरा नंगा शरीर गाउन में से स्पष्ट दिख रहा था',\n",
              " 'उसकीचूत की खुजलीपूरी तरह से मिटा दी और उसकी चूत सूजकर लाल हो गयी',\n",
              " 'नहीं भरोसा हो',\n",
              " 'फिर मैंने उन्हें पलंग पर खींचा और तुरंत अपने कपड़े उतार फेंके और उन पर चढ़ने लगा',\n",
              " 'वो सोच रही थी',\n",
              " 'उसके बाद हम दोनों अलग हो गए',\n",
              " 'भाभी अपने दोनों हाथों से मेरा सिर अपनी चूत पर दबा रही थीं- आह मेरी जान … मुझे ये सुख अब तक तुम्हारे भैया ने कभी दिया ही नहीं',\n",
              " 'उनकी हर इच्छा को में आदेश मानकर पूरा करना चाहता हु',\n",
              " 'जया बोली- रोज तुम्हारे पैंट में टाइट लंड को देखकर मेरा भी मन करता था',\n",
              " 'मैंने मामला समझ लिया था',\n",
              " 'मैंने रात को उनके व्हाट्सैप पर कमेंट्स करते हुए लिखा कि फेसबुक पर आपकी फ़ोटो बहुत अच्छी हैं',\n",
              " 'मेरी दीदी को पहले से ही अनुभव था उसके हथियार का',\n",
              " 'एक बात बोलूं भाई',\n",
              " 'तो उसने कहा नहीं दीदी मुझे अकेले में डर लगता है यहीं सो जाने दो न क्या दिक्कत है ? तो मैंने कहा चल ठीक है पर मुझसे दूर सोना',\n",
              " 'तू बिल्कुल पागल है',\n",
              " 'नंगा होना है बस।\" और मैं अपने शर्ट के बटन खोलने लगा। कुछ समय में हीं मैं सिर्फ़ अपने फ़्रेंची अंडरवीयर में था। निशु पास खड़ी देख रही थी',\n",
              " 'चचेरी भाभी को आधी रात में चोद दियाहॉट भाभी फक़ स्टोरी में पढ़ें कि मैं दादी के घर गया तो वहां ताउजी के बेटे के घर गया',\n",
              " 'मेरे मामा के वहां पर जाकर मैं मामा के परिवार से मिला और कुछ बातें कीं',\n",
              " 'पर हम इस बहन के लोड़े को यहां से जाने नहीं दे सकते',\n",
              " 'परन्तु मेरे लिए वह कमरा एकदम फिट था',\n",
              " 'उन्होंने कहा- मेरा पति तो 5 मिनट में झड़ जाता है',\n",
              " 'मेरी रूपाली दीदी न सर झुका के जवाब दे दिया उसे',\n",
              " 'उसने तेल की शीशी सेंटर टेबल पर रखी हुई थी',\n",
              " 'लेकिन कुछ लोग इस प्यार को मेरे बिस्तर तक ले जाना चाहते हैं',\n",
              " 'जिसे देख डैनी कि एकसाईमेंट बढने लगी',\n",
              " 'मैं काँप रही थी',\n",
              " 'इस पर भाभी का फिर से एक रिप्लाई आया और उन्होंने लिखा- विक्की मेरी जान',\n",
              " 'पैड्स दे जाओ',\n",
              " 'तब मैं बोला- सरिता डार्लिंग अभी तो मैं तुम्हें आराम आराम से ही पेल रहा हूँ',\n",
              " 'हर 2 घंटे में पानी डालना होता था तो मैं अक्सर रात को उठकर उस तरफ जाया करता था पानी डालने के लिए',\n",
              " 'हमने एक दूसरे को कितना प्यार दिया होगा',\n",
              " 'हेल के राजा के लैप पर बैठी लड़की सिसक रही थी । । आज हेल का राजा बहुत ही खुश था । उसने अपनी चुटकियां बजाई और सिहासन एक बेड में तब्दील हो गया । । हेल के राजा ने उस लड़की जो एक छलावा थी उसे अपने लैप से उठा बेड पर पटक दिया । । और किसी खूंखार जानवर की तरह उसके उपर आया । । और उसके ब्रेस्ट को तेजी से दबाने लगा । । वो लड़की बस सिसक रही थी । । और फिर अपने नाखूनों को उसके पूरे बॉडी पर खरोचने लगा । उस लड़की के पूरे बॉडी से खून निकल रहा था । । और हेल का राजा उस लड़की केबोडी से चिपक कर जगह जगह उस खून को चाटने लगा । । वो लड़की इन सब से बहुत ही खुश हो रही थी । । हेल के राजा ने अपने लंबे शार्प दातों को उस लड़की जिसका नाम मेनिका था उसके ब्रेस्ट में धसा दिया । । और उसके ब्रेस्ट से निकल रहे नीले खून को चूसने लगा । । मेनिका हेल के राजा को खुश करने के लिए अपने हाथो को हेल के राजा के उपर ले गई और उसके चेस्ट पर रखते हुए एक झटके में उसे नीचे कर उसके उपर आ गई । । और अपने लंबे दातों को बाहर किया और हेल के राजा के गर्दन में चुभा उसे सक करने लगी । । । हेल के राजा ने अपने एक हाथो को मेनिका के ऐश पर रख उसे सहलाने लगा। । और दूसरे हाथ को मेनिका के बैक पर खरोच रहा था । । वो सिंहासन जो एक बेड बनचुखा था उस पर जगह जगह नीले खून के धब्बे हो गए थे । । हेल का राजा ने मेनिका को अपने नीचे किया और उससे दूर होते हुए कहा जाओ अब किसी और को भेजो । । आज तुमसे हमारा मन भर गया । । मेनिका बेड से उठी और हेल के राजा को होठों पर किस किया और वहा से चली गई । ।',\n",
              " 'अब तो बस मन में एक ही इच्छा थी कि मैं चाची की चुदाई करूँ',\n",
              " 'मैं बहुत शर्मीला सा लड़का हूँ',\n",
              " 'लिंग का अगला हिस्सा अमृता की योनि के अंदर था',\n",
              " 'मैंने एक हाथ नीचे ले जाकर उनकी चड्डी को भी उनकी गांड से अलग कर दिया',\n",
              " '<span;>इतना बोल कर मैंने उसकी पैंटी की छोटी सी लाइन होती है ना चूत के होल के पास',\n",
              " 'रेनू ने मेरे लंड को अपने हाथ से सहलाना शुरू कर दिया',\n",
              " 'पहले एक चूड़ी वाली आयी और मेरी दोनो दीदियों और भाभी को कुहनी तक हरी-हरी चूड़ीयां पहनाई',\n",
              " 'मेरी उबासी निकली और वो मुझे छोड़ कर बाहर निकला और वापिस आकर अपनी पत्नी के साथ गद्दे पर सो गया।4-कब आँख लगी पता ही नहीं चला',\n",
              " 'वो इतनी जोर से और मस्ती से मेरे लंड को चूस रही थीं',\n",
              " 'मेरी रूपाली दीदी की कामुक सिसकियां और चीखने की आवाज मैं सुन पा रहा था',\n",
              " 'अंशा विक्रांत को अपने नाज़ुक हाथों से ब्रेकफास्ट खिला रही थी',\n",
              " 'साथ में लाइटर भी पकड़ा दिया',\n",
              " 'लेकिन इसमें इतनी खास कोई चीज नहीं है जो मैं इसकी तरफ अट्रेक्ट हूं।आज तक ये अपने दुश्मनों को नहीं पकड़ पाया। बेवकूफ कहीं का',\n",
              " 'आप भेजो',\n",
              " 'मैं सोचने लगा कि क्या चक्कर है',\n",
              " 'अब आप बाहर ही कोई और ढूँढिए',\n",
              " 'मैं जानती हूँ कि तुम भी मरे जा रहे हो चचा के गन्ने का रस चखने को। ऐसा करो',\n",
              " 'न उसे मालूम पड़ा और न मुझे पता चला',\n",
              " 'हम 69 की पोजिशन में आ गए',\n",
              " 'बुरा तो नहीं मानोगी?<span;>उसने कहा- एक क्या दो बात कहो और बिंदास कहो',\n",
              " '\" today its raw बच्चा and don\\'t worry I\\'m not gonna cum in you \" बोलकर उजान अहसास के लोअर लिप को बाइट करता है।उजान एहसास की शर्ट के बटन खोलते हुए उसके कॉलर बोन पर बाइट कर रहा था। अहसास की आंखें बंद थी और वो आहें भर रही थी। कुछ ही पल में उजान सारे बटन खोल देता है और अहसास को उठाते हुए शर्ट उतार के साइड में रख लेता है।उजान अहसास के bossom की आपने हाथ में लेता हैं और suck करने लगता हैं। अहसास उजान के बालो को मुट्ठी के भर लेती हैं। उजान कुछ पल दुसरे bossom के साथ भी यही करता हैं।निचे जाते हुए वो अहसास के पेट पर बूते करता है फिर उपर आकर उसके flushed चेहरे को देखता हैं। उजान अहसास के चेहरे को देखते हुए अपने कपड़े भी उतार देते हैं।अहसास आंखें खोल उजान को देखते हुए बोली',\n",
              " 'और हमारा काम पसंद आता है तोहमे स्पोर्ट करें',\n",
              " 'वो मुझे पहली नजर में ही इतनी पसंद आ गई थी कि लग रहा था कि आज मुझे कोई परी मिल गई है',\n",
              " 'न किसी का डर न फिक्र।मैंने तो सब से पहले जॉनी की गांड मारने की सोची',\n",
              " 'मोना भाभी मेरे पास कामुक भाव से आईं और अपनी चूत को मेरे मुँह पर रख दिया',\n",
              " 'मैं- तो आज चलो',\n",
              " 'पूरा लौड़ा मेरी रूपाली दीदी की गांड में डाल दिया जुनैद ने',\n",
              " 'मैं जितनी ले रहा हूँ',\n",
              " 'उसकी आँखें उसकी ओर चली गईं और वहीं स्थिर हो गईं',\n",
              " 'कुछ देर तक तो मैं उसकी जवानी को देखता रहा मगर जब वो खुद अपने हाथ से अपने दूध सहलाने लगी और चूत सहलाने लगी तो मैं कण्ट्रोल नहीं कर सका',\n",
              " 'मुझे अपनी शादीशुदा चूत चुदवाने की प्यास हमेशा लगी रहती थी',\n",
              " 'पिछली सेक्स कहानी में आपने पढ़ा था कि किस तरह मैंने अनीता जी को जम कर चोदा औऱ अपनी बरसों की इच्छा पूरी कर ली थी',\n",
              " 'तो दोनों अपने हाथों और चूचियों से मेरी पीठ पर मसाज देने लगीं और मसाज के बहाने मेरे पूरे शरीर में तेल लग गया था।दीदी ने कांता के बुरड़ों पर तेल लगाया और मेरे पीठ पर बिठा कर आगे को धकेल दिया',\n",
              " 'प्रीति के शब्द:मेरी सहमति क्या मिली',\n",
              " 'वो बाइक पर पीछे बैठ गई',\n",
              " 'जिससे ये साबित कर सके के इसके पास कुछ अलग है बस गुस्सा करना आता है',\n",
              " 'प्लीज जल्दी से मेरी चूत चाटो',\n",
              " 'पर जब उसके स्तनों पर उसकी बांहों का दबाव पड़ता तो स्तनों का उभार उसके कन्धों के नीचे साफ साफ नज़र आता',\n",
              " 'तो उसने बताया कि वो लोग डॉक्टर से चैकअप के लिए गई हैं और घर में अब सिर्फ़ तुम और मैं ही हूँ',\n",
              " 'मैं बैठ गया चुपचाप',\n",
              " 'उनकी मम्मा को उनकी फर्क नहीं हैं',\n",
              " 'लेकिन साथ ही में हमें अपना घर और यहां के दोस्त और ज़िन्दगी छोड़ कर जाने का गम भी था',\n",
              " 'जैसें ही उसने मेरी ब्रा निकाली तो मेरे दोनों स्तन मानो फटने वाले थे',\n",
              " 'प्लीज आकर देख कर जाओ',\n",
              " 'अंशा उसकी सेक्सी बाॅडी को ही खा जाने वाली नज़रों से ताड़ रही हैं',\n",
              " 'जींस के अन्दर से ही मैं शरद के फूलते लंड को महसूस कर पा रही थी',\n",
              " '<span;>‘आह मर गई … कहां घुसा दिया साले चोदू …’ <span;>उसने मुझे गाली दी',\n",
              " 'जिसे वो पूरा पी गयी',\n",
              " 'उसकी सिसकियां पूरे कमरे मे गूंज रही थीं',\n",
              " 'बड़े प्यार से चूसता है तू इमरान',\n",
              " 'दीदी की आंखें बंद थी',\n",
              " 'ये बात तभी साफ हो गये थी जब दामूकाका ग्लास और नमकीन लेकर ठाकुर के कमरे की तरफ गया था',\n",
              " 'घर पर मैं बिल्कुल अकेला था तो सारे काम मुझे खुद ही करने थे।मैं सब्जी लेकर अपने घर पहुँचा',\n",
              " 'मेरा दिल उसे अपने से दूर हटाने को बिल्कुल भी तैयार नहीं था',\n",
              " 'और वहां और भी ज्यादा डिप्ली और इंटेंसली किस करता है',\n",
              " 'फिर जब गान्ड का छेद मुलायम हो गया तो मैंने अपना लंड घुसा दिया।कुछ देर लौड़े को अन्दर-बाहर करने के बाद जब लगा कि अब गान्ड में ज्यादा दर्द नहीं होगा',\n",
              " 'ऐसे करते ही वो फिर से एक बार झड़ गयी',\n",
              " 'अब आगे भाभी देसी सेक्स कहानी:भाभी मेरे होंठों को चूसने के बाद और भी गर्म होने लगीं और मुझे बेड पर लेटा कर मेरे सारे शरीर को किस करने लगीं',\n",
              " 'विक्रांत - ( सेक्सुअल वॉइस में ) अंशा डार्लिंग',\n",
              " 'उसमे एक फिल्म आ रही थी वो सेक्सी फिल्म थी',\n",
              " 'तो गांड को तेल से लबालब करके लंड सैट किया और एक ही धक्के में अपने छोटू को उसके अन्दर प्रवेश करा दिया',\n",
              " 'बताओ तो सही क्या हुआ',\n",
              " 'मेरे अनुमान के मुताबिक़ 34 इंच के उसके गोरे गोरे दूध मेरे सामने तने हुए थे',\n",
              " 'बाल पकड़ के उसने मेरी दीदी के मुंह में लौड़ा दे दिया',\n",
              " 'मैंने भैया के बारे में पूछा तो भाभी ने बताया कि वो तो एक दिन पहले ही काम के लिए निकल गये थे',\n",
              " '…',\n",
              " 'बोली- इस गधे को भी इसी वक्त फोन करना था !वो काफ़ी गुस्से में भर गई और फोन रिसीव करके बोली- आती हूँ।और मुझे बोली- जाना होगा',\n",
              " 'मेरी उम्र 28 साल है',\n",
              " 'वैसे भी बोर हो रही हो तो थोड़ा बहुत घूम लोगी।पद्मा - हाँ आती हूँ',\n",
              " 'थोड़ी देर बाद मैंने धीरे से उसके एक निप्पल को मुँह में भर लिया और चूसने लगा',\n",
              " 'मैंने जैसे ही मनीषा की चूत में उंगली डाली',\n",
              " 'अभी मेरे लंड की सिर्फ़ टोपी ही अन्दर गयी थी',\n",
              " 'वो मेरे लिए बहुत अच्छी बात है',\n",
              " 'उनकी गांड दरवाजे की तरफ थी तो मैं भी भाभी के पास आया और उनसे चिपककर सो गया',\n",
              " 'सेक्सी गर्ल- हाहहहहहहाहा',\n",
              " 'नैन्सी को मालूम था कि होना हाना तो उससे कुछ नहीं है',\n",
              " 'मेरा लण्ड बेकाबू हो रहा है बहन चोद',\n",
              " 'इस समय मेरे लंड में उफान आ रहा था और मेरे मन मष्तिष्क ने आंटी की चुचियों को याद करके लंड को झझकोर दिया था',\n",
              " 'वो बोली- ठीक है बता क्या काम है?मैंने कहा- मुझे तेरे साथ सेक्स करना है',\n",
              " 'वह जवान बनी रहती हैं गांड मरवा कर देखो!',\n",
              " 'मेरी दीदी का बुरा हाल हो गया था',\n",
              " 'उसका पूरा ध्यान ब्रा पर नही',\n",
              " 'पर जुनैद का मन इतने से भरने वाला नहीं था',\n",
              " 'मैं भाभी के सारे रस को पी गया और उनकी चूत को चाट चाट कर साफ कर दिया',\n",
              " '<span;>बस अब उस दिन का इंतज़ार था',\n",
              " 'अंशा विक्रांत की बाहों में लम्बी - लम्बी सांसे ले रही थी',\n",
              " 'तब तक',\n",
              " 'पर कुछ देर बाद मैंने अपने हाथ को वापस खींच लिया',\n",
              " 'राजस्थान में मेरा कोई रिश्तेदार नहीं था',\n",
              " 'फिर मैंने उसकी गर्दन के चारों तरफ किस किया',\n",
              " 'मेरा लंड 6 इंच लम्बा और 3 इंच मोटा है',\n",
              " 'बल्कि पहले (kiss) चूम ना',\n",
              " 'वो मुझे घूरने लगी और बोली- मैं जीती हूँ',\n",
              " 'मैं अपना हाथ नीचे ले जाकर उसकी चूत पर फेरने लगा',\n",
              " 'तुम टेन्शन मत लो।पद्मा - ठीक है',\n",
              " 'चूस भी रहा था',\n",
              " 'मेरी बुर बहुत फैल गई है',\n",
              " 'भूरे बाल और सबसे आकर्षित करने वाली चीज़ उसकी गांड है जो काफ़ी उभरी हुई है',\n",
              " 'और कितना तरसाओगे? अब तो डाल दो अपना लन्ड मेरी चूत में! अब और बर्दाश्त नहीं हो रहा',\n",
              " 'फिर आंटी ने कहा- अब चोद दे मेरी चूत अपने लन्ड से … बहुत गर्म हो चुकी है ये',\n",
              " 'आज रात मेरे साथ सो जाओ ना प्लीज',\n",
              " 'इतना जंगल उगा रखा है।मै: हां बुआ आप कितनी सुन्दर हो पर इसे ऐसा क्यों रखा है।बुआ: अरे किसके लिए साफ करू।सनी:(उनके बाल खिंचते हुऐ) लाओ उखाड़ देता हूं।बुआ: आह पागल है क्या।मै: रेजर या क्रीम है तो लाइए मै साफ कर देता हूं।बुआ: अरे कहा है ।सनी: शिल्पी के पास भी नही है।बुआ: अरे उसके बूर पर तो अभी बाल ही नही उगे हैं।सनी: रूक मै रेजर लेके आता हूं आज काट ही दूंगा। इतना बोल वो जाने लगता है।बुआ: सुन मेरे पर्स से पैसे ले और क्रीम ही ले आ।सनी: ठीक है।अब हम दोनो अकेले थे। मै बुआ के चूत सहलाते हुए उनके बालों से खेल रहा था।मै: बुआ अपनी गांड़ पर का तिल भी दिखाओ ना।बुआ: (हस्ते हुए घूम जाती हैं ) तुझे इतना तिल पसंद है क्या।मै: हां बुआ।उनकी चूतड पर तिल को चूम लेता हूं फिर उनके पुरे चूतड को चूसने चाटने लगता हूं।)बुआ: क्या सच मे तेरे उस पर भी तिल है।मै: हां बुआ।बुआ: चल झूठ मत बोल कही अगल बगल होगा।मै: अगर उसी पर हुआ तो तुम्हें उस पर चूमना होगा।बुआ: ठीक है चल दिखा।मै अपना पैंट उतार उसे लन्ड दिखा देता हूं',\n",
              " 'मुझे जल्दी से चोद दो',\n",
              " '<span;>तब तक उसने मेरा एक हाथ अपने मम्मों पर रखा और मुझे किस करने लगी',\n",
              " '? इस लण्ड को तो मैं खा ही जाऊँगी।\\\\\"उसका लण्ड मेरी गाण्ड के छेद में मुझे घुसता सा लगा। यह कहानी आप देसी मासला लैव डॉट कॉंम पर पढ़ रहे हैं।\\\\\"अरे रुको तो',\n",
              " 'जबकि उनके गले एक-दूसरे के खिलाफ मसल रहे थे। कुछ देर बाद वे अलग हो गए और एक-दूसरे की आंखों में देखा और फुसफुसाए कि मैं एक-दूसरे से प्यार करता हूं। मेरी पत्नी ने मुझे बताया कि वह एक किशोरी की तरह महसूस करती है जिसे अपना पहला प्यार मिल गया है। जल्द ही मेरे भाई ने उसका टॉप खींचना शुरू कर दिया और मेरी पत्नी ब्रा में रह गई। मेरे भाई ने उसके स्तनों को सहलाया और धीरे-धीरे चूमते हुए फुसफुसाते हुए कहा कि आई लव यू टू माय वाइफ हर समय। अपने हाथों को चूमते हुए उसकी पैंट पकड़ कर गाँठ में चली गई और वह मेरे भाई की पैंट के साथ खेल रही थी। जल्द ही मेरे भाई ने अपनी पैंट उतार दी और मेरी पत्नी ने हर समय अपना लंड अपने हाथों में तौलते और रगड़ते रहे।उसने मुझे बताया कि वह मुझसे बहुत बड़ी और मोटी थी। पूछने पर उसने मुझे लगभग 3 इंच लंबा और 1',\n",
              " 'अमृता को एक पल के लिए बिठाया और उसका ब्लाउस और ब्रा भी एक तरफ कमरे में उच्छाल दिया गया',\n",
              " 'उसके पीछे आकर जैसे ही मैंने अपना लंड उसकी चूत में डाला तो एक बार में ही पूरा लंड उसकी चूत में उतर गया',\n",
              " 'मैंने अपनी जीभ से उसकी चूत को हलाल करना शुरू कर दिया',\n",
              " 'अचानक रूचि की नजर राहुल के टाइट हुए लंड पर गयी',\n",
              " 'हां भाई आज तो इसे हचक के चोदेंगे',\n",
              " 'वो बोली अच्छा जी मुझे अकेले चूमने में मज़ा आएगा',\n",
              " 'चींख पड़ती हैं',\n",
              " 'शायद उसको दर्द हो रहा था। पर मैं नहीं रुका',\n",
              " 'मैंने अपने कपड़े पहन लिए',\n",
              " 'पूरा कमरा ऐसी सजाया हुआ था जिसे आज किसी दुल्हन की सुहागरात हो',\n",
              " 'उन्होने मुझसे कहा अच्छाकंचन मैं अपना लंड तेरी चूत मे नही डालूँगा बस उप्पेर से ही सहलाउन्गाठीक है और और मेरी चिकनी जाँघो को सहलाते हुए उन्होने अपना लंड मेरी चूतकी दरार पे फिसला दिया और बोले क्या चीज़ है तेरी चूत कंचन हाए इतनीकसी चूत एकदम तरोटाज़्ज़ा चूत है मेरी बहना की',\n",
              " 'जल्द ही बॉस ने अपनी कमर हिलाना शुरू कर दिया और मेघना के मुँह को ही चोदने लगा',\n",
              " 'वैसे तुझे भरोसा नहीं तो मैं मिलवा दूंगी',\n",
              " 'आओ मेरे प्यारे साले साहब आओ आज तुम्हें अपनी दोनों बहनों की सुहागरात का दृश्य देखने का मजा मिलेगा',\n",
              " 'अब तो आप मुझे चोद ही दो',\n",
              " 'और उसका मुँह मेरे निपल्स पर था',\n",
              " 'लंड ने भी जरा सी मदद मिलते ही अपना रास्ता ढूँढ लिया',\n",
              " 'गलती से कुछ करने की मत सोचना भी मत',\n",
              " 'तब तक कांता भी मेरी दूसरी जाँघ पर बैठ गई।मेरे लंड की कुछ ऐसी हालत थी कि दो-दो चूतें मेरे दोनों बगलों में थीं',\n",
              " 'बाहर खड़ा दामूकाका उसे आवाज़ दे रहा था',\n",
              " 'तो पुलकित ने मौज में आ कर अपनी कमर को आगे को धकेला तो उसके लंड की चमड़ी पीछे हट गई और उसके लंड का टोपा मंजरी के मुँह में और आगे घुस गया',\n",
              " '00 बजे की तरह लग रहा था। क्योंकि अधिकांश उत्तर भारतीय गांवों की तरह यहां भी सात के बाद कोई महिला बाहर नहीं जाती है। हम वहां कुछ देर इंतजार करते रहे',\n",
              " 'और असलम ने तो फिर मेरी रूपाली दीदी की गांड को जोर से पकड़ा सुपाड़ा थोड़ा सा बाहर निकाला',\n",
              " 'मज़ब्बूत कंधे',\n",
              " 'मैं फ़िर से उसका लंड अपनी चूत पर रगड़ने लगी',\n",
              " 'मैंने उन्हें बिस्तर पर लिटाया और उनकी चूत के पास अपना मुँह ले गया',\n",
              " 'फिर एक दिन …नमस्कार दोस्तो',\n",
              " 'शेयर जरूर करें। ताकी बो भी सैक्स की सही नॉलेज ले पायें',\n",
              " 'कांता- डॉली के सामने?मैं- हाँ कौन सा मैंने उसको नहीं चोदा हुआ है?कांता- लेकिन मुझे शर्म आ रही है',\n",
              " 'पतली कमर … बड़ी मस्त लग रही थी',\n",
              " 'मैं- तीन',\n",
              " 'मेरे लंड का लावा उसकी चूत में समा गया और मैं उसी के ऊपर लेट गया',\n",
              " 'ये नहीं लग रहा था',\n",
              " 'अच्छा तो तुम मुझे kiss bhi नही करने दोगी',\n",
              " 'एक दम इन्टर्नेशनल मौडल जैसी फ़िगर है तुम्हारी।\" वो मुस्कुराई -\"हुम्म्म्म्म',\n",
              " 'किसी बॉडी बिल्डर से कम नहीं लग रहा था वो। उसको देख कर किसी भी चूत का चुदने को मन कर जाये',\n",
              " 'मतलब वो चुदने का पूरा प्लान बना कर आई थी।मैं उसकी चुत पर अपनी उंगली घुमाने लगा तो उसके मुँह से मादक सीत्कार निकलने लगी। फिर मैंने धीरे से एक उंगली को उसकी गीली होती हुई चुत में डाल दिया।हालांकि मुझे पता था कि डॉली दीदी जैसी चुदक्कड़ को अपनी चुत में एक उंगली से कोई फ़र्क तो पड़ने वाला नहीं था',\n",
              " 'जैसे जैसे दिन निकल रहे थे',\n",
              " 'उसके चूसने से मेरे लंड की नसें उभर आई थीं और लंड पर उसके मुँह का दवाब इतना ज्यादा था कि ऐसा लगा कि अभी मेरा पानी निकल जाएगा',\n",
              " 'मेरी रूपाली दीदी की हालत और भी खराब थी',\n",
              " 'वो बोली- अंदर चलो कमरे में',\n",
              " 'दिनेश की आंखों में हवस और उसकी पैंट में खड़े मोटे लंबे बांस को देखकर मेरी दीदी घबरा गई और पीछे की तरफ हटने लगी',\n",
              " 'हम दोनों भी पानी में पड़े सांप की तरह सुस्त पड़ गए और हमें कब नींद लग गयी',\n",
              " 'मेरी बहन इस समय 30 वर्ष की है',\n",
              " 'तो में तुझे भी मामा जी की टाँगों के नीचे लाने का इंतज़ाम कर दूँगा। फिर इसके बाद मैंने अपना पजामा पहनकर माँ जी के रूम में जाने की तैयारी कर ली और में अचानक से दीदी की सास के कमरे में धड़ाक से दरवाज़ा खोलकर घुस गया और मुझे इस तरह आया देखकर सासू माँ के होश ही उड़ गये थे',\n",
              " 'वह ब्रा पहने हुए थी',\n",
              " 'ब्लाउज़ में छिपी मक्खन जैसी चिकनी पीठ',\n",
              " 'हमें भी निकल जाना चाहिए अंजान शहर है',\n",
              " 'फिर मैंने उसकी साड़ी भी खोल दी',\n",
              " 'लंड चूसने से जो रस निकला',\n",
              " 'गुड नाइट एण्ड स्वीट-ड्रीम',\n",
              " 'जिसमें से उसका लण्ड बाहर निकला हुआ था।शायद जब वो अपना लण्ड मेरी कसी हुई गाण्ड में डाल रहा था',\n",
              " 'बंद तो उसको अपने घर की बिजली करवानी थी',\n",
              " 'सामूहिक चुदाई … बड़ा मजा आएगा!श्लोक- सच जीजू? मेरा लंड तो इसके बारे में अभी से सोचकर ही खड़ा हो गया। लेकिन सारे सरप्राइज़ केवल आप देंगे तो यह आपके साथ नाइन्साफी है।मेरे पास भी आपके लिए एक सरप्राइज़ है। आप वहां 4 कमरों वाला नहीं 5 कमरों वाला कॉटेज बुक कीजिए। वह भी समंदर के किसी टापू पर',\n",
              " 'कुछ समय बाद घर वापस आने के बाद मैं राजश्री के सामने जा नहीं पा रहा था',\n",
              " 'मैंने कहा- मैं तो रेडी हूँ … बस मेरा औजार खड़ा हो जाए तो काम शुरू कर देता हूँ',\n",
              " 'इससे पहले उसने एक बार भाभी की चूत को मारना ही सही समझते हुए अपना पांच इंच का लंड भाभी की गुलाबी और टाइट चूत के मुहं पर रख दिया',\n",
              " 'वो एकदम से सकपका गयी और पीछे हटकर बोली- क्या कर रहे हो सुमित?मैं फिर से आगे बढ़ा और चाची को बांहों में लेकर बोला- आज मत रोको चाची',\n",
              " 'अब रवि और रवीना की धमाकेदार चुदाई शुरू हुई',\n",
              " 'और यहाँ मैं यह सुन कर मदहोश होता जा रहा था',\n",
              " 'मेरा बदन मेरे काबू से बाहर हो चुका था',\n",
              " '\"कमाल है',\n",
              " 'बस हमको थोड़ा और वेट कर लेना चाहिए',\n",
              " 'जीजू आप कैसे हो',\n",
              " 'फिर बुआ अपने घुटनों के बल बैठ गईं और ज़ोर ज़ोर से लंड को मसलने लगीं',\n",
              " 'लंड चूत में लेकर बुआ खुद ऊपर नीचे होने लगीं ओर चुदाई का भरपूर आनन्द लेने लगीं',\n",
              " 'उनके साथ उनकी बेटी',\n",
              " '<span;>कुछ देर के बाद हम दोनों रूम पर पहुंच गए',\n",
              " 'चल अब अपनी बच्ची को दूध पिला',\n",
              " 'उन्होंने मेरा लंड पकड़कर छेद पर रगड़ कर रास्ता दिखा दिया',\n",
              " 'उसकी पेशाब से मेरा शरीर भीग गया लेकिन उसकी मादक खुशबू से एक बार फिर लंड में कुछ करंट आने लगा',\n",
              " 'रंग गोरा और मित्र कहते हैं कि स्मार्ट दिखता हूँ। मैंने कभी सेक्स नहीं किया था कुछ नैतिक कारणों से और कुछ मौके की कमी की वजह से। पर जैसा कि इस उम्र में होता है मन बहुत करता था और उत्तेजना भी बहुत होती थी।मेरा परिवार छोटा सा है जिसमे मेरे माता पिता',\n",
              " 'उस कमरे में होने वाली सारी आवाजें मुझे साफ-साफ रही थी',\n",
              " '<span;>मैंने कहा- मैं छोड़ देता हूँ',\n",
              " 'बातों में वक़्त ज़ाया न करते हुए जैसे ही मैंने उसकी चूत में अपनी उंगली डाली',\n",
              " 'वो लड़का जिसने जोया को लिफ्ट दी थी',\n",
              " '”तीर निशाने पर लगा था',\n",
              " 'फिर मैंने किचन में जाकर उस मिठाई के शीरे को एक कटोरी में निकाल लाया',\n",
              " 'चलिए खैर … अब उस दिन की बात शुरू करते हैं',\n",
              " 'राहुल मुझे मज़ा आ रहा है। आह! आराम से चूसो ना।तब मेरे मुंह से लार टपकने लगी। मैं बाईं चूची छोड़',\n",
              " 'मैं सोच रही थी कि तेरे चचाजी मुझे भूल गये क्या? इतनी देर कहाँ लगा दी बेटे? तेरे चचाजी तो कह कर गये थे कि बस अभी इमरान को भेजता हूँ। जरा पास आ ना',\n",
              " 'तो बताओं तुमने इंजॉय किया या नहीं',\n",
              " 'मैंने उसकी ब्रा अलग कर दी और उसके कड़क निप्पल को चूसने लगा',\n",
              " 'अब मैंने क्रीम उठाई और उनकी गांड पर लगा दी',\n",
              " 'आशा है यह हॉट मामी सेक्स कहानी आपको पसंद आएगी',\n",
              " 'वो ठाकुर के लिंग को को तो हिलाके ठंडा कर आई थी पर खुद उसके जिस्म में जैसी आग लग गयी थी',\n",
              " 'मेडिटेशन और एक काउंसलर से समस्या पर बातचीत जरूरी है।और पढ़ें : स्ट्रेस कहीं सेक्स लाइफ खराब न करे दे',\n",
              " 'उसने मुझे जोर से दबोच लिया और बोली- वाह',\n",
              " 'मैं उसके पूरे बदन को मसलने और सहलाने लगा',\n",
              " 'इसी कमरे में!!” मैंने कहा“कोई आ गया तो???” वो घबराकर बोली“इसका जुगाड़ हो गया है!!” मैंने कहादोस्तों उस कमरे में लॉक की चाबी दरवाजे में लगी हुई थी। वैसे भी ये स्टोर रूम था और यहाँ पर कोई आता नही था। मैंने दरवाजे से चाबी निकाल ली थी और अंदर से दरवाजा लॉक कर लिया था।उसके बाद मैंने अलका को वही एक पुराने पड़े बेड पर लिटा दिया और उससे प्यार करने लगा। अब ये बेड पुराना हो चुका था और बेकार हो चुका था। पर आज इस पर मेरी गर्लफ्रेंड की ठुकाई तो आराम से हो ही सकती थी। हम दोनों ने अपने अपने स्वेटर निकाल दिए। ये जाड़ो के दिन थे। थोड़ी सर्दी भी थी। पर जैसे ही अलका नंगी हुई',\n",
              " 'रूचि भी सिसकारियां भर रही थी',\n",
              " 'वो लड़का सीधे मेरे पास आ पहुंचा',\n",
              " 'अब वो मस्त होकर चुदाई का मज़ा लेने लगी थीं',\n",
              " 'दोनों हंसने लगे और कहा कि वो दोनों उसको थोड़ा ढ़ीठ बनाएंगे और उसको मेरे सामने हीं गन्दी बातें बोल कर उसकी झिझक खत्म करेंगे। उनदोनों ने शर्त रखी कि मैं भी मौका मिलते हीं उसे चोद लुँगा और फिर उन दोनों से अपना ए़क्स्पीरियंस कहूँगा। फिर अनवर बोला की यार उसकी एक पैंटी ला दो',\n",
              " 'विशाल बड़े मज़े से छोटू पर उछल कूद कर रहा था',\n",
              " '”“ओके”“बोलो',\n",
              " 'मामा ने फिर से लंड बाहर निकालकर जोर से धक्का दे दिया',\n",
              " 'मामा ने मेरी सील तोड़ दी मेरा नाम मुस्कान है। अभी मेरी उम्र 24 साल की है। अभी तक कुवारीं हूँ। लेकिन इसका मतलब ये नहीं की मेरी चूत भी कुवारी हैं। ये तभी चुद गयी थी जब मेरी उम्र 12 साल भी नहीं हुई थी। तब मै आठवीं कक्षा में पढ़ती थी। उस दिन घर में मेरी अम्मा भी नहीं थी। मै और मेरा भाई जो कि मुझसे 5 साल छोटा था घर पर अकेले थे। उस दिन स्कूल की छुट्टी थी। इसलिए मै घर के काम कर रही थी। मेरा छोटा भाई पड़ोस में खेलने चला गया था। मै बाथरूम में नहाने चली गयी। अपने सारे कपडे मैंने हॉल में ही छोड़ दिए और नंगी ही बाथरूम में चली गयी। क्यों कि घर में तो कोई था नहीं इसलिए किसी के देखने का कोई भय भी नहीं था। बाथरूम में आराम से मै अपने चूत को सहलाने । सहलाते सहलाते अपने चूत में ऊँगली डाल ली। पूरी ऊँगली अन्दर चली गयी। बड़ा ही मज़ा आया। अन्दर चूत में ऊँगली का स्पर्श साफ़ महसूस हो रहा था। मै अपने ऊँगली को चूत में घुमाने लगी। मुझे लगा कि शायद चूत में अभी भी बहूत जगह इसमें खाली है। मैंने बाथरूम में रखा हुआ पुराना टूथब्रुश लिया और उलटे सिरे से पकड़ कर अपने बुर में डाल लिया। मै नीचे जमीन पर बैठ गयी और अपनी दोनों टांगो को पूरी तरह फैला दिया। इस से मुझे अपने बुर में ब्रश डालने में काफी आसानी हुई। अब मुझे बहूत ही मज़ा आने लगा। इतना मज़ा आ रहा था कि पेशाब निकलने लगा। करीब आधे घंटे तक मैंने अपने चूत में कभी शेम्पू तो कभी नारियल तेल डाल डाल के मज़ा लेती रही। और ब्रश से चूत की सफाई भी करती रही। थोड़े देर के बाद मै नहा कर वापस अपने कमरे में आ गयी। थोड़ी देर के बाद मेरा छोटा भाई भी बाहर से आ गया। उसी शाम में मेरी अम्मा के दूर के रिश्ते में भाई लगने वाले एक रिश्तेदार मेरे यहाँ आ धमका । उसकी उम्र रही होगी कोई 20-21 साल की। उनको मेरी अम्मा से कुछ काम था। लेकिन अम्मा तो कल शाम में आने वाली थी। मैंने अम्मा को फोन कर के उसके बारे में बताया तो अम्मा बोली आज रात को उसे अपने घर में ही रुकने के लिए बाहरी कमरा दे देना। रात को खाना पीना खा कर सभी चुपचाप सो गए। रात 11 बजे मुझे पिशाब लग गया। मै बाथरूम गयी तो मुझे फिर से वही सुबह में चूत में ब्रश डालने वाली घटना याद आ गयी। मुझे फिर से अपने बुर में ब्रश डालने का मन करने लगा। मैंने अपने सारे कपडे खोल कर अपने बुर में ब्रश डाल कर मज़े लेने लगी। मुझे अपने बाथरूम का दरवाजा बंद करने का भी याद नहीं रहा। मै दीवार की तरफ मुह कर के अपने चूत में ब्रुश डाल कर मज़े ले रही थी। तभी पीछे से आवाज आई- ये क्या कर रही हो मुस्कान? ये सुन कर मै चौंक गयी। मैंने पलट कर देखा तो मेरा मामू मसूद ठीक मेरे पीछे खडा था। वो सिर्फ एक तौलिया पहने हुए था',\n",
              " 'और कमरे की डिम लाइट',\n",
              " 'ज्यादा मतलब बहुत बार',\n",
              " 'लेकिन थोड़ी देर बाद मेरी गांड उनके लंड की आधी हो गई और मुझे भी थोड़ा थोड़ा मजा आने लगा',\n",
              " 'मैं- वैसे किशन तू बिल्कुल तेरी मम्मी जैसा ही लगता है',\n",
              " 'मुझे उनकी आंखों में सिर्फ हवस ही दिखती थी',\n",
              " 'जब थोड़ी देर बाद हमें आराम मिल गया तो मैंने उसकी एक चूची को मुँह में लेकर चूसना शुरू कर दिया; साथ ही हल्के से उसकी गांड को सहलाने लगा',\n",
              " 'तब तक जब भी मन करेगा',\n",
              " 'चाट चाट के मैं मदहोश हो गया और मेरा लैंड तो फन फन्ना रहा था',\n",
              " 'मैं तो कल से देख रहा हूँ',\n",
              " 'वो प्यासी है उसकी बुर में आग लगी है और मेरा काम बन सकता है।एक दिन मैं सोने के लिये बेडरूम में आ गया तो देखा की दीदी अपनी गैलरी में खड़ी थी। मैंने सोचा कि मौका अच्छा है। फ़िर तुरन्त ही अपना पैन्ट उतार कर',\n",
              " 'कियान कियारा को अपनी बाहों के लिए हुए अपने प्राइवेट रूम में लेकर जाता और बेड पर सुला देता और उसे किस करने लगता है । । अब आगे । ।कियान कियारा के नेक पर बेतहासा किस करता है और उसके शोल्डर से उसकी साड़ी का पल्लू हटा देता और कियारा को पलट उसकी बैक को अपनी तरफ करता है और अपने होठों से उसके ब्लाउज के हुक खोलने लगता है । । कियान के हर एक टच से कियारा सिमटी जा रही थी । ।उसने आज अपने आप को कियान को सौप दिया । । उसने ये सोच लिया की अगर उसके और कियान के मिलने से उसे तकलीफ होती है तो वो आज us दर्द को हमेशा के लिए खतम करेगी । । ।कियान ने कियारा के ब्लाउज के सारे हुक को खोल दिया और अपने तपते होठों को कियारा के बैक पर रख दिया और उसे किस करने लगा । । इस वक्त कियान का एक हाथ कियारा के ब्रेस्ट पर था और दूसरा उसके गले पर था । । कियान किसी पागल की तरह कियारा के बैक को चूम रहा था । । कियान ने कियारा के बैक पर किस करते हुए उसके बैक पर अपने दात धसा दिया जिससे कियारा की चीख निकल गई । । कियारा ने बेड पर बिछी चादर को अपनी मुट्ठी में कस लिया । । बढ़ते वक्त के साथ कियान वाइल्ड होते जा रहा था । । कियान ने कियारा को एक झटके में पलटा और उसके उपर आ गया । । कियारा अपनी नशीली आंखों से कियान को देख रही थी । । कियान उसकी उन गहरी आंखो में डूब जाना चाहता था । । कियान ने एक झटके में कियारा के ब्लाउज को उसके बॉडी से अलग कर दिया । । इस वक्त कियारा के मखमली से बॉडी के अपर पर बस ब्लैक कलर की ब्रा थी । । कियारा की बॉडी किसी भी इंसान को पागल बना सकती थी । ।कियान झुका और अपने होठों को कियारा के क्लीवेज पर रख दिया और उसे किस करने लगा कियारा ने अपने हाथो को कियान के चारो तरफ लपेट लिए ।। । और कियान की शर्ट को अपनी मुट्ठी में कस लिया । ।कियान कियारा की क्लीवेज पर किस और बाइट कर रहा था । कियान ने अपने सिर को कियारा के चेस्ट पर रख दिया और अपने हाथो को कियारा के पेट पर सहलाने लगा जिससे कियारा के बॉडी में गूसबंप्स हो रहे थे । । कियान धीरे से उठा और कियारा की साड़ी को खोलने लगा । ।कियारा ने अपनी आंखे बंद करली । । कियान ने कियारा की बॉडी से उसकी साड़ी को अलग कर दिया और उसके कपड़े को बेड के नीचे गिरा दिया । । कियान ने एक झटके में अपने शर्ट को अपने बॉडी से अलग कर दिया और अपनी और कियारा की बॉडी को एक दूसरे से चिपका दिया । । आज वो कियारा जिस्म से ही नही रूह से भी अपना बनाना चाहता था । ।',\n",
              " 'बहुत सुंदर है आपकी यह चूत और आज तो इस मैदान पर घास भी साफ है',\n",
              " 'मैं पहली बार किसी इस तरह अधनंगी लड़की को अपने आगोश में महसूस कर रहा था',\n",
              " 'फिर नाश्ता करके भाभी तैयार हो गईं',\n",
              " 'हाउस मेड पोर्न कहानी में पढ़ें कि मेरी बीवी मायके गयी तो मैंने अपनी जवान कामवाली की खूब चुदाई की',\n",
              " 'फिर मेने अपना लंड शेली के लिप पर रखा मेरी बहन काफ़ी समझदार थी तो उसने खुद अपना मुँह खोल लिया ओर लंड के टोपे को चूसने लगी मेने अपनी बहन का मुँह पकड़ा ओर ज़ोर से झटके मारने लगा जिससे लंड मेरी बहन के गले तक चला गया शेली मुझे धक्के से पीछे करने लगी क्योकी मेरी बहन का सांस रुक गया था मेने 2 या 3 झटके मार कर लंड मुँह से निकाल लिया मेरी बहन खांसने लगी फिर बोली भैया आराम से कर लो ऐसे तो मत करो कोई रंडी तो नही हूँ जो ऐसा कर रहे हो तो मैं बोला बहन चूसती तो ऐसे है जेसे पहले कई लंड चूसे है तूने ओर अपने भाई को भी बता दे किस किस की रंडी बनी है और किसका बिस्तर गर्म किया है मेरी बहन ने तो वो बोली भैया कैसी बात करते हो ऐसा कुछ नही है तो मैं बोला शेली झूठ मत बोल अब तो तू मुझे बता सकती है इसमें छिपाने वाली बात ही नही है तो शेली बोली भैया मेरी क्लास मैं एक लड़का है साहिल जो आपकी बहन को लंड चुसवाता है पर आपके जेसे थोड़े जो मेरे गले तक डाल दिया मेरी सांस रुक गई थी तो मैं बोला कभी चूत भी मरवाई मेरी बहन ने उससे तो वो बोली कभी मोका नही मिला तो मैं बोला पहले मैं तेरी चूत खोल दूँ',\n",
              " 'बताओ कांता।कांता- हाँ',\n",
              " 'मेरा लंड खड़ा तो पहले ही हो चुका था अब उसमें और कठोरता आने से मुझे बेचैनी महसूस होने लगी थी',\n",
              " 'हम दोनों ने एक दूसरे को बांहों में कस लिया',\n",
              " 'मेरी शादी के बाद हम देहरादून शिफ्ट हो गये',\n",
              " 'मैंने दीदी से कहा- दीदी प्यार अलग है और शरीर की जरूरत अलग बात है',\n",
              " 'ऋतु मेम मुझे किस करती हुई रुक ही नहीं रही थीं',\n",
              " 'काश कि मुझे बीवी मॉम जैसी मिले और अगर ऐसा सच हुआ तो मैं उससे इतना प्यार करूँगा की उसे कभी ऐसा कुछ नहीं करना पड़े',\n",
              " 'की आवाज निकल रही थी',\n",
              " 'भाभी की दोनों चूचियों को पकड़ कर सहलाने लगा और दबाने लगा',\n",
              " 'अब मैं बारहवीं में आ गया था',\n",
              " 'मैं तो उत्तेजित था लेकिन उसके कहने पर मैंने थोड़ा धीरे चूमना शुरू कर दिया',\n",
              " 'मेरी इस चूत की ज़मीन पर अपना सारा पानी गिरा कर मेरी प्यास बुझा दो',\n",
              " 'बस उसके लबों से निकलती महक को बस सूंघता ही रहूँ',\n",
              " 'वो मेरे लंड को आगे पीछे करते हुए चूस रही थी और मेरे टट्टे को भी सहला रही थी और मैं आहा ऊंह ऊम्ह आहा ऊंह ऊम्ह आहा ऊंह ऊम्ह आहा ऊंह ऊम्ह आहा ऊंह ऊम्ह आहा ऊंह ऊम्ह करते हुए उसके मुंह में अपना लंड अन्दर बाहर कर रहा था',\n",
              " 'ऐसे में हम लोगों ने 10 मिनट चुदाई की',\n",
              " 'आपको मेरे इसको अपनी मुट्ठी में पकड़ कर के इसे स्पीड से आगे पीछे करना है ताकि ये पानी छोड़ दे और बैठ जाये',\n",
              " 'क्योंकि मेरे पति बाहर काम से चले जाते है और कई कई महीनों तक वापस नहीं आते। फिर मैंने कहा कि क्या में आपको मेरी अपनी मेल आईडी दूँ? तो उसने कहा कि हाँ बताइए। तो मैंने कहा कि लिखिए मेरी आईडी',\n",
              " 'यह हॉट वर्जिन पोर्न स्टोरी उन दिनों की है',\n",
              " 'बस गां!! ज्यादा मारते हैं मेरी !\"मैं अंधेरे में ही चाची पर चढ़ा और चाची ने अपने हाथ से मेरा लं!! अपनी चू!! में घुसेड़ लिया। मैं चो!!ने लगा। एकदम ढीली चू!! थी चाची की',\n",
              " 'भाभी ने मेरा सर पकड़ कर अपनी चूत में दबा दिया और अपने दोनों पैरों के पंजों पर खड़ी होकर मुझे दबोच सा लिया',\n",
              " 'उनका नाम रेनू था',\n",
              " 'उस रात भी मैंने दोनों की चुदाई देखी और उस रात भी दोनों ने 3 बार चुदाई की',\n",
              " 'ओह',\n",
              " 'नगमा बानो कोठे की मालकिन भी थी और मस्त रांड भी थी',\n",
              " 'क्या तुमको मेरा बड़ा लंड देखकर डर लग रहा है? घबराओ नहीं',\n",
              " 'एक दिन भगवान ने मेरी तड़पती हुई चूत की पुकार सुन ली और मुझे मौका मिल ही गया',\n",
              " 'फौलादी सीना',\n",
              " 'कभी कभी तो जोश में मैंने उसके चूचियों को पूरी ताकत से दबा कर मसल दिया। पर उसके बूब्स उत्तेजना में इतने टाइट हो गये थे कि एकदम पत्थर से लगते थे पर मैंने भी उनको ऐसा मसला कि साली की हालत खराब हो गयी।एक तो उसकी चूत वैसे ही फ़ट रही थी और ऊपर से मैंने उसके निप्पल भी पूरे जोर से मसल दिये तो रानी की मस्ती के साथ दर्द के मारे इतनी जोर से चीख निकली कि मैं डर गया कि कहीं पड़ोस में किसी को पता न चल जाये',\n",
              " 'गांड ने ढीली होकर मुँह खोला ही था कि अब्बू ने लंड का सुपारा खाला की गांड के छेद में जोर से दबा दिया',\n",
              " 'ऐसा लगता है कि हम कुंभकरण की सेना लेकर आए हैं!मैं पीछे चली गई',\n",
              " 'मेरी दीदी ने इस बात पर मेरी एक चूची को जोर मसला और हंसते हुए बोलीं- जा छोटी जा … बनवा ले अपनी चुत का भोसड़ा और बन जा मेरी सौतन',\n",
              " 'वो बोली- नहीं जीजाजी',\n",
              " 'मैंने एक बार फिर से आंटी के मुंह में लंड डाल दिया ताकि वो थूक से पूरा चिकना हो जाये',\n",
              " 'जो चुदाई करवाकर मेरे लंड को शांत कर दे',\n",
              " 'हम दोनों स्कूल भी साथ में जाया करते और घर भी एक साथ ही आया करते',\n",
              " 'अब कुलजीत सिंह को चूत चाहिए? इसमें मेरा क्या भला होगा?”“तू मेरा दोस्त है',\n",
              " 'बेला अबीर को बाय कर नहाने चली गई',\n",
              " 'इतना तो मेरी दीदी चुदते समय भी नहीं झड़ थी।मेरी नाजुक प्रियंका दीदी की देह काँप रही थी',\n",
              " 'रूना को इतना ज्यादा मजा आ रहा था कि वो बिल्कुल बेसुध हो गई मानो हवा में उड़ रही हो',\n",
              " 'लंड निकाला ही नहीं',\n",
              " '“क्या हुआ जीजू',\n",
              " 'तो दरार स्पष्ट नज़र आ रही थी।फिर मैं उसकी चूत में जीभ घुसाए चाटने लगा',\n",
              " 'माहवारी के दिनों में भी आंटी मुझे चोदने देती हैं',\n",
              " 'मारने क्या देगी !\" पैंटी के ऊपर से ही काशीरा के चू!!ड़ दबा कर चचा बोले।काशीरा चाची की बुर से मुँह उठा कर बोली- चचा',\n",
              " 'माँ कभी कल्पना नहीं कि होगी की में ऐसा करूँगा उनके लिये',\n",
              " 'सेक्स कहानियों का आनंद लेते हुए मेरे मन में भी कई बार ये ख्याल आया कि मैं भी अपनी दबी हुई यादें कहीं शेयर करूं',\n",
              " 'कभी उसकी गर्दन के चारों तरफ किस करता रहा',\n",
              " '<span;>मैंने अन्तर्वासना पर काफी सेक्स कहानी पढ़ी थीं',\n",
              " 'अंदर बाहर होता उसी तरह उसकी उंगली भी मेरी बहन की चूत में',\n",
              " 'वो भी साथ देने लगी।मैं 15 मिनट उसकी गाण्ड मारता रहा। फिर हम तक चुके थे और सो गये। 3 बजे उठकर एक बार फिर चुदाई की फिर बाथरूम में बाथटब में चुदाई की।शाम 6 बजे हम होटल से निकले और उसे उसके हॉस्टल तक छोड़ा।फिर मैं अपने हॉस्टल आकर सोने जाने लगा',\n",
              " 'फ़िदा हो जाता है !चचा वापस आये और मेरी गां!! में मक्खन चुपड़ने लगे।\"अरे ये क्या जरा सा चुपड़ रहे हो',\n",
              " 'मेरा लन्ड खड़ा करके। मेरे से कपड़े उतरवाना है तो आ जरा लन्ड चुस मेरा।\" वो भी थोड़ा तुनक कर बोली - \"अच्छा',\n",
              " 'मैं अब छत पर चली गयी',\n",
              " 'मगर वो साला ठहरा 55 साल का बुड्डा और मैं 27 साल की माल दीखने वाली लड़की जिसकी हवस सिर्फ एक जवान मर्द ही मिटा सकता था',\n",
              " 'एक पुराने जीवन को अब एक नये जीवन के रूप में डालकर उसको फिर से जीने का जो मौका नसीब ने दिया है',\n",
              " 'इतना कहना था कि रकुल मेरे पास आई और अपने होंठों को मेरे होंठों से लगा दिया और आंखें बंद कर लीं।मैंने उसके होंठों को चूसना शुरू किया और एक लम्बा चुम्बन उसे किया। उसके गोरे गाल शर्म से लाल हो गये थे।सीमा और नील के आने के डर से वो वहां से निकल गयी।अब अगले दिन से मैंने नोटिस किया कि रकुल अब अपने हाथ पर निशान बनाना भूलने लगी थी',\n",
              " 'आपका बहुत बड़ा लंड है और मेरी गांड बहुत टाइट है',\n",
              " 'आज दोंनों बहुत सालों बाद एक दूसरे से मील रहे थे',\n",
              " 'वो मेरा धन्यवाद करने लगीं और बोलीं- हम आपका ये अहसान कैसे चुका पाएंगे',\n",
              " 'कुछ ही मिनट में भाभी अन्दर से मस्त सेक्सी नाईटी पहन कर आ गई और मेरी गोद में बैठ गई',\n",
              " 'एक दिन मैं ऑफिस में था',\n",
              " 'मैंने महसूस किया कि मनीषा पागलों की तरह मेरे ट्राउजर को बार बार घूर रही है',\n",
              " '<span;>ये सुनकर तो मानो मेरे लिए खुलेआम चूत चुदाई का मौक़ा मिलने जैसा हो गया था',\n",
              " 'ये सही नहीं है।पर वो अंदर ही अंदर बहुत खुश थी उसने अपने दिल की बात मुझे बाद में बताई थी कि मैं भी आपको पसंद करती हूँ।तो इस घटना के बाद हम सेक्स करने के लिए मौका ढूंढ ही रहे थे कि एक दिन मेरी बीवी को मेरे मम्मी पापा का काल आया और वो घर जाने के लिए बोलने लगी',\n",
              " 'कीड़े पड़ना ( worm infestation)अगर आप बहुत अधिक एनल ओरल सेक्स करते हैं',\n",
              " 'आपको मैं उतना ही प्यार दूंगा',\n",
              " 'मैंने दो धक्के और मार कर पूरा लण्ड उसकी गाण्ड के अंदर कर दिया और धक्के लगाने लगा।पहले तो नीतू को दर्द हुआ पर थोड़ी देर बाद नीतू भी इस गाण्ड चुदाई का मजा लेने लगी।मैं उसे कुतिया बना कर उसकी गाण्ड मार रहा था और वो भी पीछे धक्के लगा रही थी',\n",
              " \"इसमें बुरा मान'ने वाली बात कौनसी है\",\n",
              " 'इसके बाद रात में भी हमारे बीच दो बार चुदाई हुई',\n",
              " 'अर्धव बाइक पर बैठ कर बाइक स्टार्ट करता हैं',\n",
              " 'फिर क्या था',\n",
              " '“क्या देख रहा है? क्या देखता ही रहेगा या कुछ करेगा भी?”मिने दीदी से कहा',\n",
              " 'थोड़ी देर में मैं वॉशरूम जाने के लिए उठा',\n",
              " 'साली तू तो पूरी गीली हो गई है',\n",
              " 'मैंने उसको लेटा कर उसकी कमर के नीचे तकिया सही से लगाया और हाथ से बुर का छेद खोज कर एक हाथ से बुर के दोनों फलकों को फैला दिया',\n",
              " 'मैं अभी तक उसकी गांड के बारे में ही सोच रहा था',\n",
              " 'मैं आपको हर तरह से खुश करना चाहता हूँ',\n",
              " 'मेरा पूरा रस उसके मुँह में चला गया',\n",
              " 'मैंने आंटी को अपना लंड मुंह में लेने के लिए कहा तो वो कहने लगी कि मुझसे लंड मुंह में नहीं लिया जायेगा',\n",
              " 'सेक्सी गर्ल- ओके',\n",
              " 'तो बिना चोदे छोड़ूंगा नहीं',\n",
              " 'दूध वाली-2दोस्तो',\n",
              " 'मैं लंड आगे पीछे करने लगा और नेहा को भी जोश आने लगा',\n",
              " 'दो मिनट बाद ही उसकी चूत ने पानी छोड़ दिया',\n",
              " '3 साल बंजर चूत मे वीर्य की बाढ़ आयी थी',\n",
              " 'अघौरी - मास हैं',\n",
              " 'मैंने उसको अगले दिन बाथरूम में भी चोदा',\n",
              " 'पर आज तुमने मुझे मौका दिया',\n",
              " 'फिर मन में प्रश्न उठा कि इसकी चूत अभी भी सील बंद होगी या …?इसकी चूत की भगनासा और मोती कैसा होगा … इसकी तो गांड भी मस्त होगी … इसके होंठ चूसते हुए इसकी चूत मारने में क्या मस्त मज़ा आएगा … भरपूर जवान हो गई है सो मेरा लंड तो झेल ही लेगी',\n",
              " 'मैं आशा करती हूं कि आप लोगो को मेरी ये सेक्स कहानी पसंद आएगी',\n",
              " 'मेरे पिताजी वहाँ नहीं थे और एक व्यापारिक सौदे के लिए मुंबई गए थे। मेरी माँ ने एक अच्छी काले रंग की डिज़ाइनर काम की साड़ी पहनी थी',\n",
              " 'फिर भी ससुर जी ने मेरे मम्मों को जोर से दबाते हुए झटके मारने जारी रखे',\n",
              " 'वो हम दोनों को हाथ पकड़ कर सामने एक जगह पर ले गई',\n",
              " 'वो दोनों एकदम से चिपक कर एक दूसरे को किस करने लगे',\n",
              " 'उसके लार का धार निकल कर नीचे टपक रही थी और वो एक सड़कछाप रांड के जैसे मेरे लंड को अपने मुँह में गले गले तक लेती जा रही थी',\n",
              " 'उसके बारे में कभी बहुत अच्छे से आप सबको बताऊंगा',\n",
              " 'बहुत मजा आया',\n",
              " 'इतनी सेक्सी फिगर वाली लड़की को चोदने के लिए तो 70 साल के बुड्ढे का लंड भी तड़प उठे',\n",
              " 'वो बोली- लाइट बंद कर दो प्लीज',\n",
              " 'गांड को और खासतौर से गांड के छल्ले को ढीला छोड़ना। अपना ध्यान वहां से हटा लेना।पर इस वक्त मैं अपनी दीदी को यह बात नहीं बता सकता था',\n",
              " 'दीदी ने अपनी चुदाई की कहानी पूरी बताई',\n",
              " 'मैंने भी बोल दिया- बस आप बस मुझे ऐसा मौका देती रहा करो डार्लिंग … बाकी मैं तो आपकी सेवा के लिए ही लंड खड़ा किए रहूँगा',\n",
              " '। उसका मन करता था वह भी इस लड़की की जान उसके शरीर से निकालकर अलग कर दे',\n",
              " 'बातों-बातों में मैंने देखा कि उनकी आंखों में एक मादक और उत्तेजक निमंत्रण दिख रहा था',\n",
              " 'मेरी दोस्त आयशा ने मुझे भाई बहन की चुदाई की कहानी बताई थी',\n",
              " 'जो उस महिला के घुटनों पर भी थोड़ा था',\n",
              " 'मैं वहीं पर घुटनों के बल बैठ गया और आंटी की चूत को जीभ से चाटने लगा',\n",
              " 'चाची की चुदाई की कहानी अगले भाग में आगे लिखूंगा',\n",
              " 'जब मैंने मेम को चोदा',\n",
              " 'शायद अभी तक भाभी ने मेरा सारा सामान भी हिलता फूलता देख लिया होगा',\n",
              " 'उसका लण्ड पहले से बड़ा खड़ा और तैयार था बिना देर किए उसने मअपना लौड़ा पेल दिया मेरे रूपाली दीदी की क गांड में',\n",
              " 'दूसरे हाथ से अपने लंड को पकड़ कर बुर के छेद पर रखा और ट्रेन की गति से लय मिलाते हुए धीरे से धक्का लगा दिया',\n",
              " 'हनीप्रीत की चूचियां चूसते चूसते धीरे धीरे लण्ड को अन्दर बाहर करते हुए मैं हनी के होंठ चूसने लगा और उसकी जांघों पर हाथ फेरता रहा',\n",
              " 'नीचे से मैंने फिर उसकी चूत में उंगली करनी शुरू कर दी',\n",
              " 'मैंने अपने हाथ उन दोनों के लंड पर रखे हुए थे और उनके लंड को हिलाना शुरू कर दिया',\n",
              " 'मेरी रूपाली दीदी बिल्कुल नंगी हो चुकी थी और जुनैद भी',\n",
              " 'जब मैं भाभी से मिलने जाने वाला था',\n",
              " 'उनका गोरा और नंगा बदन',\n",
              " 'आपकी चूत की खुशबू बहुत मादक लगती थी',\n",
              " 'आ जा मेरे पास जल्दी ! कब से राह देख रही हूँ !\" चाची ने खुश होकर कहा।मैं जाकर उनके पास बैठ गया',\n",
              " 'कुछ मिनट चूत चाटने में वो गर्म हो गईं और बोलीं- मुझे पेशाब आ रही है … मैं मूत कर आती हूँ',\n",
              " 'रूचि अब बहुत ही गर्म हो गयी थी',\n",
              " 'लेकिन मुझे साथ में बड़ी शर्म भी आ रही थी। मैं अपनी ब्रा को हाथों से छुपा रही थी',\n",
              " 'जुनेद मेरी प्रियंका दीदी की हचक हचक के गांड मार रहे थे',\n",
              " 'हम दोनों पांच मिनट यूं ही पड़े रहे',\n",
              " '<span;>उसके चूचे इतने बड़े थे कि मेरे हाथ में नहीं आ रहे थे',\n",
              " 'भाभी ने प्यार से लोवर के ऊपर से ही लंड को सहला कर लंबा कर दिया और मेरे बदन से चिपक गईं',\n",
              " 'और मेरी चूत से रस रिसने लगा था',\n",
              " '<span;>मैंने अपना नेकर निकाला और उसके मुँह सामने लंड कर दिया',\n",
              " 'इसलिए मैं छुड़ा नहीं पायी',\n",
              " 'बेचैनी के कारण अनवर एक बार फ़टाफ़ट चुदाई कर चुका होगा। अब मेरे मन में भी था कि देखूँ कि निशु कैसे चुदवाती है। कम से कम अंत भी तो मैं देख सकता था। पर जब कमरे में घुसा तब देखा कि अभी तो असल चुदाई शुरु भी नहीं हुई है। अनवर नीचे कालीन पर लेटा है और निशु उसके लण्ड को चूस रही है। दोनों मादरजात नंगे थे। मेरी तरफ़ निशु की गाण्ड थी और वो झुकी हुई थी इसलिए उसकी गीली',\n",
              " 'लेकिन मैं बार बार उनका हाथ हटा देती थी',\n",
              " 'मैं तुम्हारी मदद करने के लिए कभी भी टाईम नहीं देखूंगा',\n",
              " 'दिन भर मज़ा लिया करेंगे ! छोटी वाली तो कुंवारी लगती है?”“हाँ बेटा अभी ठीक से चुदी नहीं है',\n",
              " 'जैसे ही पूरा लंड उसकी चूत में गया तो उसकी चूत ने फिर से पानी छोड़ दिया',\n",
              " 'असलम ने मेरी रूपाली दीदी की गांड मराई बंद कर दी थी',\n",
              " 'माँ के चुचे बड़े-बड़े और कसे हुए थे और मस्त शरीर था',\n",
              " 'रक्षित उसके अंडरपैंट्स निकालते हुऐ कहता है।और अपने होंठो को उसके सेंसिटिव पार्ट पर रख देता है।जन्नत सुन पड़ जाती है और और उसकी क़मर कांप रखी थी वो रक्षित के कंधो को tightly पकड़ लेती है।रक्षित उसे सक करते हुए उसके साथ फोरप्ले कर रहा था और उसके अंदर अपनी tongue move कर रहा था।जन्नत को काफी दर्द हो रहा था।आधे घंटे बाद रक्षित रुकता है और अपन चेहरा उससे दूर करता है उसके बाल बिखरे हुए थे।उसके दूर होते ही जन्नत अपना सर ग्लास विंडो पर टिका लेती है वो बुरी तरह से हाफ रही थी उसकी आंखो में दर्द से आसूं आ गए थे साथ ही दर्द से उसका चेहरे एक दम लाल पड़ गया था।\"Did you enjoy \"',\n",
              " '730हॉट Xxx भाभी चुदाई कहानी मेरे पड़ोस में रहने वाली गर्म आइटम की है',\n",
              " '’ की आवाज़ करने लगी। लेकिन उससे ज्यादा तेज आवाज़ समंदर की लहरों की थी। कुछ देर चुदाई का खेल चला',\n",
              " 'जबकि दूसरी तरफ असलम मेरे रूपाली दीदी की गांड में अपना लौड़ा डाल के हचका के पेल रहा था',\n",
              " 'मेरे लंड को चूसकर इसे जल्दी ही जोश में लाओ … क्योंकि आज मुझे तेरी चौड़ी ओर मोटी गांड मारना है',\n",
              " 'उस वक़्त मेरी सलवार निकली हुई थी और शिजू मेरी चूत चाट रहा था',\n",
              " 'फिर मैंने एक इंच लंड बाहर निकाला और अन्दर बाहर करने लगा',\n",
              " '<span;>अगली सुबह मैं अपने घर वापिस आकर उसके फोन का इंतज़ार करने लगा',\n",
              " '?पद्मा - पहली बार तो घर में ही चोदा था',\n",
              " 'सोफ़िया भाभी ने टीशर्ट और लोअर पहन रखा था और काफी अच्छी भी लग रही थी',\n",
              " 'और एक जोरदार झटके के साथ ही उसका आधा लण्ड मेरी रूपाली दीदी की गांड के अंदर था',\n",
              " 'वो सिर्फ़ उसकी हैं',\n",
              " 'मगर ये सेक्स कहानी तब की है जब मैंने कुंवारी थी और मेरी चुत में न तो उंगली गई थी और न ही किसी का लंड मैंने देखा था',\n",
              " '<span;>मेरी चूचियां पीने के बाद वह मेरी चूत चाटने के लिए आया',\n",
              " 'ऊपर से दूध सी गोरी',\n",
              " 'आप लगवा लो इससे आपको आराम मिल जाएगा',\n",
              " 'उसके बाद मैंने उसको अपनी ओर खींच लिया और उसको बांहों में लेकर उसकी उसके जिस्म को सूंघने लगा',\n",
              " 'मैं इस वक़्त का मज़ा बिल्कुल भी खराब नहीं करना चाहता था',\n",
              " 'अब भाभी बस सफेद ब्रा और पैंटी में रह गई थीं',\n",
              " 'बताया कि मैं एक बार फिर से उनकी सहेली प्रीति को मन भर के चोदना चाहता हूँ',\n",
              " 'अपने लण्ड पर कॉण्डोम चढ़ाकर मैं आंटी की टांगों के बीच आ गयाइंडियन सेक्सी आंटी कहानी का अगला भाग: बबीता और उसकी बेटी करीना की चुदाई- 3',\n",
              " 'ऐसी चूची टाइट बिल्कुल खड़ी खड़ी मैंने तो आज तक नहीं देखी',\n",
              " 'वैसे तो तेरी रूपाली दीदी बड़ी संस्कारी बनती है',\n",
              " '”“आंटी अगर आपने मुझमें और कुलजीत में कोई फर्क नहीं समझा तो जैसे कुलजीत को हजारों बार अपना दूध पिलाया है',\n",
              " 'सो चाची ने उनकी फोटो रखकर पूजा की। सभी लोग पूजा करके जाने लगे',\n",
              " 'आदिल जब देखता है की राखी को जायदा दर्द हो रहा है तो वो रुक जाता है',\n",
              " 'अलगे दिन मम्मी पापा घर आ गए।अब मेरा बड़े लंड से चुदाई का डर खत्म हो गया क्योंकि मैं समझ गई कि चुदना तो एक न एक दिन पड़ता ही है।मगर उसके बाद मैंने रिंकी को साफ साफ बोल दिया कि जो भी हो करुँगी लेकिन ये सब करने को मत कहना … क्योंकि यदि भाई को पता चल जाता तो हो सकता था उसको खराब लगता या फिर हो सकता था कि मेरी इस मजबूरी का वो रोज ही फायदा उठाता।इस सब के बाद मेरी बहुतों से चुदाई हुई क्योंकि मेरी जरूरतों ने मेरी आदतों को बदल दिया था।वो सब कहानियां कभी आपको जरूर सुनाऊंगी।आपको ये छोटी बहन की चुदाई की कहानी अच्छी लगी? अपने मैसेज में जरूर बतायें।',\n",
              " 'दो-तीन दिन बाद क्यों?\" अब निशु मुस्कुराते हुए मेरे कान के पास फ़ुस्फ़ुसा के बोली - \"थोड़ा समझा करो रवि भैया',\n",
              " 'और फिर विक्रांत अंशा के कांपते होठों को दिवानों की तरह चूमने लगता हैं',\n",
              " 'मुझे कुछ बुरा नहीं लगा उसकी बात का',\n",
              " '<span;>मैंने उसको बांहों में भरा और उसको किस किया',\n",
              " 'फिर दोबारा से एक धक्का मारा तो पूरा लंड उसकी चूत में जा फंसा',\n",
              " 'मगर वो जाने को तैयार नहीं थे और मुझे जबरदस्ती मेरी घुटनों पर बैठा दिया और अपना लंड मेरे मुंह में डाल दिया',\n",
              " 'कमर पतला पर उसका गांड बहुत ही चौड़ा और जांघ मोटा मोटा',\n",
              " '<span;>मैंने पीछे से उसकी बुर में अपना लंड लगाया और धक्का देने लगा',\n",
              " 'धक्के पे धक्का',\n",
              " 'कोमल मेरे लंड की आदी हो गई थी और मैं उसकी चूत का',\n",
              " '” ऐसा कहते हुए दोनों एक दूसरे को गले से लगा लिया',\n",
              " 'मुझे ये वीडियो पसंद नहीं आया',\n",
              " 'मैं अचानक हुए इस व्यवहार से चौंक गया और खुद को जन्नत में महसूस करने लगा',\n",
              " 'उस वजह से चूतड़ों की फट फट की आवाज भी सुनाई दे रही थी',\n",
              " 'वह मुझे डॉक्टर के बारे में भी बताती थी कि उनकी वाइफ मुम्बई में रहती है और वो महाराष्ट्र वाली नर्स खुद को डॉक्टर की वाइफ जैसे ट्रीट करती है',\n",
              " 'तुम्हें कैसे भूल सकता हूँ मैं',\n",
              " 'अमित भी बहुत दुखी था',\n",
              " 'जरा आंटी की तड़फ भी तो देख लूं',\n",
              " 'वो पलटकर अपने कमरे तक वापिस पहुँची और कमरे का दरवाज़ा खोल दिया',\n",
              " 'ठीक है बाबू जी जैसी आपकी मर्जी',\n",
              " 'मैं- किसने?सेक्सी गर्ल- एक ब्वॉयफ्रेण्ड था',\n",
              " 'ओह्ह इसे चोद दीजिये !”उसकी चूत पानी छोड़ने लगी थी। गदरायी चूत को हाथ से सहलाते मुझे भी जन्नत दिखने लगी थी',\n",
              " 'होमोसेक्सुअल हिंदी गांड सेक्स कहानी आपको कैसी लगी?प',\n",
              " 'हंसना आदि',\n",
              " '’ शब्द पर गर्म होने लगा',\n",
              " 'चार दिन बाद मैं उनके घर गया और भैया भाभी से बातें करके वहां से अपने घर आने लगा',\n",
              " 'मैं अपनी नंगी चूचियों को छिपाने लगी',\n",
              " 'चल अब बिल्ली मारने का टाइम आ गया है',\n",
              " 'लंड सहलाते हुए मैं एकता के थोड़ा और नजदीक सरक गया और धीरे से लंड को एकता की गांड के पास लगा दिया',\n",
              " 'तो मैंने सोचा कि चलो थोड़ी देर बालकनी में जाकर किसी लोंडे को ताड़ा जाये।लेकिन वहां कोई आया नहीं',\n",
              " 'फिर धीरे धीरे मेरे लंड में फिर से हलचल होने लगी',\n",
              " 'और फिर पूरी ताकत से कचकचा के',\n",
              " 'कुछ ख्याल हमारा भी रख लेते।मुझे लगा कि अब भाभी को सारी बातों का पता ही लग गया है तो क्यों ना बिल्कुल खुलकर ही बात कर ली जाये',\n",
              " 'वो एकदम ढीली पड़ गई थी',\n",
              " 'हम दोनों सेक्स करते।आपको मेरी कहानी कैसी लगी मुझे बताइएगा ज़रूर',\n",
              " 'अंजलि: तुमने कभी किसी के साथ सेक्स किया है',\n",
              " 'एक दिन दोपहर में लेटा हुआ मैं यही सोच रहा था कि चाची का नम्बर कैसे लिया जाये और उनको चोदा कैसे जाये?मेरे लन्ड में आग लगी थी चाची की चूत मारने की और उस दिन चमत्कार हो गया',\n",
              " 'मैंने धीरे धीरे नाचना शुरू कर दिया',\n",
              " 'ठाकुर से ठुकने की बात सोचकर ही अमृता की टाँगो के बीच फिर नदी बहने लगी',\n",
              " 'एक दिन इब्राहिम ने फोन किया',\n",
              " 'अगले भाग का इन्तजार करो दोस्तो ! कहानी अभी बाकी है।',\n",
              " 'लेकिन एक अलग ढंग की मजे की लहर मेरी बहन की देह में दौड़ रही थी',\n",
              " 'उसकी चूत मेज के किनारे पर थी',\n",
              " 'लग रहा था कि जैसे मेरे ऊपर ही गिर जायेगी। पर समय कुछ खास नहीं हुआ था। कुछ देर बाद मैंने और लक्की ने भोजन को गर्म करके खा लिया। मुझे लगा कि लकी की नजरें तो आज मेरे काले पाजामे पर ही थी।मेरे झुकने पर मेरी गाण्ड की मोहक गोलाइयों का जैसे वो आनन्द ले रहा था। मेरी उभरी हुई छातियों को भी वो आज ललचाई नजरों से घूर रहा था। मेरे मन में एक हूक सी उठ गई। मुझे लगा कि मैं जवानी के बोझ से लदी हुई झुकी जा रही हूँ',\n",
              " '’चाची काफी देर तक मेरा लंड चूसती रहीं',\n",
              " 'उस हिसाब से आंटी की साइज कुछ इस तरह से थी',\n",
              " 'मजा लें हॉट GF चुदाई स्टोरी का! <span;>एक दो बार गर्लफ्रेंड को चोदने के बाद मैं अपनी गर्लफ्रेंड को ज्यादा टाइम नहीं दे पा रहा था',\n",
              " 'यह इस बात की गवाही थी कि आज मेरी चुदाई बहुत जोरदार हुई है',\n",
              " 'उन्होंने बर्फ का टुकड़ा रूमाल में रखकर मेरी गांड की छेद की बर्फ से सिकाई की',\n",
              " 'तब शादी का डेट से पहले जितना दिन मिला था',\n",
              " 'मैं गांड उठा उठा कर नीचे से उसकी चूत मार रहा था',\n",
              " 'भाभी के बूब्स का स्पर्श मुझे पागल किये जा रहा था',\n",
              " 'मुझे नहीं पता था कि बहन की सहेली स्कूल गर्ल सेक्स इतना सुख मिल जायेगा',\n",
              " 'रिश्ते में दूर की बुआ से वासना भरा प्यारहॉट वर्जिन पोर्न स्टोरी रिश्ते में मेरी बुआ लगी मेरी हमउम्र लड़की के साथ पहले सेक्स की है',\n",
              " 'वो बहुत उदास हो गई क्योंकि उस जादुई छड़ी के बिना वो अपने परीलोक में प्रवेश नहीं कर सकती थी।थक-हार कर उसने रानी परी को याद किया',\n",
              " 'मेरी दीदी ने अपनी गीली चूत को अच्छे से साफ किया अपनी पेंटी से',\n",
              " 'थोड़ी देर बाद वो अपना हाथ मेरे पैरों के बीच में घुमाने लगा',\n",
              " 'तभी उन्होंने मुझे दूसरा झटका दिया और बोले- सेक्स करने के लिए बॉयफ्रेंड की जरूरत नहीं होती',\n",
              " 'उन्हें अच्छी तरह समझ में आ गया था कि दीदी यहां पर क्या गुल खिलाने आई है',\n",
              " 'जिसको देख कर तो उसके होश ही उड़ गए थे। मेरी सारी नंगी फोटो थीं',\n",
              " 'तो मैंने क्या किया?दोस्तो',\n",
              " 'असलम ने अपना एक हाथ मेरी दीदी की कमर से हटाया और उनकी चूची पकड मसलने लगा',\n",
              " 'इस तरह से मैं समीर के लंड से अपनी चुत की सील तुड़वा बैठी',\n",
              " 'हम दोनों लोग खाने लगे',\n",
              " 'वो अन्दर एकदम नंगी थीं … और वो मेरे शरीर से चिपक गईं',\n",
              " 'सिर्फ लहंगे में',\n",
              " 'थोड़ी देर बाद उसने धक्कों की स्पीड बढ़ा दी',\n",
              " 'वो कुतिया को कुछ समझा रहा है।बच्चा : आराम से भी समझा सकता है',\n",
              " 'मेरा लंड अब उसकी बच्चेदानी को छू रहा था और उसके मुँह से मस्त आवाजें आ रही थीं',\n",
              " 'उसके बाद वो मुझे रात के खाने के टाइम मिला',\n",
              " 'इसलिए आपलोग बुरा ना माने और न ही दिल छोटा करें',\n",
              " 'धीरे धीरे उसकी चूत को सहलाते हुए मैंने उसकी पैंट का हुक खोला और उसकी पैंटी पर से चूत को मसल दिया',\n",
              " 'तो वो नहाने गयी थी',\n",
              " 'कई सालों से आंटी चुदी नहीं थी शायद।फिर वो खुद ही बोली- बहुत समय हो गया है लंड लिये हुए',\n",
              " 'उसके बाद मैंने धीरे से अपना लंड उसकी चूत में सरका दिया',\n",
              " 'लेकिन भाभी तेरा पति भी तो घर पर है',\n",
              " '’दोस्तों ये कहानी आप भीआईपीचोटी डॉट कॉम पर पड़ रहे हैयह कहते ही हम भाई-बहन एक-दूसरे के होंठों को चूसते रहे। भैया भी मेरे होंठों को कस-कस कर चूस रहे थे।तभी',\n",
              " 'मैंने सोचा कि जब आवाज ऐसी है तो ये असल में कैसी होगी',\n",
              " 'क्या तुम अपने लंड की एक पिक्चर सेंड कर सकते हो?मैं- हाँ',\n",
              " 'तो क्या हुआ … मोबाइल में कई पलंगतोड़ कुश्तियां देख चुका हूँ',\n",
              " 'शायद उसकी क्लिट मसल रहा था। चन्दा भाभी का एक चूचुक भी सुनील के मुँह में था। अब तो चन्दा भाभी चन्दा नशे में पागल होकर अपने चूतड़ पटक रही थी। उसने फिर दोनों टांगों को उसके पीठ पर फंसा लिया।सटासट',\n",
              " 'वो सेक्स करने में ज्यादा अच्छी नहीं लगी मुझे',\n",
              " 'मुझे चूत मिलते मिलते रह गई थी',\n",
              " 'अब तो मेरी बीवी भी गांड मरवाने से मना करती है और मुझे गांड के बिना कुछ और अच्छा नहीं लगता',\n",
              " 'ये मेरी बहुत व्यक्तिगत बातें हैं',\n",
              " 'तो मैं बोला- डार्लिंग',\n",
              " 'तो उसने कहा ये कैसी मदद कर रहे हो मैं सब समझती हूँ',\n",
              " 'तो मैंने फाड़ दी',\n",
              " 'जब सब कुछ तुम्हारे सामने है',\n",
              " 'मेरी समझ में ये आ रहा था कि किसी को चोदने से ज़्यादा प्यार की भावना होना कितना ज़रूरी होता है',\n",
              " 'मैंने उसे रोक दिया और कहा- जब तक वह मुझे अपनी जाँघ पर काला तिल नहीं दिखाएगी तब तक मैं उसे कुछ नहीं करने दूँगा।तब वह बोली- तुम बहुत ही नटखट हो !और फिर अपनी दोनों टाँगे खोल कर लेट गई और मुझे उस तिल को देखने की अनुमति दे दी।मैं कुछ देर तक तो उस तिल को ढूँढता रहा और जब नहीं मिला तो मामी से पूछा- कहाँ है?तब मामी ने अपनी उंगली से चूत के बाएं होंठ को थोड़ा हटाया',\n",
              " 'बुर सूजी हुई है',\n",
              " 'अब उसकी आंख से आंसू आने लगे तो मैंने उसे किस किया',\n",
              " 'मैं अपने मामा के यहां गया हुआ था',\n",
              " 'उसने कहा- भैया नहीं है तो क्या हुआ',\n",
              " 'आपको ये भाभी की कामुकता और सेक्स की कहानी कैसी लगी',\n",
              " 'वंदना भाभी बोली- तो क्या करती मैं? तुम्हारे लंड से मेरी चूत की प्यास नहीं बुझती है',\n",
              " 'मैंने उसका हाथ अपने हाथ में पकड़ा और कहा- प्लीज़ एकता',\n",
              " 'सिर को ऊपर उठाए हुए मैं मुठ मारने के नशे में डूब गया था।जब मुझे लगा कि मेरा निकलने वाला है तो मैंने स्पीड बढ़ा दी और एकदम से वीर्य की पिचकारी मेरे लंड से छूट पड़ी',\n",
              " 'फिर मेरे लंड को साफ किया',\n",
              " 'जिसे में अपने मुँह में भरकर चूस रहा था। अब दीदी आह आआआआ करके झड़ने लगी थी और कुछ धक्को के बाद में भी किनारे लग गया',\n",
              " 'फिर मैंने अपने लंड को खड़ा किया और 2-4 अच्छी सी फोटो खींच कर उसको भेज दीं',\n",
              " 'दीदी ने ब्रा तो पहनी नहीं थी सो उनकी बड़ी-बड़ी चूचियां दूध की तरह सफेद और दूध से भरी हुई दिनेश के सामने अकड़ के खड़ी थी',\n",
              " 'फिर मैंने कहा- यदि तुम दोनों की आशिकी हो गयी हो तो अब डिनर कर लें?सोनम बोली- हां',\n",
              " 'लिपस्टिक लगाती थी और उसके कपड़े कम कट जाते थे क्योंकि उसने मुझे बताया था कि मेरा भाई मेरी पत्नी को ऐसा करने के लिए कहता है। वह मुझसे सेक्सी तड़क-भड़क वाली ब्रा और पैंटी लाने के लिए कहने लगी। तो कहानी पर वापस आते हैं - उसने कहा कि एक बार जब वह हमारे कमरे से गुजर रहा था (मैं वहां नहीं था) उसने मेरी पत्नी को हमारे बेडरूम की खिड़की से बुलाया। मेरी पत्नी खिड़की के करीब आई',\n",
              " 'अपनी चूत को मेरे लण्ड पर रगड़ने लगी',\n",
              " 'इधर लंड चुत चुसाई का काम जारी थी',\n",
              " 'कुछ देर बाद आंटी से जब नहीं रहा गया तो वो मुझे गाली देते हुए बोलीं- चोद भी दे भोसड़ी के … आह अब मुझसे और नहीं सहा जाता राजा … अब मेरी गर्म चुत में अपना मूसल लंड डाल दो',\n",
              " 'वो बहुत ही हॉट दिखती है। मेरे मन में हमेशा उसको चोदने का ख्याल आता है।एक दिन उसने अपने बीते दिनों की कहानी बताई',\n",
              " 'बुर के अन्दर गुदगुदी हो रही है',\n",
              " '<span;>उसने अपने शरीर पर सिर्फ तौलिया लपेट रखा था जिससे उसकी गोरी गोरी जांघें मुझे और उत्तेजित कर रही थी',\n",
              " 'क्या चू!! है आपकी',\n",
              " 'फिर खूब मजा आएगा।उसका लंड मेरी चूत में 3 इंच तक घुस चुका था।तभी उसने एक धक्का और लगाया।मैं दर्द से तड़प उठी।ऐसा लग रहा था कि कोई मेरी चूत को बुरी तरह से फैला रहा हो।मेरी चूत उसकी सीमा से बहुत ज्यादा फैल चुकी थी।उसका लंड 4 इंच तक मेरी चूत में घुस चुका था।मैंने कहा- सोनू',\n",
              " 'एक महीना निकल गया कोई मौका नहीं मिला',\n",
              " 'सोचेंगी कि बाबूजी की वजह से ऐसा लंड मिला है। जाकर दोनों को समझा दो !”वह चला गया। मैं खुश था कि एक साथ दो गदरयी जवान चूतें मिल रही हैं। जब बुड्ढे के साथ मज़ा लेती हैं तो मेरे साथ तो दोनों मस्त हो जाएँगी।मैं जल्दी से अपने घर गया',\n",
              " 'मुझे मेरी कज़िन सिस्टर अविका शुरू से ही बहुत मस्त लगती थी और मेरे मन में कहीं न कहीं उसको चोदने की ललक थी',\n",
              " 'मुझे तो आज भी ये सोच कर विश्वास नहीं होता है कि मैं इतने दिनों से अपनी बहन की चूत की चुदाई कर रहा हूं',\n",
              " 'बोलते बोलते रक्षित रुक जाता है और अपनी शर्ट अपनी बॉडी से अलग कर फ्लोर पर फेंक देता है।अब जन्नत और पीछे नहीं जा सकती थी क्योंकि पीछे एक बड़ा सा ग्लास डोर था जिससे चिपक कर जन्नत खड़ी थी और अपना सर उठा कर रक्षित को एक डरे हुए पप्पी की तरह देखें जा रही थी।रक्षित बिल्कुल उसके करीब खड़ा था उसका एक हाथ ग्लास डोर पर था और वो अपना सर झुका कर जन्नत को देख रहा था।रक्षित उसकी क़मर पकड़ कर अपने पास खींचता है जन्नत के पैर वैसे ही बहुत कमज़ोर पड़ गए थे उससे खड़ा रहना मुश्किल था।रक्षित ग्लास डोर से अपने हाथो को हटा कर जन्नत की बैक पर रख देता है।इससे पहले जन्नत कुछ समझ पाती रक्षित उसके ड्रेस की ज़िप खोल देता है और जन्नत की ड्रेस उसकी बॉडी से सरकाते हुए उसके पैर पर गिर जाती है।\"तुम्हें मैं जितना ज़्यादा देखता हु उतनी बुरी तरह से मैं तुम्हें पाना चाहता हु\"',\n",
              " 'करीब 10-12 धक्कों के बाद लंड उन टीचर की चूत से निकाला और उनके मुँह में सारा माल निकाल दिया',\n",
              " 'ब्रा के ऊपर से ही चाची के निप्पल चूस रही थी। यह कहानी आप अन्तर्वासना',\n",
              " 'जीजू तो जैसे मेरी नंगी जवानी को देखकर पागल ही हो गए थे',\n",
              " 'इतने में मैंने नंगी ही सारा सामान अंदर रसोई में रख दिया और आकर अंकल की बाँहों में लेट गयी',\n",
              " 'इस बार की हमारी यात्रा कुछ ज्यादा समय के लिए थी',\n",
              " 'मैं उस महिला से उसके बगल में बैठने के लिए पूछा',\n",
              " 'मैंने उसकी चूत को दोबारा से चाटना शुरू कर दिया',\n",
              " 'वो एकटक नजरों से मुझे देखने लगीं',\n",
              " 'वे मेरे ऊपर लेट गये और अपने हाथों और पैरों से मेरे बदन को लपेट कर मेरी गर्दन चूमते हुए मेरी मारने लगे। फ़िर मेरा सिर घुमाकर मेरे होंठ अपने होंठों में लेकर चूसने लगे। मैंने भी अपनी जीभ उनको दे दी चूसने को।उधर चाची और काशीरा गरम होकर एक दूसरे की बुर चूसने लगीं। बुर चूसते हुए वे हमें देखती जातीं।\"बेटी देख',\n",
              " 'कहा- यहीं सबके सामने बैठ कर !वो मना करने लगी तो मैंने उसका कमीज ऊपर करके उसकी पजामी का नाड़ा खींच दिया',\n",
              " 'बस एक बार प्लीज बस एक बार',\n",
              " 'लेकिन शौर बिल्कुल भी नहीं होना चाहिए और वो यह कहकर वो चली गयी।तो में हिम्मत करके झाँका और मैंने देखा कि पुलिस ऑफिसर कनिका के ऊपर चड़ा हुया था और कनिका उसे कसकर पकड़े हुई थी और पुलिस ऑफिसर उसे ज़ोर ज़ोर से धक्का देकर चोद रहा था झप छप हप छप की आवाज़ें आ रही थी और साथ में मेरी बीवी की सिसकियाँ भी सुनाई दे रही थी और मेरी बीवी कह रही थी कि अह्ह्ह नहीं अब मुझे अह्ह्ह नहीं छोड़ दो अहह ओह हूंमम्म और ऑफिसर लगातार उसके बूब्स चूस रहा था। फिर उसने उसे गोद में उठा लिया और इंग्लिश स्टाईल में लगभग 10 मिनट तक चोदा',\n",
              " 'दरअसल मंडी के बाहर रोड पर जो गंदा पानी पड़ा था',\n",
              " 'मैंने उनके कानों में सरसराहट भरी आवाज में अपनी ख्वाहिश कही- मैं आपको ऊपर से नेचुरली देखना चाह रहा हूँ',\n",
              " 'ससुर जी को भी मजा आ रहा था और वो मेरी नंगी जांघों को हाथों से सहला रहे थे',\n",
              " 'तो एक दूसरे को मसल कर चोद लेते थे',\n",
              " 'सोच रही थी कि अगर भाई को बुलाऊंगी तो वो सोचेगा कि मेरी बहन चुदने के लिए कितनी उतावली हो रही है',\n",
              " 'वैसे चोदा और शीरीं भी फ़ज़लू के लंड पर उछल-उछल कर कली से फूल बनने का मज़ा ले रही थी',\n",
              " 'अब मेरा निकलने वाला था तो मैंने पूछा- भाभी रस कहां लोगी?उन्होंने तुरंत कहा- अन्दर नहीं … मुझे पीना है … मुझे तुम्हारा माल मुँह में लेना है',\n",
              " 'फिर मैंने उनकी ब्रा निकालने की सोची और ब्रा को खींचा',\n",
              " 'पानी तो वह ऐसे पी रहा था जैसे मेरी दीदी की चूची पी रहा हो',\n",
              " 'अब मत तड़पाओ',\n",
              " 'मैं बाहर इंतजार करूँगा आपका!नैंसी- कोई ज़रूरत नहीं हनी',\n",
              " 'अब सुलोचना मामी की समझ में कुछ नहीं आया कि वो क्या करें',\n",
              " 'रात्रि साढ़े आठ के करीब मुझे भूख भी लगने लगी थी तो मैं हॉस्पिटल की कैंटीन से कुछ फ़ास्ट फूड्स और चाय ले आया और हम तीनों ने चाय नाश्ता किया',\n",
              " 'वंश हर कुछ देर में उससे पूछ रहा था की क्या वो से करे या क्या उसे दर्द हो रहा है',\n",
              " 'बोली',\n",
              " 'में अजीब नज़रों से माँ को देखा',\n",
              " 'दीदी का छूट कैसा था आज भी याद है',\n",
              " 'मेरी दीदी बेहद प्रयास कर रही थी',\n",
              " 'फिर देर न करते हुए मैंने उसे जमीन पर सीधा लिटा दिया',\n",
              " 'गंगूबाई कि नजर पड गयी थी',\n",
              " 'आज तो ये आलम था कि अगर मंजरी का बस चलता तो वो पुलकित के लंड को चबा कर खा जाती',\n",
              " 'उसके जहन में वो सारी यादें घूम गई जब वंश उसके साथ उसे बाथरूम में ले जाता था',\n",
              " 'मैंने उसका लंड मुंह में लेकर चूसना शुरू कर दिया',\n",
              " 'तो मुझे उसकी गांड का प्यारा सा छेद नजर आया',\n",
              " 'हुँने प्लेबॅक कर के देखा',\n",
              " '<span;>मैंने सोचा कि क्यों ना इसकी ओपनिंग लंड से ही की जाए … इसे दर्द तो होना ही है',\n",
              " 'तो भाभी अपनी चूत पर हाथ फेर रही थीं और वीडियो देख रही थीं',\n",
              " 'मेरा लौड़ा अकड़ कर खड़ा हो गया और सलामी देने लगा रूपाली दीदी को',\n",
              " 'नहीं होना फेमस',\n",
              " 'राजीव ने ये बोल कर मेरी बीवी की चुत में लंड पेल दिया- लो साली साहिबा',\n",
              " 'वैसा करूंगा',\n",
              " 'राहुल रूचि को चूम कर उसके पेट पर कुछ इस तरह से बैठ गया कि उसका वजन रूचि के ऊपर न पड़े',\n",
              " 'वैसे भी सब्र का फल मीठा होता है',\n",
              " 'और अगर मैं मैदान पर वापस जाता',\n",
              " 'फिर भी निशा ने पूछा- क्यों … मजा आया प्रिया? तुम्हारी आवाज तो पूरे कमरे में गूंज रही थी',\n",
              " 'ये सब सोनम की चूत को गीला करने के लिए बहुत था।लगभग पांच मिनट तक रोहन ने अपने होंठ सोनम के होंठों से नहीं हटाये।पायल भी उनके पास आई और उसने भी सोनम की कड़क चूचियों को अपने हाथों में पकड़ कर मसलना शुरू कर दिया।पायल और रोहन के हमले से सोनम पस्त होने लगी थी',\n",
              " 'जैसे पानी में कोई दो बड़े से नारियल तैर रहे हों।जब मैं झटका मारता था',\n",
              " 'उसी रूप में',\n",
              " 'कम से कम मेरी कलाई जितना मोटा लंड था… एक बार तो मेरा गला सुख गया',\n",
              " 'मैं कई दिनों से दूसरे शहर में रह रहा था। मैंने ऑनलाइन एक कमरा बुक किया था और रह रहा था।वो कमरा एक छोटी फ्लैट वाली बिल्डिंग में था।उसमें से मैं मेरे ऊपर और नीचे के सैकड़ों फ्लैट की बालकनी को देख सकता था क्योंकि मेरा रूम में बीच में था।एक शाम को मैंने अपनी बालकनी में बैठकर कॉफी पीने का लुत्फ उठाने के लिए सोचा।मैं कॉफी लेकर गया और घूंट-घूंट पीकर मजा लेने लगा।तभी मेरी नजर सामने के नीचे वाले फ्लैट में गई।वहां पर एक कपल जोरदार चूमा-चाटी करने में बिजी था।दोनों इतनी मस्ती में थे कि मेरी नजर उनसे हट नहीं रही थी।आदमी ने उस लेडी को बालकनी की रेलिंग पर झुकाया हुआ था और उसके कंधों पर कामुक तरीके से चूम रहा था।वो लेडी अपने कंधों से टॉप को उतार रही थी।आदमी अब गहरे चुम्बनों से उसकी गर्दन और कंधों को चूमने चूसने लगा जैसे कि उसको खा ही जाएगा।उसके चुम्बन इतने गर्म थे कि लेडी की आंखें बंद हो गईं और उसने अपनी गर्दन पीछे ढीली छोड़ दी।वो उस आदमी के बदन से सटकर उसके चुम्बनों का मजा लेने लगी।फिर एकदम से उसको कुछ ध्यान आया और उसकी नजर मेरी तरफ खुल गई।उसने मुझे कॉफी की चुस्कियां लेते हुए देख लिया।उसके चेहरे पर अब चिंता के भाव आ गए थे।मैंने सोचा कि वो अपने पार्टनर को इस बारे में सचेत करेगी',\n",
              " 'मुझे ऐसे ही चोदते रहना',\n",
              " 'वो बोली- तुम ये लगाकर मुझे बच्चा करोगे?मैं बोला- तुम भरोसा रखो',\n",
              " 'मैंने कंडोम लगाया और चुदाई का खेल शुरू हो गया',\n",
              " 'तो उसने शुक्रिया कहा',\n",
              " 'वैसे भी 3 महीने से मैंने चुदाई नहीं की है',\n",
              " '\"मिहिर !!! क्या आपकी चीज स्टिक है ?? यह इतना बड़ा क्यों है ?? यह बहुत हर्ट कर रहा है',\n",
              " 'पेलो हचक के। खाली सुपाड़ा घुसा के छोड़ दिए हो। ठेल दो जड़ तक मूसल। बहुत दरद होगा बुरचोदी को लेकिन गांड मारने',\n",
              " 'जो उसके चेहरे पर साफ - साफ झलक रही थी ।मानो चिरंजीव के साथ बिताया गया यह',\n",
              " 'दूसरा वह पतियों की अदला बदली के खेल में पहले भी अनुभवी थी। अतः उसने बिना कोई नखरे किए यह खेल स्वीकार कर लिया और वैसे भी अकेले में वह नील को अपने स्तनपान का सुख दे चुकी थी तो फिर अब चूंकि उनके पतियों की सहमति भी तो अब किसी भी तरह की औपचारिकता की जगह ही नहीं बची थी',\n",
              " 'कहां भाग रही है बहन की लोहड़ी',\n",
              " 'फ़िलहाल मुझे अभी नींद आ रही है',\n",
              " 'मैं- बुआ तुम्हें लंड का सुख चाहिए',\n",
              " 'मैं शाम को घर से निकली और उस झोपड़ी की तरफ़ बढ़ने लगी',\n",
              " 'बस आप जैसे खास लं!!ों का। बोल रहा था कि काशीरा रानी',\n",
              " 'हमारे घर में एक तरफ भैसों का कमरा बना हुआ है',\n",
              " 'उसका मासिक धर्म आ गया है',\n",
              " 'लेकिन अबकी बार चाची ने अपना मुंह भींच लिया।फिर मैं अपने लंड को अन्दर-बाहर',\n",
              " 'उसका बदन चमक रहा था',\n",
              " 'अब उसकी चूत फिर से टाइट होने लगी और चूत ने गर्म पानी छोड़ दिया',\n",
              " 'सच बताऊं तो सबसे ज्यादा एन्जॉय हम लोगों ने उसी चैप्टर को पढ़ने में किया',\n",
              " 'मैं पूरा लौड़ा अन्दर डालना चाहता था लेकिन उसकी गुलाबी चूत बहुत छोटी और प्यारी सी थी',\n",
              " 'ऋतु मेम ने पहली बार पीछे से लंड लिया था और मेरे झटके पूरी तेजी से लग रहे थे तो वो मीठे दर्द से चीख रही थीं',\n",
              " 'बड़े बड़े भारी स्तन',\n",
              " 'आयशा मुझसे कभी कुछ बात करनी भी चाहे',\n",
              " 'मैंने भाभी के दर्द को बिना देखे अपने लंड को हल्के से बाहर निकाला और तुंत ही एक और जोर का झटका दे मारा',\n",
              " 'और सोने की एक्टिंग कर रहा था',\n",
              " 'वहां बीच के पास में ही एक होटल बुक कर लिया और रात के करीब 3 बजे हम अपने कमरे में पहुंच गए',\n",
              " 'अब मैंने उसकी ब्रा को खोलते हुए उसकी चूचियों को नंगी कर दिया',\n",
              " 'एक्स्ट्रामैरिटल सेक्स स्टोरी में पढ़ें कि पड़ोस की भाभी की शादीशुदा बहन आई हुई थी',\n",
              " 'इस पांच दिन में मैंने आठ बार अपनी चूत उस से साफ़ करवाई',\n",
              " '<span;>उसके बाद उस हॉट GF मेरा लंड पकड़ लिया और बोली- ये तो अभी भी पकड़ सकते हैं',\n",
              " 'उसे भी चाट कर साफ कर दिया। <span;>फिर मैंने उसको सीधा किया और उसकी चूची को दबाते हुए अपना लन्ड उसके मुंह में डाल दिया',\n",
              " 'पर क्योंकि मेरी कोई जीएफ नहीं थी और मैं थोड़ा शर्मीला किस्म का था … इसलिए उसने मुझसे सेक्स करने की बात मान ली',\n",
              " 'प्रीति से अच्छी पहचान के वजह से कई बार मैं उसके घर भी जाया करता था और वो भी मुझे छोटा भाई कहकर अपने घर बुलाती थी',\n",
              " 'मैं उसे चोदना चाहता था',\n",
              " 'उसकी चुदाई करना चाहता था।लेकिन बिन मांगे मुझे निशा की भी चूत मिलने को थी।फिर मैंने बात को पलटते हुए कहा- पहले प्रिया को तो अच्छे से चोदने दो।वह बोली- ध्यान रखना … जल्दी ही मुझे भी प्यास बुझानी है।मैंने यह भी नहीं सोचा कि वह मेरे दोस्त की पत्नी है',\n",
              " 'मैं वहां रुक गया और माँ को ऐसे देख के मेरे दिल में एक अनुभुति आया',\n",
              " 'वो लंड हाथ में पकड़ कर जोर से हिलाने लगी और थोड़ी देर में मेरे लंड ने पानी निकाल दिया',\n",
              " 'बहन चोद',\n",
              " 'आगे वाला सुपारा मुंह में लेकर चूस',\n",
              " 'आंटी की पैन्टी थोड़ी नीचे खिसका कर मैंने आंटी की चूत पर हाथ फेरा तो समझ गया कि आंटी ने अभी घंटा भर पहले ही शेव की है',\n",
              " 'फिर मेरी रूपाली दीदी की की चूत और गान्ड में एक साथ धक्का पेल शुरू हो गयी और मेरी दीदी सातवे आसमान पे पहुँच गयी',\n",
              " '<span;>मैं भी उसकी जीभ को पूरी तरह से चूसे जा रहा था',\n",
              " 'बल्कि ये जरूरी है कि आप सादी से पहले ये जान लें कि क्या करना चाहिए',\n",
              " '<span;>मैंने बोला- मैं कंडोम नहीं लाया हूँ',\n",
              " 'मैंने चाची से कहा- सरिता रंडी',\n",
              " 'मुझे सेक्स कहानियां पढ़ना बहुत पसंद हैं',\n",
              " 'वो मुझसे कई बार काम भी बता दिया करती थी',\n",
              " 'तो उसका हाथ मेरी चूत तक नहीं पहुंच पा रहा था',\n",
              " 'बहुत अच्छा लग रहा है माधव',\n",
              " 'अभी मेरी उम्र पढ़ने लिखने की हैं',\n",
              " 'मेरे घर मे अच्छा बड़ा आँगन है और एक कोठरी है',\n",
              " 'एक बार में 20 लोग चुदाई कर रहें हो तो बेचारी की क्या हालत होती होगी।खैर मैं फारिग हुआ तो रोहित जॉनी पर चढ़ गया',\n",
              " 'इसलिए उसने अपनी दूकान के ऊपर एक कमरा किराये पर ले लिया था',\n",
              " 'फिर वो डिनर बनाने में बिज़ी हो गई और मैं टीवी देख रहा था',\n",
              " 'उसके बाद मिलने का प्रोग्राम बन रहा था',\n",
              " 'तब उसकी हालत थोड़ी खराब हो गयी थी',\n",
              " 'वो आंटी को ऊपर से मजा देने में लगा था',\n",
              " 'दीदी के शरीर से निकलती मादक महक से मेरे लंड का बुरा हाल हो गया था',\n",
              " 'अपनी चूत भी चिकनी करवा ली',\n",
              " 'पहले भाभी ने दारू पार्टी के लिए पकौड़े तले',\n",
              " 'ऐसे ही चली जाती हूँ ! कामोक्षी आगे आई सर उसे जाने के लिए बोलने ही वाले थे की में निकलता हूँ परन्तु कामोक्षी को देखते ही वो फिरसे कामुक हो उठे उनका मन अंदर से छीख छीख कर कह रहा था की सम्भोग करो ! कामोक्षी की कामेच्छा भी जाग्रत हो उठी ! सर नें कपडे निकाले और कामोक्षी को बाथरूम में लेकर गए ! आचरण की सरल कामोक्षी भी चुप चाप सर के साथ चली गई ! सर किचन से दही लेके बाथरूम में चले गए !पहले सर और कामोक्षी शावर से गीले हुए ! सर नें कामोक्षी की योनी पर दही मला और नीचे बैठ कर चूसने लगे ! वो इस कला में भी माहिर दिख रहे थे ! क्या कमाल का चूस रहे थे आम खा रहे हो ! कामोक्षी को बहुत मज़ा आ रहा था !कामोक्षी जमीर पर लेट गयी अब सर उसकी उसकी योनी चाट रहे थे दही डाल डाल के ! स्वादिस्ट मीठा दही योनी पे और भी स्वादिस्ट लग रहा था !',\n",
              " 'कुछ देर में वो अलग हुआ। उसने मेरी चूचियों से मेरे हाथ हटा लिये। मैं अब निर्विरोध उसे अपने जिस्म से खेलने दे रही थी। मेरे नंगे चूचे उसके सामने थे। उसने मेरे दायें चूचे को मुंह में भर लिया।जब उसने मेरे चूचे पर मुंह रखा तो मैं एक उन्माद से भर गयी',\n",
              " 'अबीर ने बेला के पैर हवा में उठाये और उसका चेहरा देखते हुए',\n",
              " 'वो पहले से भी ज़्यादा हॉट और सेक्सी लग रही थीं',\n",
              " 'ब्लाउज के अंदर मैंने 28 नम्बर की ब्रा पहन रखी थी जिसमें मेरे आधे से ज़्यादा बूब्स बाहर निकले हुए थे',\n",
              " 'क्योंकि इसकी शादी होने वाली है',\n",
              " 'जैसे ही उसकी गीली गर्म चूत पर मेरी उंगलियां लगीं तो एकदम से उचक कर मुझसे लिपट गयी',\n",
              " 'उन्होंने धीरे धीरे मेरी गांड के छेद को चाटना शुरू कर दिया',\n",
              " 'थोड़ा शुरू में ही दर्द होगा',\n",
              " 'मुझे न जाने क्यों डर लग रहा था कि कहीं उसकी चुत फट ना जाए क्योंकि मेरा लंड औसत भारतीय से काफी बड़ा है',\n",
              " 'अरे क्या छेद है तेरा',\n",
              " 'उसने जबरदस्ती मेरी दीदी की दोनों दुधारू चुचियों को पकड़ उनकी चोली के अंदर घुसा दिया',\n",
              " 'उनकी चूचियां टाइट और निप्पल एकदम खड़े हो गए थे',\n",
              " 'चूत एकदम रस से भरी थी बड़ा मस्त स्वाद आ रहा था',\n",
              " 'उसके दोनो हाथों ने उसकी स्तनों को थाम लिया और धीरे धीरे सहलाने लगे',\n",
              " 'मैं अपने लंड को पहले उनकी चूत पर रगड़ने लगा',\n",
              " 'फिर उसने हाथ पीछे ले जाकर मेरी ब्रा उतार दी और फिर नीचे बैठकर मेरी पैंटी भी मेरे जिस्म से अलग कर दी',\n",
              " 'वो इस वक्त अपने लंड पर तेल लगा रहे थे',\n",
              " 'वो काफी सुन्दर थीं',\n",
              " 'वह बोली- पटना तो मैं भी जा रही हूँ। मेरे हसबैंड की पोस्टिंग वहां हो गयी है; पर मेरी बुकिंग अगले कोच में है।तब मैंने अपनी कोच के दो ऊपर के बर्थ वाले लोगों से रिक्वेस्ट किया तो वो दोनों अगले कोच में चले गए।इस तरह ऋचा हमारे कोच में आ गयी।उसने सामान लगाया फिर उसका हसबैंड आ गया उसका नाम था अभीजीत!अभीजीत मुझे एक ही नज़र में भा गया; मैं उसके लण्ड के बारे में सोचने लगी।हम सबका एक दूसरे से परिचय हुआ और सब कुछ ठीक ठाक करके सब लोग आराम से बैठ गए।कुछ छुटपुट बातें होने लगीं।इतने में ट्रेन चल पड़ी।ट्रेन छूटने के कुछ ही देर बाद टी टी आ गया',\n",
              " 'नगमा बानो के कोठे पर मौजूद खुद नगमा बानो सहित उसकी सभी 13 वेश्याओं को कई कई बार चोद चुका था और सबको फ़ज़लू के मोटे-लंबे लंड से चुदने में भरपूर मज़ा आता था',\n",
              " 'ऐसा लगा रहा था जन्मो जन्मान्तर से मैं प्यासी हु थी लंड की',\n",
              " 'कहने लगी- पता नहीं किस को भेज दिया।यह सुनकर मैं तो बहुत ही ज्यादा घबरा गया',\n",
              " 'जिससे लंड पूरी तरह से टाइट हो गया',\n",
              " 'वो तो शुक्र है कि कंडोम था',\n",
              " 'मेरे दिमाग़ के सारे तार ढीले हो गए',\n",
              " 'टीचर पैदल ही थीं तो मैंने उनको मेरी बाईक पर बैठने को कहा- अरे वाह … ये तो अच्छा हुआ मुझे चलकर जाना नहीं पड़ेगा',\n",
              " 'फिर अपने लण्ड को उसकी गांड पे रखा और हल्के से लण्ड का सुपाड़ा अंदर को धकेला।बड़े आराम से सुपारा उसकी गांड में घुस गया।मैंने थोड़ा सा और थूका और धीरे धीरे आगे पीछे करते हुये',\n",
              " 'चाची के बगल में उनके तीन बच्चे सोये हुए थे',\n",
              " 'मेरी संस्कारी प्रियंका दीदी फिर तो जैसे बच्चे मस्ती से ट्रैम्पोलिन पे उछलते हैं बस उसी तरह से',\n",
              " 'लेकिन मैं बहुत थका हुआ था और देखभाल करने के लिए बहुत संतुष्ट था। उसकी ओर मुड़ते हुए',\n",
              " 'जैसे सब लड़कियां शुरुआत में लंड चूसने से मना करती हैं',\n",
              " 'अगली चुदाई कहानी में मैं आपको बताऊंगा कि कैसे वोम बनी',\n",
              " 'मामा के लंड का सुपारा मेरी बुर के अन्दर घुस गया',\n",
              " 'बहू की दोनो स्तनों उनकी कमर पे आके दब गयी और बहू उनसे लिपट गयी',\n",
              " 'कुछ देर बाद मेम फ्रेश होकर आईं तो उनके बाद मैं फ़्रेश होने चला गया',\n",
              " 'मैंने कहा- आपकी पसंद मस्त ही है',\n",
              " 'आज की रात नैन्सी के लिए चरमसुख की रात थी',\n",
              " 'फिर मेरा पानी कंडोम में निकल गया',\n",
              " 'आपको बॉय बॉय सेक्स कहानी कैसी लगी',\n",
              " 'मैं आगे बढ़ के रूम की तरफ गया',\n",
              " 'इतना कह कर मैं उसकी गोद में झुक गयी और लंड को मुँह में ले लिया',\n",
              " 'लेकिन मैं ने कभी मूड कर उनको कोई रेस्पॉन्स नहीं दियाया क्योंकि मेरे मन मे सेक्स के बारे मे कभी कोई ख़याल नही आया',\n",
              " 'हम दोनों थोड़ी देर ऐसे ही पड़े रहे',\n",
              " 'हमने होटल में दो रूम बुक किये हुए थे',\n",
              " 'मोमबती लेते हुये बहुत समय हो गया था अब असली लण्ड की बारी थी। उसने मेरे पाजामे का नाड़ा खींचा और वो झम से नीचे मेरे पांवों पर गिर पड़ा।\\\\\"दीदी चलो',\n",
              " 'लेकिन उसकी चूत से पेशाब निकल गया था',\n",
              " 'हुआ यूं कि अनंग के बेडरूम का बाथरूम का नल काम नहीं कर रहा था इसलिए उसने मुझसे मेरे बाथरूम को यूज करने के लिए पूछा',\n",
              " 'मेरी दीदी की गांड को दोनों हाथों से दबोच कर असलम ने जोरदार झटका उनकी गांड पर दिया',\n",
              " 'हॉट मामी सेक्स कहानी में पढ़ें कि मैंने अपनी सेक्सी मामी के बूब्ज़ दबा दिए थे तो हंगामा हो गया था',\n",
              " 'जब मेरे आवाज़ देने पर भी चाची नहीं उठीं',\n",
              " 'वो बोली- चोद चोद कर तूने मेरी चूत तो सुजा दी',\n",
              " 'मैं ब्लाउज़ के ऊपर से ही स्तनों को सहलाने लगा।तभी उसने अपने हाथों से मेरे हाथ को पकड़ कर हटा दिया मेरे कलेजा धक से रह गया',\n",
              " 'फिर पदमा गुस्से में चिल्लाने लगी कि अनिल बहनचोद अगर लंड में कमज़ोरी थी तो मुझसे शादी क्यों की? साले अब इस जलती हुई चूत को में कहाँ लेकर जाऊं? मादरचोद की औलाद',\n",
              " 'मैंने तुरंत एक कंडोम निकाल कर लौड़े पर लगा लिया',\n",
              " '<span;>उस लड़की को देखने के बाद मेरा मन भी रुकने का था तो मैं चुप रह गया',\n",
              " 'अब मैं कामुक सिसकारियां लेने लगी- आह अनंग आह … आई माँ … मार डाला मर गयी ओह ओह',\n",
              " 'उसने अपने मन में सोचा कि अब तो बहन की बुर बस मिलने ही वाली है तो और थोड़ा क्यों नहीं रुका जाए',\n",
              " '340जीजा साली की सेक्सी कहानी मेरी बीवी की बड़ी बहन की है',\n",
              " 'अब मुझे बहुत बेचैनी सी महसूस हो रही थी और बहुत सारे गंदे ख्याल भी मन में आ रहे थे',\n",
              " 'उसकी कराह निकल गई और चूत से खून निकला',\n",
              " 'आज मैं यह नयी कहानी लाया हूँ जिसमें एक माल चुदासी लड़की पटाना और चोदना है',\n",
              " 'वो भी तब जब कोई बहुत ही गहराई से कमरे को चेक करे।अब मैं नंगी ही अपने बिस्तर से उठी और अलमारी से तौलिया निकाल कर नहाने के लिए बाथरूम जाने लगी।आलोक भी मेरे साथ उठा और बोला- चाची क्या आपके साथ मैं भी चलूँ नहाने?ऐसा कहते ही वो मुझे अपनी गोद में उठा कर बाथरूम में ले गया।मैं बहुत थक गई थी',\n",
              " 'मेरी उंगलियां अभी भी निरन्तर उसकी गांड की गहराईयों को नाप रही थीं … तो कभी उसकी दोनों कलियों को मसल कर इठला रही थीं',\n",
              " '<span;>उसने पैर मेरी तरफ बढ़ा दिया',\n",
              " 'क्या कर लेगी ये? रो धोकर अपनी इज्जत की खातिर चुप रह जायेगी',\n",
              " 'असलम ने लालटेन जलाई',\n",
              " 'बात आगे बढ़ी और रिश्ता बन गया और तीन मार्च शादी की तारीख फिक्स हुई',\n",
              " 'आप ये सब मत करो … ये गलत है',\n",
              " 'जो जिम करके लौट था',\n",
              " 'मैंने अपने हाथ में अपने लंड को लहराया और उसकी चूत पर अपना लंड सेट करके उसकी मस्त चूचियों से खेलने लगा',\n",
              " 'उसके बाद मैं सुहानी के रूम में गया',\n",
              " 'साले तेरी बहन की चुत अब लौड़ा मांग रही है',\n",
              " 'कुछ कार्यक्रम है',\n",
              " 'मैं अधनंगी उसके पीछे पीछे उसके साथ चल दी',\n",
              " 'कुछ देर तक तो मैं उसकी जवानी को देखता रहा मगर जब वो खुद अपने हाथ से अपने दूध सहलाने लगी और चूत सहलाने लगी तो मैं कण्ट्रोल नहीं कर सका',\n",
              " 'थोड़ी देर तक भाभी के दोनों दूध पीने के बाद मैंने उनके सर के नीचे लगे तकिया को निकला और चूत के नीचे लगा दिया',\n",
              " 'होंठों पर हल्के से अपने होंठ रख कर चुम्बन करते हुए उसके छोटे छोटे बोबे चाटने लगा',\n",
              " 'डॉली- लेकिन तुम्हारी उमर के हिसाब से तुम्हारे बुरड़ और गान्ड थोड़े ज्यादा बड़े हो गए हैं',\n",
              " 'आपके भतीजे ने आप को इतना सुख दिया',\n",
              " 'मेरा जोश और ज्यादा बढ़ गया और मैं चूत की फांकों को हल्के दांतों से काटते हुए जीभ से चूत को चोदने लगा',\n",
              " 'पतली कमर और भारी उठी हुई नितंब',\n",
              " 'मेरा लंड प्रिया की चूत में घुसने ही वाला था कि तभी उसने मुझे अपने से अलग कर दिया',\n",
              " 'फिर वो मुस्कुरा कर जाते हुए बोली- कुछ चाहिए हो तो मुझे बता देना',\n",
              " 'एक ही झटके में अनन्य के अंदर समा जाता हैं',\n",
              " 'दीदी के गुलाबी होठों को उसने अपने होठों की गिरफ्त में ले लिया और चूसने लगा',\n",
              " 'वो मुझे बेहद ही कामुक और सेक्सी लड़की लग रही थी',\n",
              " 'मैं जन्नत की सैर कर रहा था।15 मिनट के बाद मैं झड़ने वाला था',\n",
              " 'आंटी- साहब अब इतना अहसान नहीं चाहिए … आप पहले ही काफी कर चुके हैं',\n",
              " 'मेरा लौड़ा फटने को हो गया',\n",
              " 'वो भी बाजारू रंडी के जैसे मुझसे चुदती और हम दोनों सेक्स का मजा ले लेते',\n",
              " 'मगर गांड बहुत ज्यादा फट रही थी',\n",
              " 'जैसे ही डिल्डो गांड में से निकला',\n",
              " 'भाभी फक स्टोरी में मैंने अपनी सगी भाभी की प्यासी चूत की चुदाई बताई है',\n",
              " 'मैं रूम में जाकर पैंट निकाल कर नंगा हो गया और आँखें बंद करके चाची के साथ हुई बातों को याद करके मुठ मारने लगा',\n",
              " 'पेशाब की बात से दोनों शरमाई।फ़िर छोटी को अपने बदन से लगा उसकी गदरारे चूतड़ों को दबाया तो लगा कि मैं जन्नत में हूँ। उसकी चूचियों को पकड़ा तो वह मुझे इशारे से बोली- अन्दर चलो !शायद उसे शर्म आ रही थी।उसके इशारे से मैं खुश हो गया',\n",
              " 'वहां पर मेरी मुलाकात मेरी बहन की सहेली से हुई',\n",
              " 'उसे इतनी सुंदर बीवी मिली इसीलिए उसने मुझे शादी में नहीं बुलाया।नील हंसते हुए- नहीं यार',\n",
              " 'वो मुझे फोन करके किस देने लगी',\n",
              " 'जुनैद ने सुरेश को कहां',\n",
              " 'इसलिए',\n",
              " 'मेरी मामी बहुत ही सेक्सी और चुदासी एक नम्बर की चुदक्कड़ औरत है',\n",
              " 'उसके चूसने का अंदाज ऐसा था कि जैसे उसने लंड को जिन्दगी में पहली बार ही देखा हो',\n",
              " 'चुदासीSex यह छोटी बहन की चुदाई की कहानी 2 साल पुरानी है जब मैं 21 साल की थी।जो मुझे करना पड़ा था वो मैंने कभी सपने में भी नहीं सोचा था।मेरा एक भाई है उसका नाम है शेखर।वो मुझसे उम्र में 2 साल बड़ा है।मेरी एक अच्छी सहेली थी जिसका नाम था रिंकी।उसने मेरे कहने पर मेरे भाई को ही अपना बॉयफ्रेंड बना लिया था।रिश्ते में वो मेरी भाभी लगती थी लेकिन मैं उसको रिंकी ही कहती थी।उनकी लव स्टोरी को बहुत समय हो चुका था।रिंकी अक्सर मेरे घर आती जाती रहती थी और उसकी चुदाई मेरे भाई से बहुत बार हो चुकी थी।मेरा भाई भी उसके प्यार में पागल था।मेरा भी एक बॉयफ्रेंड था शैन्की',\n",
              " 'मैं बोला- देख',\n",
              " 'वो कुछ देर लंड को पैंट के ऊपर से ही मसलती रहीं फिर न रहा गया तो वो मेरी पैंट के अन्दर हाथ डालने लगीं',\n",
              " 'तुमने मुझे अपनी चुदाई का कायल बना दिया है',\n",
              " '\" मेरे रूपाली दीदी असलम की तरफ देख कर बोल रही थी',\n",
              " 'मुझे नंगी करने के बाद उसने मेरी टांगों को फैला दिया और सामने सेमेरी चूत चाटने लगा',\n",
              " 'मेरी उम्र 24 साल की है',\n",
              " 'मैंने उन्हें जबरदस्ती अपने से अलग किया और बोली- क्या कर रहे हो जीजू … पागल हो गए हो क्या!जीजू बोले- यार मैं जब भी तुम्हें देखता हूं … तो पूरा पागल हो जाता हूँ',\n",
              " 'गांड का भोसड़ा बन जाएगा दीदी का तेरी',\n",
              " 'फिर हम साथ में नहाये और मैं उसे घर छोड़ कर अपने घर आ गया',\n",
              " 'ऐसा मैंने मन ही मन कहा और झोपड़ी से बाहर निकल गया',\n",
              " 'उसका लिंग अकड़ कर पत्थर की तरह सख़्त हो गया था ये अमृता महसूस कर रही थी',\n",
              " 'सगे सम्बन्धी धीरे-धीरे घर में इकट्ठा होना चालू हो गये थे।घुडचढ़ी की तैयारी हो रही थी',\n",
              " 'छाती और सबसे बड़ी मर्दानगी से मंत्रमुग्ध हो गई। मेरे भाई ने मेरी पत्नी का हाथ अपने लंड की ओर निर्देशित किया और उसे अपने बड़े लंड को कसकर पकड़ने और अपना हाथ ऊपर और नीचे करने के लिए प्रेरित किया। बाद में उसने एक हाथ को गेंदों को प्याला करने के लिए निर्देशित किया जबकि दूसरा अभी भी अपने लंड पर चल रहा था। फिर उसने मेरी पत्नी से कहा कि बैठ जाओ और इस मुर्गा को चूमो। मानो सम्मोहित हो वह तुरंत चुप हो गई और मशरूम के आकार के बैंगनी सिर को चूमा। उसने कहा कि इसकी सुंदरता और आकार और सुंदर मुर्गा के नीचे लटकी हुई दो गेंदों ने उसे मंत्रमुग्ध कर दिया। फिर मेरा भाई भी बैठ गया और उसे होठों पर किस किया और कहा कि वह उससे बहुत प्यार करती है। फिर भी किस करते हुए उसने मेरी पत्नी से कहा कि उसका लंड चूसो। वह उठा और मेरी पत्नी से अपना मुंह खोलने के लिए कहा। मुर्गे को उसके आधार से पकड़ कर उसने तुरंत अपना मुँह खोला और बड़े मशरूम के सिर को धीरे से चूसने लगी। धीरे-धीरे मेरे भाई ने उसका सिर पकड़ लिया और धीमी गति से मेरी पत्नी का मुँह चोदने लगा। मैंने उससे पूछा कि उसने कभी मेरा लंड नहीं चूसा। उसने जवाब दिया कि मेरे ब्रोस कॉक की सुंदरता और आकार के साथ वह खुद का विरोध नहीं कर सकती और मेरा भाई उससे बहुत प्यार करता है और अगर वह चाहता है कि वह ऐसा करे तो वह इनकार नहीं कर सकती। कुछ और झटके के बाद वह मेरी पत्नी के मुंह में आया। जैसे ही वह आया उसने मेरी पत्नी को अपनी बाहों में पकड़ लिया और उसे कसकर गले लगा लिया और मेरी पत्नी को चूमते हुए उसके मुँह में अपना वीर्य घुमा दिया। वे बहुत देर तक एक-दूसरे को पकड़े रहे और मेरी पत्नी के स्तन उसकी छाती से सट गए। कुछ और किस करने और प्यार करने के बाद मेरे भाई ने अपना इरेक्शन वापस पा लिया और उसने मेरी पत्नी के कान में फुसफुसाया कि वह चोदना चाहता है। उसने कहा कि शौचालय में यह संभव नहीं है क्योंकि वहां पर्याप्त जगह नहीं है। उसने कुछ देर बाद उसे अपने बेडरूम में बताया। मेरी पत्नी हमारे कमरे में आई और मुझे गले लगाया और चूमा लेकिन मैं नहीं हिला क्योंकि मैं गहरी नींद में था। फिर भी खुद को आश्वस्त करते हुए वह एक तरफ चली गई और मेरे भाई के आने की प्रतीक्षा में लेट गई। हम दो अलग-अलग पलंगों में सोते थे। एक बिस्तर पर मैं सोता था और दूसरे पर वह और हमारा बच्चा सोता था। हमने अपना बिस्तर अलग कर लिया है क्योंकि मुझे बैसाखी अपनी तरफ रखकर सोना था। जल्द ही मेरा भाई आ गया और मेरी पत्नी ने उसे अपने बिस्तर पर अपने बगल में लेटने का इशारा किया। उसने तुरंत ऐसा किया और जल्द ही वे बिना शोर किए एक-दूसरे को चूमने लगे और प्यार करने लगे। दो अलग-अलग बिस्तरों में दो मच्छरदानी होने के कारण यह झुंड था कि कोई भी मच्छरदानी के माध्यम से देख सके और समझ सके कि दूसरे बिस्तरों पर क्या हो रहा है। जल्द ही वह मेरी पत्नी के ऊपर चढ़ गया और मेरी पत्नी ने अपना लंड उसकी योनी के मुँह पर लगा दिया और खुद को थोड़ा नीचे कर लिया। मेरी पत्नी की योनी को विभाजित करते हुए बड़ा मुर्गा सिर में चला गया। मेरी पत्नी ने लंड को धनुष की तरह पीछे की ओर झुकाते हुए आकार को समायोजित करने के लिए तब तक लिया जब तक कि उनके यौवन आपस में न जुड़ जाएं। बिना किसी हलचल के अपने लंड को अंदर रखते हुए दोनों ने मिलन का आनंद लिया',\n",
              " 'वो पागलों की तरह मेरे लंड से खेल रही थी और मुझे चुम्मे दे रही थी',\n",
              " 'बल्कि मेरी दीदी की दूसरी चूची को जुनैद और जोर जोर से मसल रहा था',\n",
              " 'आखिर आज आप को कोरी कोरी गां!! दिलवाई मैंने आपके भतीजे की !\"\"हाँ हाँ बहू रानी',\n",
              " '<span;>मैं भी सबसे मिल जुलकर अपने घर जाने को तैयार हो ही रहा था कि मेरी नज़र एक प्यारी सी मुस्कान वाली कोमल सी कली पर जा पड़ी',\n",
              " '।अंजाना दर्द बयां ना करने वाला दर्द उसके सीने बिना दिल के सीने में उसे महसूस होने लगता है',\n",
              " 'जिसको मैंने नीचे निकाल दिया और फिर से उसके मुँह में लंड दे दिया',\n",
              " 'कसरती जांघे और सपाट पेट देखकर मेरा लंड खड़ा हो गया',\n",
              " 'बहुत सुन्दर लग रही हो',\n",
              " '<span;>वो मेरे सीने पर आ गई और सीने की घुंडियों को किस करती हुई मेरे निप्पलों के साथ खेलने लगी',\n",
              " ...]"
            ]
          },
          "metadata": {},
          "execution_count": 7
        }
      ]
    },
    {
      "cell_type": "markdown",
      "source": [
        "I used this code to remove duplicate entries from my DataFrame based on the 'sentence' column. After executing the code, I dropped the duplicate rows, ensuring that each unique sentence remains. To maintain a clean index, I reset it using the 'reset_index' function with the 'drop' parameter set to 'True' and replaced the original DataFrame with this modified version. Finally, I printed the cleaned DataFrame to verify that duplicates were successfully eliminated."
      ],
      "metadata": {
        "id": "I3fNrQfxrcrv"
      }
    },
    {
      "cell_type": "code",
      "source": [
        "# Remove duplicates based on the 'sentence' column\n",
        "tokenized_data = tokenized_data.drop_duplicates(subset='sentence')\n",
        "\n",
        "# Reset the index of the DataFrame\n",
        "tokenized_data.reset_index(drop=True, inplace=True)\n",
        "\n",
        "# Print the cleaned DataFrame\n",
        "print(tokenized_data)"
      ],
      "metadata": {
        "colab": {
          "base_uri": "https://localhost:8080/"
        },
        "id": "BN1D2b1LsXsK",
        "outputId": "dae554fd-5b0d-4128-b4f2-09f53e808128"
      },
      "execution_count": 8,
      "outputs": [
        {
          "output_type": "stream",
          "name": "stdout",
          "text": [
            "                                                sentence  label\n",
            "0         रहने दो तुम रेस्ट करो।दीप्ति - ठीक है डार्लिंग      1\n",
            "1      मैं आज एक हिजड़े से चूत चुदवा कर वो खुशी पा चुक...      1\n",
            "2      मेरी प्रियंका दीदी के ऊपरी बदन का तो और भी बुर...      1\n",
            "3      मुझे आंटी की बातों का मर्म ये समझ में आया कि इ...      1\n",
            "4                                     सब तुम्हारी वजह से      0\n",
            "...                                                  ...    ...\n",
            "27249  तुमसे ज्यादा हॉट है और तुमसे ज्यादा हुस्न वाली...      1\n",
            "27250                             वो जोर से सिसकारने लगी      0\n",
            "27251  मैंने किशन से कहा कि ये तेल उंगली में लेकर मेर...      1\n",
            "27252  और लबलबा रही थी… मानो चीख चीख कर लंड माँग रही ...      1\n",
            "27253           आपको ये भाभी सेक्स कहानी पसंद आई या नहीं      1\n",
            "\n",
            "[27254 rows x 2 columns]\n"
          ]
        }
      ]
    },
    {
      "cell_type": "code",
      "source": [
        "tokenized_data['sentence']"
      ],
      "metadata": {
        "colab": {
          "base_uri": "https://localhost:8080/"
        },
        "id": "0dgv0jVDyC0e",
        "outputId": "2921e5ee-bee0-4f3d-a0ff-ba9a173b1f6e"
      },
      "execution_count": 9,
      "outputs": [
        {
          "output_type": "execute_result",
          "data": {
            "text/plain": [
              "0           रहने दो तुम रेस्ट करो।दीप्ति - ठीक है डार्लिंग\n",
              "1        मैं आज एक हिजड़े से चूत चुदवा कर वो खुशी पा चुक...\n",
              "2        मेरी प्रियंका दीदी के ऊपरी बदन का तो और भी बुर...\n",
              "3        मुझे आंटी की बातों का मर्म ये समझ में आया कि इ...\n",
              "4                                       सब तुम्हारी वजह से\n",
              "                               ...                        \n",
              "27249    तुमसे ज्यादा हॉट है और तुमसे ज्यादा हुस्न वाली...\n",
              "27250                               वो जोर से सिसकारने लगी\n",
              "27251    मैंने किशन से कहा कि ये तेल उंगली में लेकर मेर...\n",
              "27252    और लबलबा रही थी… मानो चीख चीख कर लंड माँग रही ...\n",
              "27253             आपको ये भाभी सेक्स कहानी पसंद आई या नहीं\n",
              "Name: sentence, Length: 27254, dtype: object"
            ]
          },
          "metadata": {},
          "execution_count": 9
        }
      ]
    },
    {
      "cell_type": "markdown",
      "source": [
        "FastText is an open-source, state-of-the-art word embedding technique developed by Facebook's AI Research (FAIR) that has been particularly effective in handling languages like Hindi. FastText goes beyond traditional word embeddings by considering subword information. This is especially beneficial for languages with complex morphology and rich word formation, such as Hindi. FastText operates by breaking down words into smaller subword units called \"n-grams,\" which could be character-level or even smaller, like character trigrams or four-grams. By capturing these subword units, FastText can represent words as a sum of their constituent subword embeddings. This enables the model to handle out-of-vocabulary words, a common challenge in morphologically rich languages.\n",
        "\n",
        "For Hindi, FastText embeddings offer several advantages. They can effectively capture the semantics and context of words, even if those words are rare or unseen in the training data. This makes FastText a powerful tool for natural language processing tasks in Hindi, such as sentiment analysis, machine translation, and document classification. Researchers and developers often use pre-trained FastText embeddings for Hindi, which are available for download, to jumpstart their projects. By leveraging these embeddings, they can significantly enhance the performance of NLP models on Hindi text, making FastText a valuable resource for Hindi language processing and understanding."
      ],
      "metadata": {
        "id": "30ovzlMGrsaz"
      }
    },
    {
      "cell_type": "code",
      "source": [
        "!pip install fasttext"
      ],
      "metadata": {
        "colab": {
          "base_uri": "https://localhost:8080/"
        },
        "id": "16EH7BVyzlEA",
        "outputId": "7dbeafdb-982c-4d55-e92c-7ec9465f4b5c"
      },
      "execution_count": 10,
      "outputs": [
        {
          "output_type": "stream",
          "name": "stdout",
          "text": [
            "Collecting fasttext\n",
            "  Downloading fasttext-0.9.2.tar.gz (68 kB)\n",
            "\u001b[?25l     \u001b[90m━━━━━━━━━━━━━━━━━━━━━━━━━━━━━━━━━━━━━━━━\u001b[0m \u001b[32m0.0/68.8 kB\u001b[0m \u001b[31m?\u001b[0m eta \u001b[36m-:--:--\u001b[0m\r\u001b[2K     \u001b[90m━━━━━━━━━━━━━━━━━━━━━━━━━━━━━━━━━━━━━━━━\u001b[0m \u001b[32m68.8/68.8 kB\u001b[0m \u001b[31m2.3 MB/s\u001b[0m eta \u001b[36m0:00:00\u001b[0m\n",
            "\u001b[?25h  Preparing metadata (setup.py) ... \u001b[?25l\u001b[?25hdone\n",
            "Collecting pybind11>=2.2 (from fasttext)\n",
            "  Using cached pybind11-2.11.1-py3-none-any.whl (227 kB)\n",
            "Requirement already satisfied: setuptools>=0.7.0 in /usr/local/lib/python3.10/dist-packages (from fasttext) (67.7.2)\n",
            "Requirement already satisfied: numpy in /usr/local/lib/python3.10/dist-packages (from fasttext) (1.23.5)\n",
            "Building wheels for collected packages: fasttext\n",
            "  Building wheel for fasttext (setup.py) ... \u001b[?25l\u001b[?25hdone\n",
            "  Created wheel for fasttext: filename=fasttext-0.9.2-cp310-cp310-linux_x86_64.whl size=4199771 sha256=1c5c92c870210f43055990a4c8c332bfbbeaf230801e2eaacb33abad3538212b\n",
            "  Stored in directory: /root/.cache/pip/wheels/a5/13/75/f811c84a8ab36eedbaef977a6a58a98990e8e0f1967f98f394\n",
            "Successfully built fasttext\n",
            "Installing collected packages: pybind11, fasttext\n",
            "Successfully installed fasttext-0.9.2 pybind11-2.11.1\n"
          ]
        }
      ]
    },
    {
      "cell_type": "code",
      "source": [
        "!wget https://dl.fbaipublicfiles.com/fasttext/vectors-crawl/cc.hi.300.bin.gz"
      ],
      "metadata": {
        "colab": {
          "base_uri": "https://localhost:8080/"
        },
        "id": "WlKCSKhF3DXB",
        "outputId": "84cc6cc3-1dbe-4a14-ad08-6abf3d156bc2"
      },
      "execution_count": 11,
      "outputs": [
        {
          "output_type": "stream",
          "name": "stdout",
          "text": [
            "--2023-10-28 17:30:42--  https://dl.fbaipublicfiles.com/fasttext/vectors-crawl/cc.hi.300.bin.gz\n",
            "Resolving dl.fbaipublicfiles.com (dl.fbaipublicfiles.com)... 3.163.24.87, 3.163.24.51, 3.163.24.93, ...\n",
            "Connecting to dl.fbaipublicfiles.com (dl.fbaipublicfiles.com)|3.163.24.87|:443... connected.\n",
            "HTTP request sent, awaiting response... 200 OK\n",
            "Length: 4371554972 (4.1G) [application/octet-stream]\n",
            "Saving to: ‘cc.hi.300.bin.gz’\n",
            "\n",
            "cc.hi.300.bin.gz    100%[===================>]   4.07G   175MB/s    in 23s     \n",
            "\n",
            "2023-10-28 17:31:05 (179 MB/s) - ‘cc.hi.300.bin.gz’ saved [4371554972/4371554972]\n",
            "\n"
          ]
        }
      ]
    },
    {
      "cell_type": "code",
      "source": [
        "!gunzip cc.hi.300.bin.gz"
      ],
      "metadata": {
        "id": "qVsbFC0A3V6v"
      },
      "execution_count": 12,
      "outputs": []
    },
    {
      "cell_type": "code",
      "source": [
        "# import fasttext\n",
        "\n",
        "# # Load the fastText model\n",
        "# model_path = 'cc.hi.300.bin'\n",
        "# ft = fasttext.load_model(model_path)\n",
        "\n",
        "# # Define a function to get the fastText embeddings for a sentence\n",
        "# def get_sentence_embeddings(sentence):\n",
        "#     # Use the fastText model to get sentence embeddings\n",
        "#     embedding = ft.get_sentence_vector(sentence)\n",
        "#     return embedding\n",
        "\n",
        "\n",
        "\n",
        "# # Apply the embedding function to each sentence in the DataFrame\n",
        "# tokenized_data['embedding'] = tokenized_data['sentence'].apply(get_sentence_embeddings)\n",
        "\n",
        "# # Now, df contains sentence embeddings in the 'embedding' column\n",
        "# print(tokenized_data)\n"
      ],
      "metadata": {
        "colab": {
          "base_uri": "https://localhost:8080/"
        },
        "id": "nvBSZtF24QUW",
        "outputId": "9722ecf3-1e86-4a0f-fc87-15b418c810ec"
      },
      "execution_count": null,
      "outputs": [
        {
          "output_type": "stream",
          "name": "stderr",
          "text": [
            "Warning : `load_model` does not return WordVectorModel or SupervisedModel any more, but a `FastText` object which is very similar.\n"
          ]
        },
        {
          "output_type": "stream",
          "name": "stdout",
          "text": [
            "                                                sentence  label  \\\n",
            "0             रहने तुम रेस्ट करो । दीप्ति - ठीक डार्लिंग      1   \n",
            "1                 मैं आज हिजड़े चूत चुदवा वो खुशी पा चुकी      1   \n",
            "2                   मेरी प्रियंका दीदी ऊपरी बदन बुरा हाल      1   \n",
            "3      मुझे आंटी बातों मर्म समझ आया सब गुस्से वजह रात...      1   \n",
            "4                                        सब तुम्हारी वजह      0   \n",
            "...                                                  ...    ...   \n",
            "27052  तुमसे ज्यादा हॉट तुमसे ज्यादा हुस्न वाली । सेक...      1   \n",
            "27053                                वो जोर सिसकारने लगी      0   \n",
            "27054      मैंने किशन तेल उंगली लेकर मेरी गांड अन्दर लगा      1   \n",
            "27055  लबलबा रही थी… चीख चीख लंड माँग रही । मेरी रूपा...      1   \n",
            "27056                      आपको भाभी सेक्स कहानी पसंद आई      1   \n",
            "\n",
            "                                               embedding  \n",
            "0      [-0.005927444, -0.038019452, 0.058730066, 0.01...  \n",
            "1      [0.0040530004, -0.07248137, 0.014240338, -0.01...  \n",
            "2      [0.016548015, -0.056799635, 0.055843595, 4.532...  \n",
            "3      [-0.02205274, -0.07949906, 0.04177191, 0.01211...  \n",
            "4      [0.005723194, -0.11241563, -0.013619993, 0.010...  \n",
            "...                                                  ...  \n",
            "27052  [-0.0062860674, -0.035024516, 0.028184963, 0.0...  \n",
            "27053  [-0.02357255, -0.06010562, 0.063375965, -0.022...  \n",
            "27054  [-0.016162643, -0.028356519, 0.05148187, 0.027...  \n",
            "27055  [0.02696366, -0.033749055, 0.03329916, 0.01336...  \n",
            "27056  [0.022650523, -0.08317428, 0.025835428, 0.0688...  \n",
            "\n",
            "[27057 rows x 3 columns]\n"
          ]
        }
      ]
    },
    {
      "cell_type": "code",
      "source": [
        "# tokenized_data[\"embedding\"]"
      ],
      "metadata": {
        "colab": {
          "base_uri": "https://localhost:8080/"
        },
        "id": "xmXo7dID5bMI",
        "outputId": "c8908259-78cb-499e-b1a3-daadcad4a252"
      },
      "execution_count": null,
      "outputs": [
        {
          "output_type": "execute_result",
          "data": {
            "text/plain": [
              "0        [-0.005927444, -0.038019452, 0.058730066, 0.01...\n",
              "1        [0.0040530004, -0.07248137, 0.014240338, -0.01...\n",
              "2        [0.016548015, -0.056799635, 0.055843595, 4.532...\n",
              "3        [-0.02205274, -0.07949906, 0.04177191, 0.01211...\n",
              "4        [0.005723194, -0.11241563, -0.013619993, 0.010...\n",
              "                               ...                        \n",
              "27052    [-0.0062860674, -0.035024516, 0.028184963, 0.0...\n",
              "27053    [-0.02357255, -0.06010562, 0.063375965, -0.022...\n",
              "27054    [-0.016162643, -0.028356519, 0.05148187, 0.027...\n",
              "27055    [0.02696366, -0.033749055, 0.03329916, 0.01336...\n",
              "27056    [0.022650523, -0.08317428, 0.025835428, 0.0688...\n",
              "Name: embedding, Length: 27057, dtype: object"
            ]
          },
          "metadata": {},
          "execution_count": 15
        }
      ]
    },
    {
      "cell_type": "markdown",
      "source": [
        "# Model Selection"
      ],
      "metadata": {
        "id": "ceGgBtWe57QS"
      }
    },
    {
      "cell_type": "markdown",
      "source": [
        "## Logisitic regression"
      ],
      "metadata": {
        "id": "15KVzsfgSy2V"
      }
    },
    {
      "cell_type": "markdown",
      "source": [
        "I first employed a basic logistic regression classifier to test the model's classification performance. After splitting the dataset into training and testing sets using `train_test_split`, I used the training data's 'embedding' and 'label' columns. I converted the embeddings to NumPy arrays for compatibility with the classifier and then fitted the logistic regression model to the training data. Following this, I used the trained classifier to predict labels on the test data. The model achieved an accuracy of 85% on the test set, as indicated by the `accuracy_score`. Additionally, I obtained a classification report that provides a detailed breakdown of precision, recall, and F1-score for both classes, further assessing the model's performance.\n",
        "\n",
        "The results suggest that this initial logistic regression model demonstrates good accuracy, which is promising for the task at hand. Further experimentation and optimization may be beneficial to improve performance, but this baseline accuracy of 71% provides a solid starting point for the classification task."
      ],
      "metadata": {
        "id": "ELNurGear-Mg"
      }
    },
    {
      "cell_type": "code",
      "source": [
        "from sklearn.feature_extraction.text import CountVectorizer\n",
        "from sklearn.linear_model import LogisticRegression\n",
        "from sklearn.metrics import accuracy_score, classification_report\n",
        "from sklearn.model_selection import train_test_split\n",
        "\n",
        "# Assuming you have already split your data into train and test sets as you did earlier\n",
        "# You need to use the 'sentence' column for text data and the 'label' column for labels.\n",
        "\n",
        "# Split the data into training and testing sets\n",
        "train_data, test_data = train_test_split(tokenized_data, test_size=0.2, random_state=42)\n",
        "\n",
        "# Define your features (X) and labels (y)\n",
        "X_train = train_data['sentence']\n",
        "y_train = train_data['label']\n",
        "X_test = test_data['sentence']\n",
        "y_test = test_data['label']\n",
        "\n",
        "# Create a CountVectorizer to convert text data to numerical features\n",
        "vectorizer = CountVectorizer(max_features=10000)  # You can adjust the number of features as needed\n",
        "X_train_vectorized = vectorizer.fit_transform(X_train)\n",
        "X_test_vectorized = vectorizer.transform(X_test)\n",
        "\n",
        "# Create a logistic regression model\n",
        "logistic_model = LogisticRegression()\n",
        "\n",
        "\n",
        "# Fit the model on the training data\n",
        "logistic_model.fit(X_train_vectorized, y_train)\n",
        "\n",
        "# Predict the labels on the test data\n",
        "y_pred = logistic_model.predict(X_test_vectorized)\n",
        "\n",
        "# Calculate accuracy and print a classification report\n",
        "accuracy = accuracy_score(y_test, y_pred)\n",
        "report = classification_report(y_test, y_pred)\n",
        "\n",
        "print(f\"Accuracy: {accuracy*100}%\")\n",
        "print(report)\n"
      ],
      "metadata": {
        "colab": {
          "base_uri": "https://localhost:8080/"
        },
        "id": "kBXENHLZR2s4",
        "outputId": "4681b206-67b7-4fac-c581-0283e0cb2380"
      },
      "execution_count": 16,
      "outputs": [
        {
          "output_type": "stream",
          "name": "stdout",
          "text": [
            "Accuracy: 71.326362135388%\n",
            "              precision    recall  f1-score   support\n",
            "\n",
            "           0       0.69      0.77      0.73      2743\n",
            "           1       0.74      0.65      0.69      2708\n",
            "\n",
            "    accuracy                           0.71      5451\n",
            "   macro avg       0.72      0.71      0.71      5451\n",
            "weighted avg       0.72      0.71      0.71      5451\n",
            "\n"
          ]
        },
        {
          "output_type": "stream",
          "name": "stderr",
          "text": [
            "/usr/local/lib/python3.10/dist-packages/sklearn/linear_model/_logistic.py:458: ConvergenceWarning: lbfgs failed to converge (status=1):\n",
            "STOP: TOTAL NO. of ITERATIONS REACHED LIMIT.\n",
            "\n",
            "Increase the number of iterations (max_iter) or scale the data as shown in:\n",
            "    https://scikit-learn.org/stable/modules/preprocessing.html\n",
            "Please also refer to the documentation for alternative solver options:\n",
            "    https://scikit-learn.org/stable/modules/linear_model.html#logistic-regression\n",
            "  n_iter_i = _check_optimize_result(\n"
          ]
        }
      ]
    },
    {
      "cell_type": "markdown",
      "source": [
        "## FastText - model by Facebook\n",
        "\n",
        "\n"
      ],
      "metadata": {
        "id": "45fH-ppeTWBU"
      }
    },
    {
      "cell_type": "markdown",
      "source": [
        "I used FastText, a model developed by Facebook, to perform text classification. The code loads test data from a file and evaluates the model's predictions against true labels, calculating accuracy, precision, recall, and F1 score using scikit-learn's metrics. The model extracts true labels and makes predictions, removing '__label__' prefixes for comparison. These metrics provide valuable insights into the model's performance in text classification, making it a comprehensive evaluation process. FastText is a powerful tool for such tasks, and this code demonstrates how to apply it effectively."
      ],
      "metadata": {
        "id": "fnx8AOPHDNS9"
      }
    },
    {
      "cell_type": "code",
      "source": [
        "df = tokenized_data\n",
        "# First, split the dataset into training and testing sets\n",
        "train_df, test_df = train_test_split(df, test_size=0.15, random_state=42)  # Adjust the test_size as needed\n",
        "\n",
        "# Define the file paths for the train and test files\n",
        "train_file_path = \"train.txt\"\n",
        "test_file_path = \"test.txt\"\n",
        "\n",
        "# Write the training data to the train.txt file in the FastText format\n",
        "with open(train_file_path, 'w', encoding='utf-8') as train_file:\n",
        "    for index, row in train_df.iterrows():\n",
        "        sentence = row['sentence']\n",
        "        label = row['label']\n",
        "        train_file.write(f\"__label__{label} {sentence}\\n\")\n",
        "\n",
        "# Write the testing data to the test.txt file in the FastText format\n",
        "with open(test_file_path, 'w', encoding='utf-8') as test_file:\n",
        "    for index, row in test_df.iterrows():\n",
        "        sentence = row['sentence']\n",
        "        label = row['label']\n",
        "        test_file.write(f\"__label__{label} {sentence}\\n\")"
      ],
      "metadata": {
        "id": "mOwRXmm3iGd3"
      },
      "execution_count": 17,
      "outputs": []
    },
    {
      "cell_type": "code",
      "source": [
        "import fasttext\n",
        "model = fasttext.train_supervised(input='train.txt')\n"
      ],
      "metadata": {
        "id": "DkESvqT1j-pQ"
      },
      "execution_count": 18,
      "outputs": []
    },
    {
      "cell_type": "code",
      "source": [
        "# Load the test data\n",
        "test_data = 'test.txt'  # Replace with the path to your test data file\n",
        "\n",
        "# Initialize variables for tracking evaluation metrics\n",
        "true_labels = []\n",
        "predicted_labels = []\n",
        "\n",
        "# Evaluate the model on the test data\n",
        "with open(test_data, 'r', encoding='utf-8') as test_file:\n",
        "    for line in test_file:\n",
        "        parts = line.strip().split(' ', 1)\n",
        "        if len(parts) == 2:\n",
        "            label, sentence = parts\n",
        "            true_labels.append(label[9:])  # Extract the true label (remove '__label__')\n",
        "            prediction = model.predict(sentence.strip())  # Get model's prediction\n",
        "            predicted_labels.append(prediction[0][0][9:])  # Extract the predicted label (remove '__label__')\n",
        "\n",
        "# Calculate evaluation metrics\n",
        "from sklearn.metrics import accuracy_score, precision_score, recall_score, f1_score\n",
        "\n",
        "accuracy = accuracy_score(true_labels, predicted_labels)\n",
        "precision = precision_score(true_labels, predicted_labels, average='weighted')\n",
        "recall = recall_score(true_labels, predicted_labels, average='weighted')\n",
        "f1 = f1_score(true_labels, predicted_labels, average='weighted')\n",
        "\n",
        "# Print evaluation metrics\n",
        "print(f\"Accuracy: {accuracy}\")\n",
        "print(f\"Precision: {precision}\")\n",
        "print(f\"Recall: {recall}\")\n",
        "print(f\"F1 Score: {f1}\")\n"
      ],
      "metadata": {
        "colab": {
          "base_uri": "https://localhost:8080/"
        },
        "id": "FkufUNGakKVR",
        "outputId": "7859b519-6746-4750-9561-2a02ba3a8e94"
      },
      "execution_count": 19,
      "outputs": [
        {
          "output_type": "stream",
          "name": "stdout",
          "text": [
            "Accuracy: 0.9814135485448765\n",
            "Precision: 0.9816321606520968\n",
            "Recall: 0.9814135485448765\n",
            "F1 Score: 0.9814090953522737\n"
          ]
        }
      ]
    },
    {
      "cell_type": "markdown",
      "source": [
        "## Naive Bayes"
      ],
      "metadata": {
        "id": "s5aOP9Y8lPB9"
      }
    },
    {
      "cell_type": "markdown",
      "source": [
        "In the code provided, I used a technique called \"Count Vectorization,\" often referred to as \"tf-idf,\" to process text data. Imagine we have a collection of sentences, and we want to understand the importance of each word in those sentences. Count Vectorization helps by creating a list of all unique words and counting how many times each word appears in each sentence. This process converts text data into a numerical format that machine learning models can understand. It allows the model to learn patterns and make predictions based on the frequency of words. In simpler terms, it's like turning words into numbers to teach the computer how to understand and classify text data."
      ],
      "metadata": {
        "id": "zeJpoOcpEUs3"
      }
    },
    {
      "cell_type": "code",
      "source": [
        "from sklearn.model_selection import train_test_split\n",
        "from sklearn.naive_bayes import MultinomialNB\n",
        "from sklearn.feature_extraction.text import CountVectorizer\n",
        "from sklearn.pipeline import Pipeline\n",
        "from sklearn.metrics import accuracy_score, classification_report\n",
        "\n",
        "# Assuming you have already split your data into train and test sets as you did earlier\n",
        "# You need to use the 'sentence' column for text data and the 'label' column for labels.\n",
        "\n",
        "# Split the data into training and testing sets\n",
        "train_data, test_data = train_test_split(tokenized_data, test_size=0.2, random_state=42)\n",
        "\n",
        "# Define your features (X) and labels (y)\n",
        "X_train = train_data['sentence']\n",
        "y_train = train_data['label']\n",
        "X_test = test_data['sentence']\n",
        "y_test = test_data['label']\n",
        "\n",
        "# Create a pipeline with Count Vectorization and Multinomial Naive Bayes\n",
        "text_clf = Pipeline([\n",
        "    ('vectorizer', CountVectorizer()),  # You can customize vectorization options here\n",
        "    ('classifier', MultinomialNB())\n",
        "])\n",
        "\n",
        "# Fit the model\n",
        "text_clf.fit(X_train, y_train)\n",
        "\n",
        "# Predict the labels\n",
        "y_pred = text_clf.predict(X_test)\n",
        "\n",
        "# Calculate accuracy and print a classification report\n",
        "accuracy = accuracy_score(y_test, y_pred)\n",
        "report = classification_report(y_test, y_pred)\n",
        "\n",
        "print(f\"Accuracy: {accuracy*100}%\")\n",
        "print(report)\n"
      ],
      "metadata": {
        "colab": {
          "base_uri": "https://localhost:8080/"
        },
        "id": "EAOYDFk6keBt",
        "outputId": "afc2313e-0d0d-4a40-c0c8-ce9b43ce2dae"
      },
      "execution_count": 20,
      "outputs": [
        {
          "output_type": "stream",
          "name": "stdout",
          "text": [
            "Accuracy: 65.76774903687397%\n",
            "              precision    recall  f1-score   support\n",
            "\n",
            "           0       0.69      0.59      0.63      2743\n",
            "           1       0.64      0.73      0.68      2708\n",
            "\n",
            "    accuracy                           0.66      5451\n",
            "   macro avg       0.66      0.66      0.66      5451\n",
            "weighted avg       0.66      0.66      0.66      5451\n",
            "\n"
          ]
        }
      ]
    },
    {
      "cell_type": "markdown",
      "source": [
        "## Decision tree classification"
      ],
      "metadata": {
        "id": "_UUwxQQtNND_"
      }
    },
    {
      "cell_type": "code",
      "source": [
        "from sklearn.model_selection import train_test_split\n",
        "from sklearn.tree import DecisionTreeClassifier\n",
        "from sklearn.feature_extraction.text import TfidfVectorizer\n",
        "from sklearn.metrics import accuracy_score, classification_report\n",
        "\n",
        "# Assuming you have already split your data into train and test sets as you did earlier\n",
        "# You need to use the 'sentence' column for text data and the 'label' column for labels.\n",
        "\n",
        "# Split the data into training and testing sets\n",
        "train_data, test_data = train_test_split(tokenized_data, test_size=0.2, random_state=42)\n",
        "\n",
        "# Define your features (X) and labels (y)\n",
        "X_train = train_data['sentence']\n",
        "y_train = train_data['label']\n",
        "X_test = test_data['sentence']\n",
        "y_test = test_data['label']\n",
        "\n",
        "# Create a pipeline with TF-IDF Vectorization and Decision Tree Classifier\n",
        "text_clf = Pipeline([\n",
        "    ('vectorizer', TfidfVectorizer()),  # You can customize vectorization options here\n",
        "    ('classifier', DecisionTreeClassifier())\n",
        "])\n",
        "\n",
        "# Fit the model\n",
        "text_clf.fit(X_train, y_train)\n",
        "\n",
        "# Predict the labels\n",
        "y_pred = text_clf.predict(X_test)\n",
        "\n",
        "# Calculate accuracy and print a classification report\n",
        "accuracy = accuracy_score(y_test, y_pred)\n",
        "report = classification_report(y_test, y_pred)\n",
        "\n",
        "print(f\"Accuracy: {accuracy*100}%\")\n",
        "print(report)\n"
      ],
      "metadata": {
        "colab": {
          "base_uri": "https://localhost:8080/"
        },
        "id": "CVeilwZDm8uV",
        "outputId": "0e56e664-d23d-4b9d-bfd8-ee44fb0d2739"
      },
      "execution_count": 21,
      "outputs": [
        {
          "output_type": "stream",
          "name": "stdout",
          "text": [
            "Accuracy: 63.32782975600807%\n",
            "              precision    recall  f1-score   support\n",
            "\n",
            "           0       0.63      0.66      0.64      2743\n",
            "           1       0.64      0.61      0.62      2708\n",
            "\n",
            "    accuracy                           0.63      5451\n",
            "   macro avg       0.63      0.63      0.63      5451\n",
            "weighted avg       0.63      0.63      0.63      5451\n",
            "\n"
          ]
        }
      ]
    },
    {
      "cell_type": "markdown",
      "source": [
        "##  CNN"
      ],
      "metadata": {
        "id": "jyJTaXYKNm1e"
      }
    },
    {
      "cell_type": "code",
      "source": [
        "import tensorflow as tf\n",
        "from tensorflow.keras.models import Sequential\n",
        "from tensorflow.keras.layers import Embedding, Conv1D, GlobalMaxPooling1D, Dense, Dropout\n",
        "from tensorflow.keras.preprocessing.text import Tokenizer\n",
        "from tensorflow.keras.preprocessing.sequence import pad_sequences\n",
        "from sklearn.metrics import accuracy_score, classification_report\n",
        "from sklearn.model_selection import train_test_split\n",
        "\n",
        "# Assuming you have already split your data into train and test sets as you did earlier\n",
        "# You need to use the 'sentence' column for text data and the 'label' column for labels.\n",
        "\n",
        "# Split the data into training and testing sets\n",
        "train_data, test_data = train_test_split(tokenized_data, test_size=0.2, random_state=42)\n",
        "\n",
        "# Define your features (X) and labels (y)\n",
        "X_train = train_data['sentence']\n",
        "y_train = train_data['label']\n",
        "X_test = test_data['sentence']\n",
        "y_test = test_data['label']\n",
        "\n",
        "# Tokenize the text data and convert it to sequences\n",
        "max_sequence_length = 100  # Adjust based on the desired sequence length\n",
        "tokenizer = Tokenizer()\n",
        "tokenizer.fit_on_texts(X_train)\n",
        "X_train_sequences = tokenizer.texts_to_sequences(X_train)\n",
        "X_test_sequences = tokenizer.texts_to_sequences(X_test)\n",
        "\n",
        "# Pad sequences to ensure consistent input size\n",
        "X_train_padded = pad_sequences(X_train_sequences, maxlen=max_sequence_length, padding='post')\n",
        "X_test_padded = pad_sequences(X_test_sequences, maxlen=max_sequence_length, padding='post')\n",
        "\n",
        "# Create a CNN model\n",
        "model = Sequential()\n",
        "model.add(Embedding(input_dim=len(tokenizer.word_index) + 1, output_dim=300, input_length=max_sequence_length))\n",
        "model.add(Conv1D(128, 5, activation='relu'))\n",
        "model.add(GlobalMaxPooling1D())\n",
        "model.add(Dense(64, activation='relu'))\n",
        "model.add(Dropout(0.2))\n",
        "model.add(Dense(1, activation='sigmoid'))\n",
        "\n",
        "# Compile the model\n",
        "model.compile(optimizer='adam', loss='binary_crossentropy', metrics=['accuracy'])\n",
        "\n",
        "# Train the model\n",
        "model.fit(X_train_padded, y_train, epochs=5, batch_size=64)\n",
        "\n",
        "# Evaluate the model\n",
        "y_pred = model.predict(X_test_padded)\n",
        "y_pred_binary = [1 if pred > 0.5 else 0 for pred in y_pred]\n",
        "\n",
        "accuracy = accuracy_score(y_test, y_pred_binary)\n",
        "report = classification_report(y_test, y_pred_binary)\n",
        "\n",
        "print(f\"Accuracy: {accuracy*100}%\")\n",
        "print(report)\n"
      ],
      "metadata": {
        "colab": {
          "base_uri": "https://localhost:8080/"
        },
        "id": "W5WSSeJxNUEp",
        "outputId": "ef909e3c-323d-4cd2-9444-a537882126af"
      },
      "execution_count": 22,
      "outputs": [
        {
          "output_type": "stream",
          "name": "stdout",
          "text": [
            "Epoch 1/5\n",
            "341/341 [==============================] - 48s 102ms/step - loss: 0.1467 - accuracy: 0.9413\n",
            "Epoch 2/5\n",
            "341/341 [==============================] - 10s 30ms/step - loss: 0.0223 - accuracy: 0.9937\n",
            "Epoch 3/5\n",
            "341/341 [==============================] - 7s 20ms/step - loss: 0.0041 - accuracy: 0.9989\n",
            "Epoch 4/5\n",
            "341/341 [==============================] - 5s 14ms/step - loss: 0.0024 - accuracy: 0.9993\n",
            "Epoch 5/5\n",
            "341/341 [==============================] - 4s 11ms/step - loss: 0.0016 - accuracy: 0.9995\n",
            "171/171 [==============================] - 1s 3ms/step\n",
            "Accuracy: 98.45899834892681%\n",
            "              precision    recall  f1-score   support\n",
            "\n",
            "           0       0.99      0.98      0.98      2743\n",
            "           1       0.98      0.99      0.98      2708\n",
            "\n",
            "    accuracy                           0.98      5451\n",
            "   macro avg       0.98      0.98      0.98      5451\n",
            "weighted avg       0.98      0.98      0.98      5451\n",
            "\n"
          ]
        }
      ]
    },
    {
      "cell_type": "code",
      "source": [
        "X_train"
      ],
      "metadata": {
        "colab": {
          "base_uri": "https://localhost:8080/"
        },
        "id": "Bni1VZqKuGDZ",
        "outputId": "08acf804-2413-4b91-f543-235c92ed3e6e"
      },
      "execution_count": 23,
      "outputs": [
        {
          "output_type": "execute_result",
          "data": {
            "text/plain": [
              "7889     फिर थोड़ी देर बिना कोई हरकत किए ऐसे ही में पड़...\n",
              "1443     इस रिश्ते को सम्पूर्ण करने के लिए आज रात पति प...\n",
              "19548    मेरे गांव जाने के लिए शहर से 18 किलोमीटर एक छो...\n",
              "12789    यहां मैं आपको बता दूँ कि मोनाली को गांड में लं...\n",
              "11480    डैनी _ बेबी उस रोज कि तरह डांस करो ना ताकि मेर...\n",
              "                               ...                        \n",
              "21575        मगर हम दोनों खुल्लम खुल्ला चुदाई किया करते थे\n",
              "5390     चौधरी जी ने अपना मोटा लंड मेरी गांड में डाला औ...\n",
              "860                वो मुझसे कई बार काम भी बता दिया करती थी\n",
              "15795    और फिर एक दिन बाथरूम में उसे नंगी नहाते हुए दे...\n",
              "23654    <span;>वो मेरी आंखों में देख रही थी। <span;>मै...\n",
              "Name: sentence, Length: 21803, dtype: object"
            ]
          },
          "metadata": {},
          "execution_count": 23
        }
      ]
    },
    {
      "cell_type": "code",
      "source": [
        "len(X_train_padded[0])"
      ],
      "metadata": {
        "colab": {
          "base_uri": "https://localhost:8080/"
        },
        "id": "0LzWy4ZBu0CD",
        "outputId": "1ce2a004-8c90-46df-b28a-3ce707e02c6c"
      },
      "execution_count": 24,
      "outputs": [
        {
          "output_type": "execute_result",
          "data": {
            "text/plain": [
              "100"
            ]
          },
          "metadata": {},
          "execution_count": 24
        }
      ]
    },
    {
      "cell_type": "markdown",
      "source": [
        "##XG BOOST"
      ],
      "metadata": {
        "id": "1NtM3yOQQhdO"
      }
    },
    {
      "cell_type": "code",
      "source": [
        "import xgboost as xgb\n",
        "from sklearn.feature_extraction.text import TfidfVectorizer\n",
        "from sklearn.metrics import accuracy_score, classification_report\n",
        "from sklearn.model_selection import train_test_split\n",
        "\n",
        "# Assuming you have already split your data into train and test sets as you did earlier\n",
        "# You need to use the 'sentence' column for text data and the 'label' column for labels.\n",
        "\n",
        "# Split the data into training and testing sets\n",
        "train_data, test_data = train_test_split(tokenized_data, test_size=0.2, random_state=42)\n",
        "\n",
        "# Define your features (X) and labels (y)\n",
        "X_train = train_data['sentence']\n",
        "y_train = train_data['label']\n",
        "X_test = test_data['sentence']\n",
        "y_test = test_data['label']\n",
        "\n",
        "# Convert text data to TF-IDF features\n",
        "tfidf_vectorizer = TfidfVectorizer(max_features=10000)  # You can adjust the max_features as needed\n",
        "X_train_tfidf = tfidf_vectorizer.fit_transform(X_train)\n",
        "X_test_tfidf = tfidf_vectorizer.transform(X_test)\n",
        "\n",
        "# Create an XGBoost classifier\n",
        "xgb_model = xgb.XGBClassifier()\n",
        "\n",
        "# Train the model\n",
        "xgb_model.fit(X_train_tfidf, y_train)\n",
        "\n",
        "# Predict the labels\n",
        "y_pred = xgb_model.predict(X_test_tfidf)\n",
        "\n",
        "# Calculate accuracy and print a classification report\n",
        "accuracy = accuracy_score(y_test, y_pred)\n",
        "report = classification_report(y_test, y_pred)\n",
        "\n",
        "print(f\"Accuracy: {accuracy*100}%\")\n",
        "print(report)\n"
      ],
      "metadata": {
        "colab": {
          "base_uri": "https://localhost:8080/"
        },
        "id": "So9mZFEBPSxr",
        "outputId": "5118aa1c-cca5-4e2c-d964-9c775c8db08e"
      },
      "execution_count": 25,
      "outputs": [
        {
          "output_type": "stream",
          "name": "stdout",
          "text": [
            "Accuracy: 69.52852687580261%\n",
            "              precision    recall  f1-score   support\n",
            "\n",
            "           0       0.68      0.73      0.71      2743\n",
            "           1       0.71      0.66      0.68      2708\n",
            "\n",
            "    accuracy                           0.70      5451\n",
            "   macro avg       0.70      0.70      0.69      5451\n",
            "weighted avg       0.70      0.70      0.69      5451\n",
            "\n"
          ]
        }
      ]
    },
    {
      "cell_type": "code",
      "source": [],
      "metadata": {
        "id": "sm2-LbwoZhT3"
      },
      "execution_count": null,
      "outputs": []
    }
  ]
}